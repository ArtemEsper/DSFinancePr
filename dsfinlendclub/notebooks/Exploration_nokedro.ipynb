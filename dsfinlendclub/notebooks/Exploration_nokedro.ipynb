{
 "cells": [
  {
   "cell_type": "code",
   "execution_count": 2,
   "id": "2c4824a9",
   "metadata": {
    "ExecuteTime": {
     "end_time": "2025-03-24T14:20:26.265907Z",
     "start_time": "2025-03-24T10:31:24.128573Z"
    }
   },
   "outputs": [
    {
     "data": {
      "text/plain": "   Unnamed: 0.1  Unnamed: 0         id  loan_amnt  funded_amnt  \\\n0       1746494       25450  167338079     4000.0       4000.0   \n1       2370717       81861   71016917    24000.0      24000.0   \n2       2264870      397109   39589826     5000.0       5000.0   \n3        595422       15492  134798709    24000.0      24000.0   \n4        562657       90591  127097355    14000.0      14000.0   \n\n   funded_amnt_inv        term int_rate  installment grade  ...  \\\n0           4000.0   36 months   13.08%       134.93     B  ...   \n1          24000.0   60 months    9.16%       500.07     B  ...   \n2           5000.0   36 months   10.49%       162.49     B  ...   \n3          24000.0   60 months   11.05%       522.42     B  ...   \n4          14000.0   60 months   13.59%       322.79     C  ...   \n\n  hardship_start_date hardship_end_date payment_plan_start_date  \\\n0                 NaN               NaN                     NaN   \n1                 NaN               NaN                     NaN   \n2                 NaN               NaN                     NaN   \n3                 NaN               NaN                     NaN   \n4                 NaN               NaN                     NaN   \n\n  hardship_length  hardship_dpd hardship_loan_status  \\\n0             NaN           NaN                  NaN   \n1             NaN           NaN                  NaN   \n2             NaN           NaN                  NaN   \n3             NaN           NaN                  NaN   \n4             NaN           NaN                  NaN   \n\n  orig_projected_additional_accrued_interest hardship_payoff_balance_amount  \\\n0                                        NaN                            NaN   \n1                                        NaN                            NaN   \n2                                        NaN                            NaN   \n3                                        NaN                            NaN   \n4                                        NaN                            NaN   \n\n  hardship_last_payment_amount debt_settlement_flag  \n0                          NaN                    N  \n1                          NaN                    N  \n2                          NaN                    N  \n3                          NaN                    N  \n4                          NaN                    N  \n\n[5 rows x 143 columns]",
      "text/html": "<div>\n<style scoped>\n    .dataframe tbody tr th:only-of-type {\n        vertical-align: middle;\n    }\n\n    .dataframe tbody tr th {\n        vertical-align: top;\n    }\n\n    .dataframe thead th {\n        text-align: right;\n    }\n</style>\n<table border=\"1\" class=\"dataframe\">\n  <thead>\n    <tr style=\"text-align: right;\">\n      <th></th>\n      <th>Unnamed: 0.1</th>\n      <th>Unnamed: 0</th>\n      <th>id</th>\n      <th>loan_amnt</th>\n      <th>funded_amnt</th>\n      <th>funded_amnt_inv</th>\n      <th>term</th>\n      <th>int_rate</th>\n      <th>installment</th>\n      <th>grade</th>\n      <th>...</th>\n      <th>hardship_start_date</th>\n      <th>hardship_end_date</th>\n      <th>payment_plan_start_date</th>\n      <th>hardship_length</th>\n      <th>hardship_dpd</th>\n      <th>hardship_loan_status</th>\n      <th>orig_projected_additional_accrued_interest</th>\n      <th>hardship_payoff_balance_amount</th>\n      <th>hardship_last_payment_amount</th>\n      <th>debt_settlement_flag</th>\n    </tr>\n  </thead>\n  <tbody>\n    <tr>\n      <th>0</th>\n      <td>1746494</td>\n      <td>25450</td>\n      <td>167338079</td>\n      <td>4000.0</td>\n      <td>4000.0</td>\n      <td>4000.0</td>\n      <td>36 months</td>\n      <td>13.08%</td>\n      <td>134.93</td>\n      <td>B</td>\n      <td>...</td>\n      <td>NaN</td>\n      <td>NaN</td>\n      <td>NaN</td>\n      <td>NaN</td>\n      <td>NaN</td>\n      <td>NaN</td>\n      <td>NaN</td>\n      <td>NaN</td>\n      <td>NaN</td>\n      <td>N</td>\n    </tr>\n    <tr>\n      <th>1</th>\n      <td>2370717</td>\n      <td>81861</td>\n      <td>71016917</td>\n      <td>24000.0</td>\n      <td>24000.0</td>\n      <td>24000.0</td>\n      <td>60 months</td>\n      <td>9.16%</td>\n      <td>500.07</td>\n      <td>B</td>\n      <td>...</td>\n      <td>NaN</td>\n      <td>NaN</td>\n      <td>NaN</td>\n      <td>NaN</td>\n      <td>NaN</td>\n      <td>NaN</td>\n      <td>NaN</td>\n      <td>NaN</td>\n      <td>NaN</td>\n      <td>N</td>\n    </tr>\n    <tr>\n      <th>2</th>\n      <td>2264870</td>\n      <td>397109</td>\n      <td>39589826</td>\n      <td>5000.0</td>\n      <td>5000.0</td>\n      <td>5000.0</td>\n      <td>36 months</td>\n      <td>10.49%</td>\n      <td>162.49</td>\n      <td>B</td>\n      <td>...</td>\n      <td>NaN</td>\n      <td>NaN</td>\n      <td>NaN</td>\n      <td>NaN</td>\n      <td>NaN</td>\n      <td>NaN</td>\n      <td>NaN</td>\n      <td>NaN</td>\n      <td>NaN</td>\n      <td>N</td>\n    </tr>\n    <tr>\n      <th>3</th>\n      <td>595422</td>\n      <td>15492</td>\n      <td>134798709</td>\n      <td>24000.0</td>\n      <td>24000.0</td>\n      <td>24000.0</td>\n      <td>60 months</td>\n      <td>11.05%</td>\n      <td>522.42</td>\n      <td>B</td>\n      <td>...</td>\n      <td>NaN</td>\n      <td>NaN</td>\n      <td>NaN</td>\n      <td>NaN</td>\n      <td>NaN</td>\n      <td>NaN</td>\n      <td>NaN</td>\n      <td>NaN</td>\n      <td>NaN</td>\n      <td>N</td>\n    </tr>\n    <tr>\n      <th>4</th>\n      <td>562657</td>\n      <td>90591</td>\n      <td>127097355</td>\n      <td>14000.0</td>\n      <td>14000.0</td>\n      <td>14000.0</td>\n      <td>60 months</td>\n      <td>13.59%</td>\n      <td>322.79</td>\n      <td>C</td>\n      <td>...</td>\n      <td>NaN</td>\n      <td>NaN</td>\n      <td>NaN</td>\n      <td>NaN</td>\n      <td>NaN</td>\n      <td>NaN</td>\n      <td>NaN</td>\n      <td>NaN</td>\n      <td>NaN</td>\n      <td>N</td>\n    </tr>\n  </tbody>\n</table>\n<p>5 rows × 143 columns</p>\n</div>"
     },
     "execution_count": 3,
     "metadata": {},
     "output_type": "execute_result"
    },
    {
     "name": "stdout",
     "output_type": "stream",
     "text": [
      "(2925493, 142)\n",
      "<class 'pandas.core.frame.DataFrame'>\n",
      "RangeIndex: 2925493 entries, 0 to 2925492\n",
      "Columns: 142 entries, Unnamed: 0 to debt_settlement_flag\n",
      "dtypes: float64(106), int64(1), object(35)\n",
      "memory usage: 3.1+ GB\n",
      "None\n"
     ]
    }
   ],
   "source": [
    "import pandas as pd\n",
    "\n",
    "df = pd.read_csv(\"/Users/macbook/Documents/GitHub/DSfinProject/dsfinlendclub/data/01_raw/Loan_status_2007-2020Q3.csv\", low_memory=False)\n",
    "print(df.shape)  # Check dataset dimensions\n",
    "print(df.info())  # Check data types and missing values\n"
   ]
  },
  {
   "cell_type": "markdown",
   "source": [
    "### Exploration"
   ],
   "metadata": {
    "collapsed": false
   }
  },
  {
   "cell_type": "code",
   "execution_count": 17,
   "id": "35beb0e6",
   "metadata": {
    "ExecuteTime": {
     "end_time": "2025-03-24T11:29:06.347114Z",
     "start_time": "2025-03-24T11:29:06.145701Z"
    }
   },
   "outputs": [
    {
     "name": "stdout",
     "output_type": "stream",
     "text": [
      "✅ Columns to keep (less than 60% missing):\n",
      "['Unnamed: 0.1', 'Unnamed: 0', 'id', 'loan_amnt', 'funded_amnt', 'funded_amnt_inv', 'term', 'int_rate', 'installment', 'grade', 'sub_grade', 'emp_title', 'emp_length', 'home_ownership', 'annual_inc', 'verification_status', 'issue_d', 'loan_status', 'pymnt_plan', 'url', 'purpose', 'title', 'zip_code', 'addr_state', 'dti', 'delinq_2yrs', 'earliest_cr_line', 'fico_range_low', 'fico_range_high', 'inq_last_6mths', 'mths_since_last_delinq', 'open_acc', 'pub_rec', 'revol_bal', 'revol_util', 'total_acc', 'initial_list_status', 'out_prncp', 'out_prncp_inv', 'total_pymnt', 'total_pymnt_inv', 'total_rec_prncp', 'total_rec_int', 'total_rec_late_fee', 'recoveries', 'collection_recovery_fee', 'last_pymnt_d', 'last_pymnt_amnt', 'last_credit_pull_d', 'last_fico_range_high', 'last_fico_range_low', 'collections_12_mths_ex_med', 'policy_code', 'application_type', 'acc_now_delinq', 'tot_coll_amt', 'tot_cur_bal', 'open_acc_6m', 'open_act_il', 'open_il_12m', 'open_il_24m', 'mths_since_rcnt_il', 'total_bal_il', 'il_util', 'open_rv_12m', 'open_rv_24m', 'max_bal_bc', 'all_util', 'total_rev_hi_lim', 'inq_fi', 'total_cu_tl', 'inq_last_12m', 'acc_open_past_24mths', 'avg_cur_bal', 'bc_open_to_buy', 'bc_util', 'chargeoff_within_12_mths', 'delinq_amnt', 'mo_sin_old_il_acct', 'mo_sin_old_rev_tl_op', 'mo_sin_rcnt_rev_tl_op', 'mo_sin_rcnt_tl', 'mort_acc', 'mths_since_recent_bc', 'mths_since_recent_inq', 'num_accts_ever_120_pd', 'num_actv_bc_tl', 'num_actv_rev_tl', 'num_bc_sats', 'num_bc_tl', 'num_il_tl', 'num_op_rev_tl', 'num_rev_accts', 'num_rev_tl_bal_gt_0', 'num_sats', 'num_tl_120dpd_2m', 'num_tl_30dpd', 'num_tl_90g_dpd_24m', 'num_tl_op_past_12m', 'pct_tl_nvr_dlq', 'percent_bc_gt_75', 'pub_rec_bankruptcies', 'tax_liens', 'tot_hi_cred_lim', 'total_bal_ex_mort', 'total_bc_limit', 'total_il_high_credit_limit', 'hardship_flag', 'debt_settlement_flag']\n",
      "\n",
      "🚫 Columns to drop (60% or more missing):\n",
      "['mths_since_last_record', 'next_pymnt_d', 'mths_since_last_major_derog', 'annual_inc_joint', 'dti_joint', 'verification_status_joint', 'mths_since_recent_bc_dlq', 'mths_since_recent_revol_delinq', 'revol_bal_joint', 'sec_app_fico_range_low', 'sec_app_fico_range_high', 'sec_app_earliest_cr_line', 'sec_app_inq_last_6mths', 'sec_app_mort_acc', 'sec_app_open_acc', 'sec_app_revol_util', 'sec_app_open_act_il', 'sec_app_num_rev_accts', 'sec_app_chargeoff_within_12_mths', 'sec_app_collections_12_mths_ex_med', 'hardship_type', 'hardship_reason', 'hardship_status', 'deferral_term', 'hardship_amount', 'hardship_start_date', 'hardship_end_date', 'payment_plan_start_date', 'hardship_length', 'hardship_dpd', 'hardship_loan_status', 'orig_projected_additional_accrued_interest', 'hardship_payoff_balance_amount', 'hardship_last_payment_amount']\n"
     ]
    }
   ],
   "source": [
    "# Drop columns with too many missing values\n",
    "missing_threshold = 0.6  # Set 60% as a threshold\n",
    "df = df[df.columns[df.isnull().mean() < missing_threshold]]\n",
    "\n",
    "# Fill numeric columns with median\n",
    "num_cols = df.select_dtypes(include=['number']).columns\n",
    "df[num_cols] = df[num_cols].fillna(df[num_cols].median())\n",
    "\n",
    "# Fill categorical columns with \"Unknown\"\n",
    "cat_cols = df.select_dtypes(include=['object']).columns\n",
    "df[cat_cols] = df[cat_cols].fillna(\"Unknown\")\n"
   ]
  },
  {
   "cell_type": "code",
   "execution_count": 18,
   "outputs": [
    {
     "data": {
      "text/plain": "          id  loan_amnt  funded_amnt  funded_amnt_inv        term int_rate  \\\n0  167338079     4000.0       4000.0           4000.0   36 months   13.08%   \n1   71016917    24000.0      24000.0          24000.0   60 months    9.16%   \n2   39589826     5000.0       5000.0           5000.0   36 months   10.49%   \n3  134798709    24000.0      24000.0          24000.0   60 months   11.05%   \n4  127097355    14000.0      14000.0          14000.0   60 months   13.59%   \n\n   installment grade sub_grade       emp_title  ... pct_tl_nvr_dlq  \\\n0       134.93     B        B5         cashier  ...           75.0   \n1       500.07     B        B2             ABM  ...           95.8   \n2       162.49     B        B3          driver  ...          100.0   \n3       522.42     B        B4             NaN  ...           95.7   \n4       322.79     C        C2  Shipping Clerk  ...          100.0   \n\n  percent_bc_gt_75  pub_rec_bankruptcies tax_liens tot_hi_cred_lim  \\\n0              NaN                   1.0       0.0        395328.0   \n1             60.0                   0.0       0.0         88154.0   \n2             33.3                   0.0       1.0        171118.0   \n3              0.0                   0.0       0.0        202606.0   \n4              0.0                   0.0       0.0        152081.0   \n\n  total_bal_ex_mort total_bc_limit total_il_high_credit_limit hardship_flag  \\\n0           11948.0            0.0                    17928.0             N   \n1           61815.0        13000.0                    52954.0             N   \n2           13124.0        10000.0                     7526.0             N   \n3           18520.0        49000.0                    20000.0             N   \n4           34847.0        28800.0                    38181.0             N   \n\n  debt_settlement_flag  \n0                    N  \n1                    N  \n2                    N  \n3                    N  \n4                    N  \n\n[5 rows x 107 columns]",
      "text/html": "<div>\n<style scoped>\n    .dataframe tbody tr th:only-of-type {\n        vertical-align: middle;\n    }\n\n    .dataframe tbody tr th {\n        vertical-align: top;\n    }\n\n    .dataframe thead th {\n        text-align: right;\n    }\n</style>\n<table border=\"1\" class=\"dataframe\">\n  <thead>\n    <tr style=\"text-align: right;\">\n      <th></th>\n      <th>id</th>\n      <th>loan_amnt</th>\n      <th>funded_amnt</th>\n      <th>funded_amnt_inv</th>\n      <th>term</th>\n      <th>int_rate</th>\n      <th>installment</th>\n      <th>grade</th>\n      <th>sub_grade</th>\n      <th>emp_title</th>\n      <th>...</th>\n      <th>pct_tl_nvr_dlq</th>\n      <th>percent_bc_gt_75</th>\n      <th>pub_rec_bankruptcies</th>\n      <th>tax_liens</th>\n      <th>tot_hi_cred_lim</th>\n      <th>total_bal_ex_mort</th>\n      <th>total_bc_limit</th>\n      <th>total_il_high_credit_limit</th>\n      <th>hardship_flag</th>\n      <th>debt_settlement_flag</th>\n    </tr>\n  </thead>\n  <tbody>\n    <tr>\n      <th>0</th>\n      <td>167338079</td>\n      <td>4000.0</td>\n      <td>4000.0</td>\n      <td>4000.0</td>\n      <td>36 months</td>\n      <td>13.08%</td>\n      <td>134.93</td>\n      <td>B</td>\n      <td>B5</td>\n      <td>cashier</td>\n      <td>...</td>\n      <td>75.0</td>\n      <td>NaN</td>\n      <td>1.0</td>\n      <td>0.0</td>\n      <td>395328.0</td>\n      <td>11948.0</td>\n      <td>0.0</td>\n      <td>17928.0</td>\n      <td>N</td>\n      <td>N</td>\n    </tr>\n    <tr>\n      <th>1</th>\n      <td>71016917</td>\n      <td>24000.0</td>\n      <td>24000.0</td>\n      <td>24000.0</td>\n      <td>60 months</td>\n      <td>9.16%</td>\n      <td>500.07</td>\n      <td>B</td>\n      <td>B2</td>\n      <td>ABM</td>\n      <td>...</td>\n      <td>95.8</td>\n      <td>60.0</td>\n      <td>0.0</td>\n      <td>0.0</td>\n      <td>88154.0</td>\n      <td>61815.0</td>\n      <td>13000.0</td>\n      <td>52954.0</td>\n      <td>N</td>\n      <td>N</td>\n    </tr>\n    <tr>\n      <th>2</th>\n      <td>39589826</td>\n      <td>5000.0</td>\n      <td>5000.0</td>\n      <td>5000.0</td>\n      <td>36 months</td>\n      <td>10.49%</td>\n      <td>162.49</td>\n      <td>B</td>\n      <td>B3</td>\n      <td>driver</td>\n      <td>...</td>\n      <td>100.0</td>\n      <td>33.3</td>\n      <td>0.0</td>\n      <td>1.0</td>\n      <td>171118.0</td>\n      <td>13124.0</td>\n      <td>10000.0</td>\n      <td>7526.0</td>\n      <td>N</td>\n      <td>N</td>\n    </tr>\n    <tr>\n      <th>3</th>\n      <td>134798709</td>\n      <td>24000.0</td>\n      <td>24000.0</td>\n      <td>24000.0</td>\n      <td>60 months</td>\n      <td>11.05%</td>\n      <td>522.42</td>\n      <td>B</td>\n      <td>B4</td>\n      <td>NaN</td>\n      <td>...</td>\n      <td>95.7</td>\n      <td>0.0</td>\n      <td>0.0</td>\n      <td>0.0</td>\n      <td>202606.0</td>\n      <td>18520.0</td>\n      <td>49000.0</td>\n      <td>20000.0</td>\n      <td>N</td>\n      <td>N</td>\n    </tr>\n    <tr>\n      <th>4</th>\n      <td>127097355</td>\n      <td>14000.0</td>\n      <td>14000.0</td>\n      <td>14000.0</td>\n      <td>60 months</td>\n      <td>13.59%</td>\n      <td>322.79</td>\n      <td>C</td>\n      <td>C2</td>\n      <td>Shipping Clerk</td>\n      <td>...</td>\n      <td>100.0</td>\n      <td>0.0</td>\n      <td>0.0</td>\n      <td>0.0</td>\n      <td>152081.0</td>\n      <td>34847.0</td>\n      <td>28800.0</td>\n      <td>38181.0</td>\n      <td>N</td>\n      <td>N</td>\n    </tr>\n  </tbody>\n</table>\n<p>5 rows × 107 columns</p>\n</div>"
     },
     "execution_count": 18,
     "metadata": {},
     "output_type": "execute_result"
    }
   ],
   "source": [
    "df['issue_d'].head()"
   ],
   "metadata": {
    "collapsed": false,
    "ExecuteTime": {
     "end_time": "2025-03-24T11:29:12.014911Z",
     "start_time": "2025-03-24T11:29:11.948408Z"
    }
   }
  },
  {
   "cell_type": "code",
   "execution_count": 19,
   "outputs": [
    {
     "name": "stdout",
     "output_type": "stream",
     "text": [
      "[]\n"
     ]
    }
   ],
   "source": [
    "# Convert date columns\n",
    "format='%Y-%m-%d'\n",
    "\n",
    "df['earliest_cr_line'] = pd.to_datetime(df['earliest_cr_line'], format='%Y-%m-%d', errors='coerce')\n",
    "df['issue_d'] = pd.to_datetime(df['issue_d'], format='%Y-%m-%d', errors='coerce')\n",
    "\n",
    "\n",
    "# Add new features\n",
    "df = df.assign(\n",
    "    credit_history_length=(df['issue_d'] - df['earliest_cr_line']).dt.days / 365,\n",
    "    income_to_loan_ratio=df['annual_inc'] / df['loan_amnt'],\n",
    "    loan_utilization=df['revol_bal'] / df['total_rev_hi_lim'],\n",
    "    is_recent_delinquent=(df['mths_since_last_delinq'] < 12).astype(int)\n",
    ").copy()\n"
   ],
   "metadata": {
    "collapsed": false,
    "ExecuteTime": {
     "end_time": "2025-03-24T11:29:30.985204Z",
     "start_time": "2025-03-24T11:29:30.951503Z"
    }
   }
  },
  {
   "cell_type": "code",
   "execution_count": 9,
   "outputs": [],
   "source": [
    "from sklearn.preprocessing import LabelEncoder\n",
    "\n",
    "# Ordinal encoding for loan grades\n",
    "grade_order = [\"A\", \"B\", \"C\", \"D\", \"E\", \"F\", \"G\"]\n",
    "df['grade'] = df['grade'].apply(lambda x: grade_order.index(x) if x in grade_order else -1)\n",
    "\n",
    "# One-hot encoding for categorical variables\n",
    "df = pd.get_dummies(df, columns=['home_ownership', 'purpose', 'addr_state'], drop_first=True)\n"
   ],
   "metadata": {
    "collapsed": false,
    "ExecuteTime": {
     "end_time": "2025-03-23T10:00:35.194440Z",
     "start_time": "2025-03-23T10:00:20.284733Z"
    }
   }
  },
  {
   "cell_type": "markdown",
   "source": [
    "### Exploratory Data Analysis (EDA)"
   ],
   "metadata": {
    "collapsed": false
   }
  },
  {
   "cell_type": "code",
   "execution_count": 10,
   "outputs": [
    {
     "data": {
      "text/plain": "<Figure size 1000x500 with 1 Axes>",
      "image/png": "[encoded data removed]"
     },
     "metadata": {},
     "output_type": "display_data"
    }
   ],
   "source": [
    "import matplotlib.pyplot as plt\n",
    "import seaborn as sns\n",
    "\n",
    "plt.figure(figsize=(10, 5))\n",
    "sns.boxplot(x=df[\"grade\"], y=df[\"loan_amnt\"])\n",
    "plt.title(\"Loan Amount by Grade\")\n",
    "plt.show()"
   ],
   "metadata": {
    "collapsed": false,
    "ExecuteTime": {
     "end_time": "2025-03-23T10:00:43.427141Z",
     "start_time": "2025-03-23T10:00:37.737863Z"
    }
   }
  },
  {
   "cell_type": "code",
   "execution_count": 11,
   "outputs": [
    {
     "data": {
      "text/plain": "    Unnamed: 0       id  loan_amnt  funded_amnt  funded_amnt_inv        term  \\\n4            4  1075358     3000.0       3000.0           3000.0   60 months   \n15          15  1069759     1000.0       1000.0           1000.0   36 months   \n17          17  1069971     3600.0       3600.0           3600.0   36 months   \n28          28  1069799     4000.0       4000.0           4000.0   36 months   \n42          42  1069314     3000.0       3000.0           3000.0   36 months   \n\n   int_rate  installment  grade sub_grade  ... addr_state_TN addr_state_TX  \\\n4    12.69%        67.79      1        B5  ...         False         False   \n15   16.29%        35.31      3        D1  ...         False         False   \n17    6.03%       109.57      0        A1  ...         False         False   \n28   11.71%       132.31      1        B3  ...         False         False   \n42   18.25%       108.84      3        D5  ...         False         False   \n\n    addr_state_UT addr_state_Unknown addr_state_VA addr_state_VT  \\\n4           False              False         False         False   \n15          False              False         False         False   \n17          False              False         False         False   \n28          False              False         False         False   \n42          False              False         False         False   \n\n   addr_state_WA addr_state_WI addr_state_WV addr_state_WY  \n4          False         False         False         False  \n15         False         False         False         False  \n17         False         False         False         False  \n28         False         False         False         False  \n42         False         False         False         False  \n\n[5 rows x 180 columns]",
      "text/html": "<div>\n<style scoped>\n    .dataframe tbody tr th:only-of-type {\n        vertical-align: middle;\n    }\n\n    .dataframe tbody tr th {\n        vertical-align: top;\n    }\n\n    .dataframe thead th {\n        text-align: right;\n    }\n</style>\n<table border=\"1\" class=\"dataframe\">\n  <thead>\n    <tr style=\"text-align: right;\">\n      <th></th>\n      <th>Unnamed: 0</th>\n      <th>id</th>\n      <th>loan_amnt</th>\n      <th>funded_amnt</th>\n      <th>funded_amnt_inv</th>\n      <th>term</th>\n      <th>int_rate</th>\n      <th>installment</th>\n      <th>grade</th>\n      <th>sub_grade</th>\n      <th>...</th>\n      <th>addr_state_TN</th>\n      <th>addr_state_TX</th>\n      <th>addr_state_UT</th>\n      <th>addr_state_Unknown</th>\n      <th>addr_state_VA</th>\n      <th>addr_state_VT</th>\n      <th>addr_state_WA</th>\n      <th>addr_state_WI</th>\n      <th>addr_state_WV</th>\n      <th>addr_state_WY</th>\n    </tr>\n  </thead>\n  <tbody>\n    <tr>\n      <th>4</th>\n      <td>4</td>\n      <td>1075358</td>\n      <td>3000.0</td>\n      <td>3000.0</td>\n      <td>3000.0</td>\n      <td>60 months</td>\n      <td>12.69%</td>\n      <td>67.79</td>\n      <td>1</td>\n      <td>B5</td>\n      <td>...</td>\n      <td>False</td>\n      <td>False</td>\n      <td>False</td>\n      <td>False</td>\n      <td>False</td>\n      <td>False</td>\n      <td>False</td>\n      <td>False</td>\n      <td>False</td>\n      <td>False</td>\n    </tr>\n    <tr>\n      <th>15</th>\n      <td>15</td>\n      <td>1069759</td>\n      <td>1000.0</td>\n      <td>1000.0</td>\n      <td>1000.0</td>\n      <td>36 months</td>\n      <td>16.29%</td>\n      <td>35.31</td>\n      <td>3</td>\n      <td>D1</td>\n      <td>...</td>\n      <td>False</td>\n      <td>False</td>\n      <td>False</td>\n      <td>False</td>\n      <td>False</td>\n      <td>False</td>\n      <td>False</td>\n      <td>False</td>\n      <td>False</td>\n      <td>False</td>\n    </tr>\n    <tr>\n      <th>17</th>\n      <td>17</td>\n      <td>1069971</td>\n      <td>3600.0</td>\n      <td>3600.0</td>\n      <td>3600.0</td>\n      <td>36 months</td>\n      <td>6.03%</td>\n      <td>109.57</td>\n      <td>0</td>\n      <td>A1</td>\n      <td>...</td>\n      <td>False</td>\n      <td>False</td>\n      <td>False</td>\n      <td>False</td>\n      <td>False</td>\n      <td>False</td>\n      <td>False</td>\n      <td>False</td>\n      <td>False</td>\n      <td>False</td>\n    </tr>\n    <tr>\n      <th>28</th>\n      <td>28</td>\n      <td>1069799</td>\n      <td>4000.0</td>\n      <td>4000.0</td>\n      <td>4000.0</td>\n      <td>36 months</td>\n      <td>11.71%</td>\n      <td>132.31</td>\n      <td>1</td>\n      <td>B3</td>\n      <td>...</td>\n      <td>False</td>\n      <td>False</td>\n      <td>False</td>\n      <td>False</td>\n      <td>False</td>\n      <td>False</td>\n      <td>False</td>\n      <td>False</td>\n      <td>False</td>\n      <td>False</td>\n    </tr>\n    <tr>\n      <th>42</th>\n      <td>42</td>\n      <td>1069314</td>\n      <td>3000.0</td>\n      <td>3000.0</td>\n      <td>3000.0</td>\n      <td>36 months</td>\n      <td>18.25%</td>\n      <td>108.84</td>\n      <td>3</td>\n      <td>D5</td>\n      <td>...</td>\n      <td>False</td>\n      <td>False</td>\n      <td>False</td>\n      <td>False</td>\n      <td>False</td>\n      <td>False</td>\n      <td>False</td>\n      <td>False</td>\n      <td>False</td>\n      <td>False</td>\n    </tr>\n  </tbody>\n</table>\n<p>5 rows × 180 columns</p>\n</div>"
     },
     "execution_count": 11,
     "metadata": {},
     "output_type": "execute_result"
    }
   ],
   "source": [
    "df[df['income_to_loan_ratio'] > 20].head()"
   ],
   "metadata": {
    "collapsed": false,
    "ExecuteTime": {
     "end_time": "2025-03-23T10:01:34.016623Z",
     "start_time": "2025-03-23T10:01:31.798680Z"
    }
   }
  },
  {
   "cell_type": "markdown",
   "source": [
    "### Model Development\n",
    " Define Target Variables\n",
    "Fraud Detection → fraud_flag (Derived from anomalies)\n",
    "Loan Default Prediction → loan_status\n",
    "Convert loan_status to binary: Charged Off, Default, and Late are 1, others are 0."
   ],
   "metadata": {
    "collapsed": false
   }
  },
  {
   "cell_type": "code",
   "execution_count": 12,
   "outputs": [],
   "source": [
    "df['loan_status'] = df['loan_status'].apply(lambda x: 1 if x in ['Charged Off', 'Default', 'Late'] else 0)"
   ],
   "metadata": {
    "collapsed": false,
    "ExecuteTime": {
     "end_time": "2025-03-23T10:01:58.384697Z",
     "start_time": "2025-03-23T10:01:57.341638Z"
    }
   }
  },
  {
   "cell_type": "code",
   "execution_count": 17,
   "outputs": [],
   "source": [
    "\n",
    "df['loan_utilization'] = df['loan_utilization'].fillna(df['loan_utilization'].median())\n",
    "df['credit_history_length'] = df['credit_history_length'].fillna(df['credit_history_length'].median())"
   ],
   "metadata": {
    "collapsed": false,
    "ExecuteTime": {
     "end_time": "2025-03-23T10:08:57.344524Z",
     "start_time": "2025-03-23T10:08:57.124027Z"
    }
   }
  },
  {
   "cell_type": "code",
   "execution_count": 18,
   "outputs": [],
   "source": [
    "from sklearn.model_selection import train_test_split\n",
    "\n",
    "X = df[['income_to_loan_ratio', 'loan_utilization', 'credit_history_length', 'grade']]\n",
    "y = df['loan_status']\n",
    "\n",
    "X_train, X_test, y_train, y_test = train_test_split(X, y, test_size=0.2, random_state=42)"
   ],
   "metadata": {
    "collapsed": false,
    "ExecuteTime": {
     "end_time": "2025-03-23T10:09:00.478439Z",
     "start_time": "2025-03-23T10:08:59.854135Z"
    }
   }
  },
  {
   "cell_type": "code",
   "execution_count": 19,
   "outputs": [
    {
     "data": {
      "text/plain": "income_to_loan_ratio     0\nloan_utilization         0\ncredit_history_length    0\ngrade                    0\ndtype: int64"
     },
     "execution_count": 19,
     "metadata": {},
     "output_type": "execute_result"
    }
   ],
   "source": [
    "X.isnull().sum()"
   ],
   "metadata": {
    "collapsed": false,
    "ExecuteTime": {
     "end_time": "2025-03-23T10:09:02.538173Z",
     "start_time": "2025-03-23T10:09:02.516092Z"
    }
   }
  },
  {
   "cell_type": "code",
   "execution_count": 20,
   "outputs": [
    {
     "name": "stdout",
     "output_type": "stream",
     "text": [
      "              precision    recall  f1-score   support\n",
      "\n",
      "           0       0.88      0.99      0.93    512422\n",
      "           1       0.32      0.04      0.08     72677\n",
      "\n",
      "    accuracy                           0.87    585099\n",
      "   macro avg       0.60      0.52      0.50    585099\n",
      "weighted avg       0.81      0.87      0.82    585099\n",
      "\n",
      "AUC Score: 0.5150468568467126\n"
     ]
    }
   ],
   "source": [
    "from sklearn.ensemble import RandomForestClassifier\n",
    "from sklearn.metrics import classification_report, roc_auc_score\n",
    "\n",
    "model = RandomForestClassifier(n_estimators=100, random_state=42)\n",
    "model.fit(X_train, y_train)\n",
    "\n",
    "y_pred = model.predict(X_test)\n",
    "print(classification_report(y_test, y_pred))\n",
    "print(\"AUC Score:\", roc_auc_score(y_test, y_pred))"
   ],
   "metadata": {
    "collapsed": false,
    "ExecuteTime": {
     "end_time": "2025-03-23T10:24:21.612850Z",
     "start_time": "2025-03-23T10:09:22.097939Z"
    }
   }
  },
  {
   "cell_type": "code",
   "execution_count": null,
   "outputs": [],
   "source": [
    "import shap\n",
    "\n",
    "explainer = shap.TreeExplainer(model)\n",
    "shap_values = explainer.shap_values(X_test)\n",
    "shap.summary_plot(shap_values, X_test)"
   ],
   "metadata": {
    "collapsed": false,
    "is_executing": true,
    "ExecuteTime": {
     "start_time": "2025-03-23T10:24:21.611402Z"
    }
   }
  },
  {
   "cell_type": "markdown",
   "source": [
    "### Evaluation"
   ],
   "metadata": {
    "collapsed": false
   }
  },
  {
   "cell_type": "code",
   "execution_count": null,
   "outputs": [],
   "source": [
    "import numpy as np\n",
    "\n",
    "df['model_pred'] = model.predict(X)\n",
    "df[['grade', 'loan_status', 'model_pred']].groupby('grade').mean()"
   ],
   "metadata": {
    "collapsed": false,
    "is_executing": true
   }
  },
  {
   "cell_type": "code",
   "execution_count": null,
   "outputs": [],
   "source": [],
   "metadata": {
    "collapsed": false
   }
  }
 ],
 "metadata": {
  "kernelspec": {
   "display_name": "Python 3 (ipykernel)",
   "language": "python",
   "name": "python3"
  },
  "language_info": {
   "codemirror_mode": {
    "name": "ipython",
    "version": 3
   },
   "file_extension": ".py",
   "mimetype": "text/x-python",
   "name": "python",
   "nbconvert_exporter": "python",
   "pygments_lexer": "ipython3",
   "version": "3.9.21"
  }
 },
 "nbformat": 4,
 "nbformat_minor": 5
}
