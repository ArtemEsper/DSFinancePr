{
 "cells": [
  {
   "cell_type": "code",
   "execution_count": 9,
   "metadata": {
    "collapsed": true,
    "ExecuteTime": {
     "end_time": "2025-03-24T15:37:56.818066Z",
     "start_time": "2025-03-24T15:28:18.304690Z"
    }
   },
   "outputs": [
    {
     "data": {
      "text/plain": "   Unnamed: 0.1  Unnamed: 0         id  loan_amnt  funded_amnt  \\\n0       1746494       25450  167338079     4000.0       4000.0   \n1       2370717       81861   71016917    24000.0      24000.0   \n2       2264870      397109   39589826     5000.0       5000.0   \n3        595422       15492  134798709    24000.0      24000.0   \n4        562657       90591  127097355    14000.0      14000.0   \n\n   funded_amnt_inv        term int_rate  installment grade  ...  \\\n0           4000.0   36 months   13.08%       134.93     B  ...   \n1          24000.0   60 months    9.16%       500.07     B  ...   \n2           5000.0   36 months   10.49%       162.49     B  ...   \n3          24000.0   60 months   11.05%       522.42     B  ...   \n4          14000.0   60 months   13.59%       322.79     C  ...   \n\n  hardship_start_date hardship_end_date payment_plan_start_date  \\\n0                 NaN               NaN                     NaN   \n1                 NaN               NaN                     NaN   \n2                 NaN               NaN                     NaN   \n3                 NaN               NaN                     NaN   \n4                 NaN               NaN                     NaN   \n\n  hardship_length  hardship_dpd hardship_loan_status  \\\n0             NaN           NaN                  NaN   \n1             NaN           NaN                  NaN   \n2             NaN           NaN                  NaN   \n3             NaN           NaN                  NaN   \n4             NaN           NaN                  NaN   \n\n  orig_projected_additional_accrued_interest hardship_payoff_balance_amount  \\\n0                                        NaN                            NaN   \n1                                        NaN                            NaN   \n2                                        NaN                            NaN   \n3                                        NaN                            NaN   \n4                                        NaN                            NaN   \n\n  hardship_last_payment_amount debt_settlement_flag  \n0                          NaN                    N  \n1                          NaN                    N  \n2                          NaN                    N  \n3                          NaN                    N  \n4                          NaN                    N  \n\n[5 rows x 143 columns]",
      "text/html": "<div>\n<style scoped>\n    .dataframe tbody tr th:only-of-type {\n        vertical-align: middle;\n    }\n\n    .dataframe tbody tr th {\n        vertical-align: top;\n    }\n\n    .dataframe thead th {\n        text-align: right;\n    }\n</style>\n<table border=\"1\" class=\"dataframe\">\n  <thead>\n    <tr style=\"text-align: right;\">\n      <th></th>\n      <th>Unnamed: 0.1</th>\n      <th>Unnamed: 0</th>\n      <th>id</th>\n      <th>loan_amnt</th>\n      <th>funded_amnt</th>\n      <th>funded_amnt_inv</th>\n      <th>term</th>\n      <th>int_rate</th>\n      <th>installment</th>\n      <th>grade</th>\n      <th>...</th>\n      <th>hardship_start_date</th>\n      <th>hardship_end_date</th>\n      <th>payment_plan_start_date</th>\n      <th>hardship_length</th>\n      <th>hardship_dpd</th>\n      <th>hardship_loan_status</th>\n      <th>orig_projected_additional_accrued_interest</th>\n      <th>hardship_payoff_balance_amount</th>\n      <th>hardship_last_payment_amount</th>\n      <th>debt_settlement_flag</th>\n    </tr>\n  </thead>\n  <tbody>\n    <tr>\n      <th>0</th>\n      <td>1746494</td>\n      <td>25450</td>\n      <td>167338079</td>\n      <td>4000.0</td>\n      <td>4000.0</td>\n      <td>4000.0</td>\n      <td>36 months</td>\n      <td>13.08%</td>\n      <td>134.93</td>\n      <td>B</td>\n      <td>...</td>\n      <td>NaN</td>\n      <td>NaN</td>\n      <td>NaN</td>\n      <td>NaN</td>\n      <td>NaN</td>\n      <td>NaN</td>\n      <td>NaN</td>\n      <td>NaN</td>\n      <td>NaN</td>\n      <td>N</td>\n    </tr>\n    <tr>\n      <th>1</th>\n      <td>2370717</td>\n      <td>81861</td>\n      <td>71016917</td>\n      <td>24000.0</td>\n      <td>24000.0</td>\n      <td>24000.0</td>\n      <td>60 months</td>\n      <td>9.16%</td>\n      <td>500.07</td>\n      <td>B</td>\n      <td>...</td>\n      <td>NaN</td>\n      <td>NaN</td>\n      <td>NaN</td>\n      <td>NaN</td>\n      <td>NaN</td>\n      <td>NaN</td>\n      <td>NaN</td>\n      <td>NaN</td>\n      <td>NaN</td>\n      <td>N</td>\n    </tr>\n    <tr>\n      <th>2</th>\n      <td>2264870</td>\n      <td>397109</td>\n      <td>39589826</td>\n      <td>5000.0</td>\n      <td>5000.0</td>\n      <td>5000.0</td>\n      <td>36 months</td>\n      <td>10.49%</td>\n      <td>162.49</td>\n      <td>B</td>\n      <td>...</td>\n      <td>NaN</td>\n      <td>NaN</td>\n      <td>NaN</td>\n      <td>NaN</td>\n      <td>NaN</td>\n      <td>NaN</td>\n      <td>NaN</td>\n      <td>NaN</td>\n      <td>NaN</td>\n      <td>N</td>\n    </tr>\n    <tr>\n      <th>3</th>\n      <td>595422</td>\n      <td>15492</td>\n      <td>134798709</td>\n      <td>24000.0</td>\n      <td>24000.0</td>\n      <td>24000.0</td>\n      <td>60 months</td>\n      <td>11.05%</td>\n      <td>522.42</td>\n      <td>B</td>\n      <td>...</td>\n      <td>NaN</td>\n      <td>NaN</td>\n      <td>NaN</td>\n      <td>NaN</td>\n      <td>NaN</td>\n      <td>NaN</td>\n      <td>NaN</td>\n      <td>NaN</td>\n      <td>NaN</td>\n      <td>N</td>\n    </tr>\n    <tr>\n      <th>4</th>\n      <td>562657</td>\n      <td>90591</td>\n      <td>127097355</td>\n      <td>14000.0</td>\n      <td>14000.0</td>\n      <td>14000.0</td>\n      <td>60 months</td>\n      <td>13.59%</td>\n      <td>322.79</td>\n      <td>C</td>\n      <td>...</td>\n      <td>NaN</td>\n      <td>NaN</td>\n      <td>NaN</td>\n      <td>NaN</td>\n      <td>NaN</td>\n      <td>NaN</td>\n      <td>NaN</td>\n      <td>NaN</td>\n      <td>NaN</td>\n      <td>N</td>\n    </tr>\n  </tbody>\n</table>\n<p>5 rows × 143 columns</p>\n</div>"
     },
     "execution_count": 9,
     "metadata": {},
     "output_type": "execute_result"
    }
   ],
   "source": [
    "import pandas as pd\n",
    "import category_encoders as ce\n",
    "\n",
    "df_sample = pd.read_csv(\"/Users/macbook/Documents/GitHub/DSfinProject/dsfinlendclub/data/01_raw/Loan_status_sample.csv\", low_memory=False)\n",
    "df_tot = pd.read_csv(\"/Users/macbook/Documents/GitHub/DSfinProject/dsfinlendclub/data/01_raw/Loan_status_2007-2020Q3.csv\", low_memory=False)\n",
    "df_sample.head(5)"
   ]
  },
  {
   "cell_type": "code",
   "execution_count": 2,
   "outputs": [
    {
     "name": "stdout",
     "output_type": "stream",
     "text": [
      "(100000, 143)\n",
      "<class 'pandas.core.frame.DataFrame'>\n",
      "RangeIndex: 100000 entries, 0 to 99999\n",
      "Columns: 143 entries, Unnamed: 0.1 to debt_settlement_flag\n",
      "dtypes: float64(106), int64(3), object(34)\n",
      "memory usage: 109.1+ MB\n",
      "None\n"
     ]
    }
   ],
   "source": [
    "print(df_sample.shape)  # Check dataset dimensions\n",
    "print(df_sample.info())  # Check data types and missing values"
   ],
   "metadata": {
    "collapsed": false,
    "ExecuteTime": {
     "end_time": "2025-03-24T15:10:13.262773Z",
     "start_time": "2025-03-24T15:10:13.260821Z"
    }
   }
  },
  {
   "cell_type": "markdown",
   "source": [
    "### Step 1: Deduplication based on id field"
   ],
   "metadata": {
    "collapsed": false
   }
  },
  {
   "cell_type": "markdown",
   "source": [
    "Initial deduplication check. Create a function 'check_and_remove_duplicates' to set into pipline"
   ],
   "metadata": {
    "collapsed": false
   }
  },
  {
   "cell_type": "code",
   "execution_count": 10,
   "outputs": [
    {
     "name": "stdout",
     "output_type": "stream",
     "text": [
      "No duplicates\n"
     ]
    }
   ],
   "source": [
    "# Removing duplicate rows\n",
    "df_deduped = df_tot.drop_duplicates(inplace=True)\n",
    "\n",
    "try:\n",
    "    df_deduped.shape # Note: it will fail if empty (i.e. no duplicates)\n",
    "except:\n",
    "    print(\"No duplicates\")"
   ],
   "metadata": {
    "collapsed": false,
    "ExecuteTime": {
     "end_time": "2025-03-24T15:38:26.313880Z",
     "start_time": "2025-03-24T15:37:56.806424Z"
    }
   }
  },
  {
   "cell_type": "markdown",
   "source": [
    "### Step 2: Handling missing values/feature engineering"
   ],
   "metadata": {
    "collapsed": false
   }
  },
  {
   "cell_type": "code",
   "execution_count": 11,
   "outputs": [
    {
     "data": {
      "text/plain": "hardship_loan_status       95.097886\nhardship_reason            95.090332\nhardship_status            95.090229\nhardship_dpd               95.090161\npayment_plan_start_date    95.090127\n                             ...    \nlast_pymnt_amnt             0.000034\nlast_fico_range_high        0.000034\nlast_fico_range_low         0.000034\npolicy_code                 0.000034\ndebt_settlement_flag        0.000034\nLength: 140, dtype: float64"
     },
     "execution_count": 11,
     "metadata": {},
     "output_type": "execute_result"
    }
   ],
   "source": [
    "# Checking for missing values\n",
    "missing_percentage = (df_tot.isnull().sum() / len(df_tot)) * 100\n",
    "missing_percentage[missing_percentage > 0].sort_values(ascending=False)"
   ],
   "metadata": {
    "collapsed": false,
    "ExecuteTime": {
     "end_time": "2025-03-24T15:45:06.515895Z",
     "start_time": "2025-03-24T15:45:00.306882Z"
    }
   }
  },
  {
   "cell_type": "markdown",
   "source": [
    "### Step 3. Remove unwanted columns.\n",
    "After dataset exploration we will remove specific columns. We will use 'drop_unwanted_columns' method in the pipelines.\n",
    "We will combine the columns into `columns_to_drop` list.\n",
    "Columns will be selected according to:\n",
    "- **business/problem relevance**: is the data relevant to the problem I am trying to solve (e.g. Do I need IDs?)\n",
    "- **high % of missing values**: especially if the data is not easily recoverable or imputation might introduce significant bias.\n",
    "- **little to no variance**: provide minimal information for the model and can be dropped.\n",
    "- **high correlation**: if two or more columns are highly correlated, they contain redundant information. You might drop one of them to reduce 'multicollinearity'.\n",
    "- **high cardinality**: Categorical columns with too many unique values (high cardinality) can lead to overfitting and increased computational cost. These can be dropped or encoded differently."
   ],
   "metadata": {
    "collapsed": false
   }
  },
  {
   "cell_type": "code",
   "execution_count": 20,
   "outputs": [],
   "source": [
    "def drop_unwanted_columns(x: pd.DataFrame, drop_list=None) -> pd.DataFrame:\n",
    "    \"\"\"\n",
    "    Drops unwanted columns from the DataFrame.\n",
    "\n",
    "    Parameters:\n",
    "        :param drop_list: List of column names to drop. Defaults to ['Unnamed: 0.1', 'Unnamed: 0'].\n",
    "        :param x: df (pd.DataFrame): The input DataFrame.\n",
    "\n",
    "    Returns:\n",
    "        pd.DataFrame: A new DataFrame with specified columns dropped.\n",
    "\n",
    "    \"\"\"\n",
    "    if drop_list is None:\n",
    "        drop_list = ['Unnamed: 0.1', 'Unnamed: 0']\n",
    "\n",
    "    return x.drop(columns=[col for col in drop_list if col in x.columns], axis=1)"
   ],
   "metadata": {
    "collapsed": false,
    "ExecuteTime": {
     "end_time": "2025-03-25T08:44:19.929103Z",
     "start_time": "2025-03-25T08:44:19.918307Z"
    }
   }
  },
  {
   "cell_type": "markdown",
   "source": [
    "# Dropping the columns which do not have a predictive power in most applications\n",
    "| Column                | Reason to Drop                                                                |\n",
    "|-----------------------|-------------------------------------------------------------------------------|\n",
    "| `id`                  | Unique loan identifier — no predictive value                                  |\n",
    "| `member_id`           | Internal LC user ID — unique, not informative                                 |\n",
    "| `funded_amnt_inv`     | Duplicate of `funded_amnt`, just investor's portion                           |\n",
    "| `policy_code`         | Always 1 in public data — constant, no variance                               |\n",
    "| `url`                 | Link to LC listing page                                                       |\n",
    "| `title`               | User-entered title for loan purpose — very noisy and redundant with `purpose` |\n",
    "| `zip_code`            | Partial ZIP only (first 3 digits) — privacy-limited, rarely useful            |\n",
    "| `emp_title`           | Messy text — you might drop it unless you're doing NLP (?)                    |\n",
    "| `pymnt_plan`          | Always `\"n\"` — constant value                                                 |\n",
    "| `application_type`    | Will be captured by `is_joint_app` flag (will appear below)                   |\n",
    "| `next_pymnt_d`        | Future date — only useful for post-loan monitoring, not origination modeling  |\n"
   ],
   "metadata": {
    "collapsed": false
   }
  },
  {
   "cell_type": "code",
   "execution_count": 33,
   "outputs": [
    {
     "data": {
      "text/plain": "   loan_amnt  funded_amnt        term int_rate  installment grade sub_grade  \\\n0     5000.0       5000.0   36 months   10.65%       162.87     B        B2   \n1     2500.0       2500.0   60 months   15.27%        59.83     C        C4   \n2     2400.0       2400.0   36 months   15.96%        84.33     C        C5   \n3    10000.0      10000.0   36 months   13.49%       339.31     C        C1   \n4     3000.0       3000.0   60 months   12.69%        67.79     B        B5   \n5     5000.0       5000.0   36 months    7.90%       156.46     A        A4   \n6     7000.0       7000.0   60 months   15.96%       170.08     C        C5   \n7     3000.0       3000.0   36 months   18.64%       109.43     E        E1   \n8     5600.0       5600.0   60 months   21.28%       152.39     F        F2   \n9     5375.0       5375.0   60 months   12.69%       121.45     B        B5   \n\n  emp_length home_ownership  annual_inc  ... payment_plan_start_date  \\\n0  10+ years           RENT     24000.0  ...                     NaN   \n1   < 1 year           RENT     30000.0  ...                     NaN   \n2  10+ years           RENT     12252.0  ...                     NaN   \n3  10+ years           RENT     49200.0  ...                     NaN   \n4     1 year           RENT     80000.0  ...                     NaN   \n5    3 years           RENT     36000.0  ...                     NaN   \n6    8 years           RENT     47004.0  ...                     NaN   \n7    9 years           RENT     48000.0  ...                     NaN   \n8    4 years            OWN     40000.0  ...                     NaN   \n9   < 1 year           RENT     15000.0  ...                     NaN   \n\n  hardship_length hardship_dpd hardship_loan_status  \\\n0             NaN          NaN                  NaN   \n1             NaN          NaN                  NaN   \n2             NaN          NaN                  NaN   \n3             NaN          NaN                  NaN   \n4             NaN          NaN                  NaN   \n5             NaN          NaN                  NaN   \n6             NaN          NaN                  NaN   \n7             NaN          NaN                  NaN   \n8             NaN          NaN                  NaN   \n9             NaN          NaN                  NaN   \n\n  orig_projected_additional_accrued_interest  hardship_payoff_balance_amount  \\\n0                                        NaN                             NaN   \n1                                        NaN                             NaN   \n2                                        NaN                             NaN   \n3                                        NaN                             NaN   \n4                                        NaN                             NaN   \n5                                        NaN                             NaN   \n6                                        NaN                             NaN   \n7                                        NaN                             NaN   \n8                                        NaN                             NaN   \n9                                        NaN                             NaN   \n\n   hardship_last_payment_amount debt_settlement_flag  hardship_status_filled  \\\n0                           NaN                    N             NO_HARDSHIP   \n1                           NaN                    N             NO_HARDSHIP   \n2                           NaN                    N             NO_HARDSHIP   \n3                           NaN                    N             NO_HARDSHIP   \n4                           NaN                    N             NO_HARDSHIP   \n5                           NaN                    N             NO_HARDSHIP   \n6                           NaN                    N             NO_HARDSHIP   \n7                           NaN                    N             NO_HARDSHIP   \n8                           NaN                    N             NO_HARDSHIP   \n9                           NaN                    N             NO_HARDSHIP   \n\n   is_joint_app  \n0             0  \n1             0  \n2             0  \n3             0  \n4             0  \n5             0  \n6             0  \n7             0  \n8             0  \n9             0  \n\n[10 rows x 133 columns]",
      "text/html": "<div>\n<style scoped>\n    .dataframe tbody tr th:only-of-type {\n        vertical-align: middle;\n    }\n\n    .dataframe tbody tr th {\n        vertical-align: top;\n    }\n\n    .dataframe thead th {\n        text-align: right;\n    }\n</style>\n<table border=\"1\" class=\"dataframe\">\n  <thead>\n    <tr style=\"text-align: right;\">\n      <th></th>\n      <th>loan_amnt</th>\n      <th>funded_amnt</th>\n      <th>term</th>\n      <th>int_rate</th>\n      <th>installment</th>\n      <th>grade</th>\n      <th>sub_grade</th>\n      <th>emp_length</th>\n      <th>home_ownership</th>\n      <th>annual_inc</th>\n      <th>...</th>\n      <th>payment_plan_start_date</th>\n      <th>hardship_length</th>\n      <th>hardship_dpd</th>\n      <th>hardship_loan_status</th>\n      <th>orig_projected_additional_accrued_interest</th>\n      <th>hardship_payoff_balance_amount</th>\n      <th>hardship_last_payment_amount</th>\n      <th>debt_settlement_flag</th>\n      <th>hardship_status_filled</th>\n      <th>is_joint_app</th>\n    </tr>\n  </thead>\n  <tbody>\n    <tr>\n      <th>0</th>\n      <td>5000.0</td>\n      <td>5000.0</td>\n      <td>36 months</td>\n      <td>10.65%</td>\n      <td>162.87</td>\n      <td>B</td>\n      <td>B2</td>\n      <td>10+ years</td>\n      <td>RENT</td>\n      <td>24000.0</td>\n      <td>...</td>\n      <td>NaN</td>\n      <td>NaN</td>\n      <td>NaN</td>\n      <td>NaN</td>\n      <td>NaN</td>\n      <td>NaN</td>\n      <td>NaN</td>\n      <td>N</td>\n      <td>NO_HARDSHIP</td>\n      <td>0</td>\n    </tr>\n    <tr>\n      <th>1</th>\n      <td>2500.0</td>\n      <td>2500.0</td>\n      <td>60 months</td>\n      <td>15.27%</td>\n      <td>59.83</td>\n      <td>C</td>\n      <td>C4</td>\n      <td>&lt; 1 year</td>\n      <td>RENT</td>\n      <td>30000.0</td>\n      <td>...</td>\n      <td>NaN</td>\n      <td>NaN</td>\n      <td>NaN</td>\n      <td>NaN</td>\n      <td>NaN</td>\n      <td>NaN</td>\n      <td>NaN</td>\n      <td>N</td>\n      <td>NO_HARDSHIP</td>\n      <td>0</td>\n    </tr>\n    <tr>\n      <th>2</th>\n      <td>2400.0</td>\n      <td>2400.0</td>\n      <td>36 months</td>\n      <td>15.96%</td>\n      <td>84.33</td>\n      <td>C</td>\n      <td>C5</td>\n      <td>10+ years</td>\n      <td>RENT</td>\n      <td>12252.0</td>\n      <td>...</td>\n      <td>NaN</td>\n      <td>NaN</td>\n      <td>NaN</td>\n      <td>NaN</td>\n      <td>NaN</td>\n      <td>NaN</td>\n      <td>NaN</td>\n      <td>N</td>\n      <td>NO_HARDSHIP</td>\n      <td>0</td>\n    </tr>\n    <tr>\n      <th>3</th>\n      <td>10000.0</td>\n      <td>10000.0</td>\n      <td>36 months</td>\n      <td>13.49%</td>\n      <td>339.31</td>\n      <td>C</td>\n      <td>C1</td>\n      <td>10+ years</td>\n      <td>RENT</td>\n      <td>49200.0</td>\n      <td>...</td>\n      <td>NaN</td>\n      <td>NaN</td>\n      <td>NaN</td>\n      <td>NaN</td>\n      <td>NaN</td>\n      <td>NaN</td>\n      <td>NaN</td>\n      <td>N</td>\n      <td>NO_HARDSHIP</td>\n      <td>0</td>\n    </tr>\n    <tr>\n      <th>4</th>\n      <td>3000.0</td>\n      <td>3000.0</td>\n      <td>60 months</td>\n      <td>12.69%</td>\n      <td>67.79</td>\n      <td>B</td>\n      <td>B5</td>\n      <td>1 year</td>\n      <td>RENT</td>\n      <td>80000.0</td>\n      <td>...</td>\n      <td>NaN</td>\n      <td>NaN</td>\n      <td>NaN</td>\n      <td>NaN</td>\n      <td>NaN</td>\n      <td>NaN</td>\n      <td>NaN</td>\n      <td>N</td>\n      <td>NO_HARDSHIP</td>\n      <td>0</td>\n    </tr>\n    <tr>\n      <th>5</th>\n      <td>5000.0</td>\n      <td>5000.0</td>\n      <td>36 months</td>\n      <td>7.90%</td>\n      <td>156.46</td>\n      <td>A</td>\n      <td>A4</td>\n      <td>3 years</td>\n      <td>RENT</td>\n      <td>36000.0</td>\n      <td>...</td>\n      <td>NaN</td>\n      <td>NaN</td>\n      <td>NaN</td>\n      <td>NaN</td>\n      <td>NaN</td>\n      <td>NaN</td>\n      <td>NaN</td>\n      <td>N</td>\n      <td>NO_HARDSHIP</td>\n      <td>0</td>\n    </tr>\n    <tr>\n      <th>6</th>\n      <td>7000.0</td>\n      <td>7000.0</td>\n      <td>60 months</td>\n      <td>15.96%</td>\n      <td>170.08</td>\n      <td>C</td>\n      <td>C5</td>\n      <td>8 years</td>\n      <td>RENT</td>\n      <td>47004.0</td>\n      <td>...</td>\n      <td>NaN</td>\n      <td>NaN</td>\n      <td>NaN</td>\n      <td>NaN</td>\n      <td>NaN</td>\n      <td>NaN</td>\n      <td>NaN</td>\n      <td>N</td>\n      <td>NO_HARDSHIP</td>\n      <td>0</td>\n    </tr>\n    <tr>\n      <th>7</th>\n      <td>3000.0</td>\n      <td>3000.0</td>\n      <td>36 months</td>\n      <td>18.64%</td>\n      <td>109.43</td>\n      <td>E</td>\n      <td>E1</td>\n      <td>9 years</td>\n      <td>RENT</td>\n      <td>48000.0</td>\n      <td>...</td>\n      <td>NaN</td>\n      <td>NaN</td>\n      <td>NaN</td>\n      <td>NaN</td>\n      <td>NaN</td>\n      <td>NaN</td>\n      <td>NaN</td>\n      <td>N</td>\n      <td>NO_HARDSHIP</td>\n      <td>0</td>\n    </tr>\n    <tr>\n      <th>8</th>\n      <td>5600.0</td>\n      <td>5600.0</td>\n      <td>60 months</td>\n      <td>21.28%</td>\n      <td>152.39</td>\n      <td>F</td>\n      <td>F2</td>\n      <td>4 years</td>\n      <td>OWN</td>\n      <td>40000.0</td>\n      <td>...</td>\n      <td>NaN</td>\n      <td>NaN</td>\n      <td>NaN</td>\n      <td>NaN</td>\n      <td>NaN</td>\n      <td>NaN</td>\n      <td>NaN</td>\n      <td>N</td>\n      <td>NO_HARDSHIP</td>\n      <td>0</td>\n    </tr>\n    <tr>\n      <th>9</th>\n      <td>5375.0</td>\n      <td>5375.0</td>\n      <td>60 months</td>\n      <td>12.69%</td>\n      <td>121.45</td>\n      <td>B</td>\n      <td>B5</td>\n      <td>&lt; 1 year</td>\n      <td>RENT</td>\n      <td>15000.0</td>\n      <td>...</td>\n      <td>NaN</td>\n      <td>NaN</td>\n      <td>NaN</td>\n      <td>NaN</td>\n      <td>NaN</td>\n      <td>NaN</td>\n      <td>NaN</td>\n      <td>N</td>\n      <td>NO_HARDSHIP</td>\n      <td>0</td>\n    </tr>\n  </tbody>\n</table>\n<p>10 rows × 133 columns</p>\n</div>"
     },
     "execution_count": 33,
     "metadata": {},
     "output_type": "execute_result"
    }
   ],
   "source": [
    "# noname columns\n",
    "delete_no_library_cols = ['Unnamed: 0.1', 'Unnamed: 0']\n",
    "# administrative columns\n",
    "descr_cols = [\n",
    "    'id', 'member_id', 'url', 'desc', 'title',\n",
    "    'zip_code', 'emp_title', 'policy_code', 'pymnt_plan',\n",
    "    'application_type', 'funded_amnt_inv', 'next_pymnt_d'\n",
    "]\n",
    "\n",
    "columns_to_drop = delete_no_library_cols.copy()\n",
    "columns_to_drop.extend(descr_cols)\n",
    "\n",
    "# Apply function from pipeline to delete columns\n",
    "df_tot = drop_unwanted_columns(df_tot,columns_to_drop)\n",
    "df_tot.head(10)"
   ],
   "metadata": {
    "collapsed": false,
    "ExecuteTime": {
     "end_time": "2025-03-25T11:05:34.950848Z",
     "start_time": "2025-03-25T11:05:34.586181Z"
    }
   }
  },
  {
   "cell_type": "code",
   "execution_count": 32,
   "outputs": [
    {
     "name": "stdout",
     "output_type": "stream",
     "text": [
      "✅ Columns with less than 80% missing:\n",
      "['loan_amnt', 'funded_amnt', 'term', 'int_rate', 'installment', 'grade', 'sub_grade', 'emp_length', 'home_ownership', 'annual_inc', 'verification_status', 'issue_d', 'loan_status', 'purpose', 'addr_state', 'dti', 'delinq_2yrs', 'earliest_cr_line', 'fico_range_low', 'fico_range_high', 'inq_last_6mths', 'mths_since_last_delinq', 'open_acc', 'pub_rec', 'revol_bal', 'revol_util', 'total_acc', 'initial_list_status', 'out_prncp', 'out_prncp_inv', 'total_pymnt', 'total_pymnt_inv', 'total_rec_prncp', 'total_rec_int', 'total_rec_late_fee', 'recoveries', 'collection_recovery_fee', 'last_pymnt_d', 'last_pymnt_amnt', 'last_credit_pull_d', 'last_fico_range_high', 'last_fico_range_low', 'collections_12_mths_ex_med', 'mths_since_last_major_derog', 'acc_now_delinq', 'tot_coll_amt', 'tot_cur_bal', 'open_acc_6m', 'open_act_il', 'open_il_12m', 'open_il_24m', 'mths_since_rcnt_il', 'total_bal_il', 'il_util', 'open_rv_12m', 'open_rv_24m', 'max_bal_bc', 'all_util', 'total_rev_hi_lim', 'inq_fi', 'total_cu_tl', 'inq_last_12m', 'acc_open_past_24mths', 'avg_cur_bal', 'bc_open_to_buy', 'bc_util', 'chargeoff_within_12_mths', 'delinq_amnt', 'mo_sin_old_il_acct', 'mo_sin_old_rev_tl_op', 'mo_sin_rcnt_rev_tl_op', 'mo_sin_rcnt_tl', 'mort_acc', 'mths_since_recent_bc', 'mths_since_recent_bc_dlq', 'mths_since_recent_inq', 'mths_since_recent_revol_delinq', 'num_accts_ever_120_pd', 'num_actv_bc_tl', 'num_actv_rev_tl', 'num_bc_sats', 'num_bc_tl', 'num_il_tl', 'num_op_rev_tl', 'num_rev_accts', 'num_rev_tl_bal_gt_0', 'num_sats', 'num_tl_120dpd_2m', 'num_tl_30dpd', 'num_tl_90g_dpd_24m', 'num_tl_op_past_12m', 'pct_tl_nvr_dlq', 'percent_bc_gt_75', 'pub_rec_bankruptcies', 'tax_liens', 'tot_hi_cred_lim', 'total_bal_ex_mort', 'total_bc_limit', 'total_il_high_credit_limit', 'hardship_flag', 'debt_settlement_flag', 'hardship_status_filled', 'is_joint_app']\n",
      "\n",
      "🚫 Columns with 80% or more missing:\n",
      "['mths_since_last_record', 'annual_inc_joint', 'dti_joint', 'verification_status_joint', 'revol_bal_joint', 'sec_app_fico_range_low', 'sec_app_fico_range_high', 'sec_app_earliest_cr_line', 'sec_app_inq_last_6mths', 'sec_app_mort_acc', 'sec_app_open_acc', 'sec_app_revol_util', 'sec_app_open_act_il', 'sec_app_num_rev_accts', 'sec_app_chargeoff_within_12_mths', 'sec_app_collections_12_mths_ex_med', 'hardship_type', 'hardship_reason', 'hardship_status', 'deferral_term', 'hardship_amount', 'hardship_start_date', 'hardship_end_date', 'payment_plan_start_date', 'hardship_length', 'hardship_dpd', 'hardship_loan_status', 'orig_projected_additional_accrued_interest', 'hardship_payoff_balance_amount', 'hardship_last_payment_amount']\n"
     ]
    }
   ],
   "source": [
    "# Set threshold\n",
    "missing_threshold = 0.8\n",
    "\n",
    "# Calculate missing value ratio\n",
    "missing_ratio = df_tot.isnull().mean()\n",
    "\n",
    "# Filter columns that have less than 80% missing values\n",
    "columns_to_keep = missing_ratio[missing_ratio < missing_threshold].index.tolist()\n",
    "\n",
    "# Print the columns that have less than 80% missing values\n",
    "print(\"✅ Columns with less than 80% missing:\")\n",
    "print(columns_to_keep)\n",
    "\n",
    "# Print columns with higher than 80% missing values\n",
    "columns_to_drop = missing_ratio[missing_ratio >= missing_threshold].index.tolist()\n",
    "print(\"\\n🚫 Columns with 80% or more missing:\")\n",
    "print(columns_to_drop)"
   ],
   "metadata": {
    "collapsed": false,
    "ExecuteTime": {
     "end_time": "2025-03-25T11:04:46.546671Z",
     "start_time": "2025-03-25T11:04:41.392876Z"
    }
   }
  },
  {
   "cell_type": "markdown",
   "source": [
    "### Feature engineering and missing values handling"
   ],
   "metadata": {
    "collapsed": false
   }
  },
  {
   "cell_type": "code",
   "execution_count": null,
   "outputs": [],
   "source": [
    "# Not all the columns with high values for NaNs are uninformative\n",
    "\n",
    "# Create hardship flag based on information are there a hardship event (1) or not (0)\n",
    "df_tot['has_hardship'] = df_tot['hardship_status'].notnull().astype(int)\n",
    "\n",
    "# Create a flag for joint or individual loan signal\n",
    "df_tot['annual_inc_final'] = df_tot['annual_inc']\n",
    "df_tot.loc[df_tot['is_joint_app'] == 1, 'annual_inc_final'] = df_tot['annual_inc_joint']\n",
    "\n",
    "# Create a debt-to-income ratio for all individual and joined applications\n",
    "df_tot['dti_final'] = df_tot['dti']\n",
    "df_tot.loc[df_tot['is_joint_app'] == 1, 'dti_final'] = df_tot['dti_joint']\n",
    "\n",
    "# Create a feature for verification status combil=ning individual and joint loans\n",
    "df_tot['verification_status_final'] = df_tot['verification_status']\n",
    "df_tot.loc[df_tot['is_joint_app'] == 1, 'verification_status_final'] = df_tot['verification_status_joint']\n",
    "\n",
    "# Create a joint feature for the revolving balance of individual or joint applications\n",
    "df_tot['revol_bal_final'] = df_tot['revol_bal']\n",
    "df_tot.loc[df_tot['is_joint_app'] == 1, 'revol_bal_final'] = df_tot['revol_bal_joint']\n",
    "\n",
    "# Create a flag for a simple fact if hardship started on Late or other loan status\n",
    "df_tot['was_late_before_hardship'] = df_tot['hardship_loan_status'].str.contains('Late', na=False).astype(int)\n",
    "\n",
    "# Fill missing values for 'hardship_dpd' with 0 assuming no days past due for non-hardship loans\n",
    "df_tot['hardship_dpd_filled'] = df_tot['hardship_dpd'].fillna(0)\n",
    "\n",
    "# Fill the NaNs for the number of months since the borrower's last public derogatory record with high value (999).\n",
    "df_tot['mths_since_last_record_filled'] = df_tot['mths_since_last_record'].fillna(999)"
   ],
   "metadata": {
    "collapsed": false
   }
  },
  {
   "cell_type": "markdown",
   "source": [
    "# String fields conversion"
   ],
   "metadata": {
    "collapsed": false
   }
  },
  {
   "cell_type": "code",
   "execution_count": null,
   "outputs": [],
   "source": [
    "# Loan term field processing\n",
    "df_tot['term'] = df_tot['term'].str.extract(r'(\\d+)').astype(int)\n",
    "\n",
    "# 'int_rate' field processing\n",
    "df_tot['int_rate'] = df_tot['int_rate'].str.rstrip('%').astype(float)\n",
    "df_tot['int_rate'] = df_tot['int_rate'] / 100\n",
    "\n",
    "# Lending club classification fields 'grade' and 'sub_grade' (optional to use in modeling but better to encode properly)\n",
    "grade_mapping = {'A': 1, 'B': 2, 'C': 3, 'D': 4, 'E': 5, 'F': 6, 'G': 7}\n",
    "df_tot['grade_encoded'] = df_tot['grade'].map(grade_mapping)\n",
    "# Create a mapping from subgrade to ordinal value\n",
    "subgrades = ['A1', 'A2', 'A3', 'A4', 'A5',\n",
    "             'B1', 'B2', 'B3', 'B4', 'B5',\n",
    "             'C1', 'C2', 'C3', 'C4', 'C5',\n",
    "             'D1', 'D2', 'D3', 'D4', 'D5',\n",
    "             'E1', 'E2', 'E3', 'E4', 'E5',\n",
    "             'F1', 'F2', 'F3', 'F4', 'F5',\n",
    "             'G1', 'G2', 'G3', 'G4', 'G5']\n",
    "\n",
    "subgrade_mapping = {sub: i + 1 for i, sub in enumerate(subgrades)}\n",
    "df_tot['sub_grade_encoded'] = df_tot['sub_grade'].map(subgrade_mapping)\n",
    "\n",
    "# Employment length field 'emp_length' processing to numerical values\n",
    "emp_length_mapping = {\n",
    "    '< 1 year': 0,\n",
    "    '1 year': 1,\n",
    "    '2 years': 2,\n",
    "    '3 years': 3,\n",
    "    '4 years': 4,\n",
    "    '5 years': 5,\n",
    "    '6 years': 6,\n",
    "    '7 years': 7,\n",
    "    '8 years': 8,\n",
    "    '9 years': 9,\n",
    "    '10+ years': 10,\n",
    "    'n/a': None  # or np.nan\n",
    "}\n",
    "\n",
    "df_tot['emp_length_clean'] = df_tot['emp_length'].map(emp_length_mapping)\n",
    "\n",
    "# We will keep one of the fields 'emp_length_clean_tree' or 'emp_length_clean_reg' for different model types. Field 'emp_length' safe to delete at the end of data preparation step, see delete_model_related\n",
    "\n",
    "# Filling missing with -1 (Tree-based (RF, XGBoost, LGBM))\n",
    "df_tot['emp_length_clean_tree'] = df_tot['emp_length_clean'].fillna(-1)\n",
    "\n",
    "# Filling missing with median for Logistic / Linear / SVM\n",
    "from sklearn.impute import SimpleImputer\n",
    "imputer = SimpleImputer(strategy='median')\n",
    "df_tot[['emp_length_clean_reg']] = imputer.fit_transform(df_tot[['emp_length_clean']])\n",
    "\n",
    "# Columns to drop if using tree related models RF, XGBoost, LGBM\n",
    "delete_model_related_emp_length_tree = ['emp_length','emp_length_clean', 'emp_length_clean_reg']\n",
    "\n",
    "# Columns to drop if using regressions Logistic / Linear / SVM\n",
    "delete_model_related_emp_length_reg = ['emp_length', 'emp_length_clean', 'emp_length_clean_tree']\n"
   ],
   "metadata": {
    "collapsed": false
   }
  },
  {
   "cell_type": "markdown",
   "source": [
    "# Creating a fork with two datasets with different 'purpose' encoding: (i) with one-hot encoding and (ii) target encoding"
   ],
   "metadata": {
    "collapsed": false
   }
  },
  {
   "cell_type": "code",
   "execution_count": null,
   "outputs": [],
   "source": [
    "# --------------------------------------------\n",
    "# ONE-HOT ENCODING VERSION\n",
    "# --------------------------------------------\n",
    "df_tot_onehot_purpose = df_tot.copy()\n",
    "df_tot_onehot_purpose = pd.get_dummies(df_tot_onehot_purpose, columns=['purpose'], drop_first=True)"
   ],
   "metadata": {
    "collapsed": false
   }
  },
  {
   "cell_type": "code",
   "execution_count": null,
   "outputs": [],
   "source": [
    "# OPTION - using target encoding as alternative (not together with one-hot encoding)\n",
    "# apply using cross-validation folds (e.g. KFold) when evaluating model performance.\n",
    "# --------------------------------------------\n",
    "# TARGET ENCODING VERSION\n",
    "# --------------------------------------------\n",
    "# Create a fresh copy\n",
    "df_tot_target_purpose = df_tot.copy()\n",
    "\n",
    "# Creating binary target column\n",
    "df_tot_target_purpose['loan_status_binary'] = df_tot_target_purpose['loan_status'].map({\n",
    "    'Fully Paid': 0,\n",
    "    'Charged Off': 1,\n",
    "    'Default': 1\n",
    "})\n",
    "\n",
    "# Filtering out rows with NaN target (e.g., 'Current', 'Late', etc.) for a training\n",
    "df_tot_target_purpose = df_tot_target_purpose[df_tot_target_purpose['loan_status_binary'].notnull()].copy()\n",
    "\n",
    "# Applying target encoding to 'purpose'\n",
    "encoder = ce.TargetEncoder(cols=['purpose'])\n",
    "df_tot_target_purpose['purpose_encoded'] = encoder.fit_transform(\n",
    "    df_tot_target_purpose['purpose'],\n",
    "    df_tot_target_purpose['loan_status_binary']\n",
    ")\n",
    "\n",
    "# (Optional) Drop original 'purpose' column\n",
    "# df_tot_target_purpose.drop(columns=['purpose'], inplace=True)"
   ],
   "metadata": {
    "collapsed": false
   }
  },
  {
   "cell_type": "code",
   "execution_count": 15,
   "outputs": [],
   "source": [
    "# Delete the columns which we use to create additional combined features to reduce noise and redundancy. Keeping future modelling simple we delete all columns which give more detailed description of a hardship period or to detailed description of co-borrower credit quality.\n",
    "delete_flag_related = ['dti', 'dti_joint', 'annual_inc', 'annual_inc_joint', 'hardship_status', 'hardship_type', 'hardship_reason', 'hardship_start_date', 'hardship_end_date', 'hardship_amount', 'hardship_length', 'deferral_term','verification_status', 'verification_status_joint', 'revol_bal', 'revol_bal_joint', 'hardship_loan_status', 'hardship_payoff_balance_amount', 'hardship_last_payment_amount', 'orig_projected_additional_accrued_interest', 'payment_plan_start_date', 'sec_app_fico_range_low', 'sec_app_fico_range_high', 'sec_app_earliest_cr_line', 'sec_app_inq_last_6mths', 'sec_app_mort_acc', 'sec_app_open_acc', 'sec_app_revol_util', 'sec_app_open_act_il', 'sec_app_num_rev_accts', 'sec_app_chargeoff_within_12_mths', 'sec_app_collections_12_mths_ex_med', 'grade', 'sub_grade']\n",
    "columns_to_drop.extend(delete_flag_related)"
   ],
   "metadata": {
    "collapsed": false,
    "ExecuteTime": {
     "end_time": "2025-03-24T16:30:54.815264Z",
     "start_time": "2025-03-24T16:30:54.751189Z"
    }
   }
  },
  {
   "cell_type": "code",
   "execution_count": 99,
   "outputs": [
    {
     "data": {
      "text/plain": "",
      "text/html": "<pre style=\"white-space:pre;overflow-x:auto;line-height:normal;font-family:Menlo,'DejaVu Sans Mono',consolas,'Courier New',monospace\"></pre>\n"
     },
     "metadata": {},
     "output_type": "display_data"
    },
    {
     "data": {
      "text/plain": "\nid\n\u001B[1;36m167338079\u001B[0m    \u001B[1;36m1\u001B[0m\n\u001B[1;36m693399\u001B[0m       \u001B[1;36m1\u001B[0m\n\u001B[1;36m119962746\u001B[0m    \u001B[1;36m1\u001B[0m\n\u001B[1;36m161374059\u001B[0m    \u001B[1;36m1\u001B[0m\n\u001B[1;36m74591293\u001B[0m     \u001B[1;36m1\u001B[0m\n            ..\n\u001B[1;36m306673\u001B[0m       \u001B[1;36m1\u001B[0m\n\u001B[1;36m74592806\u001B[0m     \u001B[1;36m1\u001B[0m\n\u001B[1;36m131409111\u001B[0m    \u001B[1;36m1\u001B[0m\n\u001B[1;36m139313158\u001B[0m    \u001B[1;36m1\u001B[0m\n\u001B[1;36m148437941\u001B[0m    \u001B[1;36m1\u001B[0m\nName: count, Length: \u001B[1;36m100000\u001B[0m, dtype: int64"
     },
     "execution_count": 99,
     "metadata": {},
     "output_type": "execute_result"
    }
   ],
   "source": [
    "df_sample['id'].value_counts()\n"
   ],
   "metadata": {
    "collapsed": false,
    "ExecuteTime": {
     "end_time": "2025-03-26T11:44:32.145968Z",
     "start_time": "2025-03-26T11:44:32.024060Z"
    }
   }
  },
  {
   "cell_type": "markdown",
   "source": [
    "# Job title processing"
   ],
   "metadata": {
    "collapsed": false
   }
  },
  {
   "cell_type": "code",
   "execution_count": 53,
   "outputs": [
    {
     "name": "stdout",
     "output_type": "stream",
     "text": [
      "The kedro.ipython extension is already loaded. To reload it, use:\n",
      "  %reload_ext kedro.ipython\n"
     ]
    },
    {
     "data": {
      "text/plain": "\u001B[2;36m[03/26/25 11:15:47]\u001B[0m\u001B[2;36m \u001B[0m\u001B[34mINFO    \u001B[0m Loading data from \u001B[38;5;208memp_title_mapping\u001B[0m \u001B[1m(\u001B[0mCSVDataset\u001B[1m)\u001B[0m\u001B[33m...\u001B[0m                \u001B]8;id=64494;file:///Users/macbook/tensorflow-m1/lib/python3.8/site-packages/kedro/io/data_catalog.py\u001B\\\u001B[2mdata_catalog.py\u001B[0m\u001B]8;;\u001B\\\u001B[2m:\u001B[0m\u001B]8;id=337840;file:///Users/macbook/tensorflow-m1/lib/python3.8/site-packages/kedro/io/data_catalog.py#539\u001B\\\u001B[2m539\u001B[0m\u001B]8;;\u001B\\\n",
      "text/html": "<pre style=\"white-space:pre;overflow-x:auto;line-height:normal;font-family:Menlo,'DejaVu Sans Mono',consolas,'Courier New',monospace\"><span style=\"color: #7fbfbf; text-decoration-color: #7fbfbf\">[03/26/25 11:15:47] </span><span style=\"color: #000080; text-decoration-color: #000080\">INFO    </span> Loading data from <span style=\"color: #ff8700; text-decoration-color: #ff8700\">emp_title_mapping</span> <span style=\"font-weight: bold\">(</span>CSVDataset<span style=\"font-weight: bold\">)</span><span style=\"color: #808000; text-decoration-color: #808000\">...</span>                <a href=\"file:///Users/macbook/tensorflow-m1/lib/python3.8/site-packages/kedro/io/data_catalog.py\" target=\"_blank\"><span style=\"color: #7f7f7f; text-decoration-color: #7f7f7f\">data_catalog.py</span></a><span style=\"color: #7f7f7f; text-decoration-color: #7f7f7f\">:</span><a href=\"file:///Users/macbook/tensorflow-m1/lib/python3.8/site-packages/kedro/io/data_catalog.py#539\" target=\"_blank\"><span style=\"color: #7f7f7f; text-decoration-color: #7f7f7f\">539</span></a>\n</pre>\n"
     },
     "metadata": {},
     "output_type": "display_data"
    },
    {
     "name": "stdout",
     "output_type": "stream",
     "text": [
      "Number of existing job families: 32\n"
     ]
    }
   ],
   "source": [
    "\n",
    "import logging\n",
    "logging.getLogger().setLevel(logging.ERROR)\n",
    "%load_ext kedro.ipython\n",
    "\n",
    "ref_job_families = catalog.load(\"emp_title_mapping\")\n",
    "df_sample = catalog.load(\"sample\")"
   ],
   "metadata": {
    "collapsed": false,
    "ExecuteTime": {
     "end_time": "2025-03-26T10:15:47.420133Z",
     "start_time": "2025-03-26T10:15:47.410286Z"
    }
   }
  },
  {
   "cell_type": "code",
   "execution_count": 76,
   "outputs": [],
   "source": [
    "# cleaning the job category dataset\n",
    "ref_job_families[\"Job Title\"] = ref_job_families[\"Job Title\"].str.strip().str.lower()\n",
    "ref_job_families[\"Category\"] = ref_job_families[\"Category\"].str.strip().str.lower()\n",
    "\n",
    "# Drop duplicates in the job category dataset based only on two columns\n",
    "ref_job_families_deduped = ref_job_families.drop_duplicates(subset=[\"Category\", \"Job Title\"])\n",
    "\n",
    "# Cleaning text data in the dataset (sample)\n",
    "df_sample['emp_title_clean'] = df_sample['emp_title'].str.lower().str.strip()\n"
   ],
   "metadata": {
    "collapsed": false,
    "ExecuteTime": {
     "end_time": "2025-03-26T10:50:38.971243Z",
     "start_time": "2025-03-26T10:50:38.870398Z"
    }
   }
  },
  {
   "cell_type": "code",
   "execution_count": 83,
   "outputs": [
    {
     "data": {
      "text/plain": "",
      "text/html": "<pre style=\"white-space:pre;overflow-x:auto;line-height:normal;font-family:Menlo,'DejaVu Sans Mono',consolas,'Courier New',monospace\"></pre>\n"
     },
     "metadata": {},
     "output_type": "display_data"
    },
    {
     "data": {
      "text/plain": "\n         Job Title           Category\n\u001B[1;36m0\u001B[0m       web editor      content/media\n\u001B[1;36m1\u001B[0m    route manager         operations\n\u001B[1;36m2\u001B[0m  quality manager  quality assurance\n\u001B[1;36m3\u001B[0m       budget mgr            finance\n\u001B[1;36m4\u001B[0m        inspector  quality assurance",
      "text/html": "<div>\n<style scoped>\n    .dataframe tbody tr th:only-of-type {\n        vertical-align: middle;\n    }\n\n    .dataframe tbody tr th {\n        vertical-align: top;\n    }\n\n    .dataframe thead th {\n        text-align: right;\n    }\n</style>\n<table border=\"1\" class=\"dataframe\">\n  <thead>\n    <tr style=\"text-align: right;\">\n      <th></th>\n      <th>Job Title</th>\n      <th>Category</th>\n    </tr>\n  </thead>\n  <tbody>\n    <tr>\n      <th>0</th>\n      <td>web editor</td>\n      <td>content/media</td>\n    </tr>\n    <tr>\n      <th>1</th>\n      <td>route manager</td>\n      <td>operations</td>\n    </tr>\n    <tr>\n      <th>2</th>\n      <td>quality manager</td>\n      <td>quality assurance</td>\n    </tr>\n    <tr>\n      <th>3</th>\n      <td>budget mgr</td>\n      <td>finance</td>\n    </tr>\n    <tr>\n      <th>4</th>\n      <td>inspector</td>\n      <td>quality assurance</td>\n    </tr>\n  </tbody>\n</table>\n</div>"
     },
     "execution_count": 83,
     "metadata": {},
     "output_type": "execute_result"
    }
   ],
   "source": [
    "ref_job_families_deduped.head()"
   ],
   "metadata": {
    "collapsed": false,
    "ExecuteTime": {
     "end_time": "2025-03-26T10:55:19.919990Z",
     "start_time": "2025-03-26T10:55:19.914669Z"
    }
   }
  },
  {
   "cell_type": "code",
   "execution_count": 85,
   "outputs": [
    {
     "data": {
      "text/plain": "",
      "text/html": "<pre style=\"white-space:pre;overflow-x:auto;line-height:normal;font-family:Menlo,'DejaVu Sans Mono',consolas,'Courier New',monospace\"></pre>\n"
     },
     "metadata": {},
     "output_type": "display_data"
    },
    {
     "data": {
      "text/plain": "\nCategory\nmanagement            \u001B[1;36m3622\u001B[0m\neducation             \u001B[1;36m2287\u001B[0m\nexecutive             \u001B[1;36m1755\u001B[0m\nhealthcare            \u001B[1;36m1343\u001B[0m\nadministrative        \u001B[1;36m1010\u001B[0m\nsales                  \u001B[1;36m766\u001B[0m\nlogistics              \u001B[1;36m615\u001B[0m\nfinance                \u001B[1;36m541\u001B[0m\ntechnical support      \u001B[1;36m461\u001B[0m\nconsulting             \u001B[1;36m169\u001B[0m\ncustomer service       \u001B[1;36m127\u001B[0m\nquality assurance      \u001B[1;36m113\u001B[0m\noperations             \u001B[1;36m109\u001B[0m\nemergency services     \u001B[1;36m104\u001B[0m\nmarketing               \u001B[1;36m86\u001B[0m\nlabor                   \u001B[1;36m62\u001B[0m\ninsurance               \u001B[1;36m54\u001B[0m\nit/technology           \u001B[1;36m41\u001B[0m\nprocurement             \u001B[1;36m38\u001B[0m\nreligious               \u001B[1;36m22\u001B[0m\nmanufacturing           \u001B[1;36m19\u001B[0m\nconstruction            \u001B[1;36m10\u001B[0m\nsecurity                \u001B[1;36m10\u001B[0m\nengineering              \u001B[1;36m6\u001B[0m\nother                    \u001B[1;36m5\u001B[0m\nhuman resources          \u001B[1;36m5\u001B[0m\nagriculture              \u001B[1;36m4\u001B[0m\nhospitality              \u001B[1;36m2\u001B[0m\ncontent/media            \u001B[1;36m1\u001B[0m\nevent management         \u001B[1;36m1\u001B[0m\nanimal care              \u001B[1;36m1\u001B[0m\nproject management       \u001B[1;36m1\u001B[0m\nName: count, dtype: int64"
     },
     "execution_count": 85,
     "metadata": {},
     "output_type": "execute_result"
    }
   ],
   "source": [
    "df_mapped_deduped = pd.merge(left = df_sample\n",
    "                     , right = ref_job_families_deduped\n",
    "                     , left_on = \"emp_title_clean\"\n",
    "                     , right_on= \"Job Title\"\n",
    "                     , how = \"left\"\n",
    "                    )\n",
    "df_mapped_deduped['Category'].value_counts()[:100]"
   ],
   "metadata": {
    "collapsed": false,
    "ExecuteTime": {
     "end_time": "2025-03-26T10:55:59.810881Z",
     "start_time": "2025-03-26T10:55:59.627661Z"
    }
   }
  },
  {
   "cell_type": "code",
   "execution_count": 61,
   "outputs": [
    {
     "data": {
      "text/plain": "",
      "text/html": "<pre style=\"white-space:pre;overflow-x:auto;line-height:normal;font-family:Menlo,'DejaVu Sans Mono',consolas,'Courier New',monospace\"></pre>\n"
     },
     "metadata": {},
     "output_type": "display_data"
    },
    {
     "data": {
      "text/plain": "\nemp_title_clean\nteacher             \u001B[1;36m2121\u001B[0m\nmanager             \u001B[1;36m2062\u001B[0m\nowner               \u001B[1;36m1245\u001B[0m\nregistered nurse    \u001B[1;36m1019\u001B[0m\ndriver              \u001B[1;36m1008\u001B[0m\nsupervisor           \u001B[1;36m978\u001B[0m\nsales                \u001B[1;36m765\u001B[0m\nrn                   \u001B[1;36m758\u001B[0m\noffice manager       \u001B[1;36m670\u001B[0m\ntruck driver         \u001B[1;36m612\u001B[0m\nName: count, dtype: int64"
     },
     "execution_count": 61,
     "metadata": {},
     "output_type": "execute_result"
    }
   ],
   "source": [
    "# Cleaning text data\n",
    "df_sample['emp_title_clean'] = df_sample['emp_title'].str.lower().str.strip()\n",
    "df_sample['emp_title_clean'].value_counts()[:10]"
   ],
   "metadata": {
    "collapsed": false,
    "ExecuteTime": {
     "end_time": "2025-03-26T10:23:14.131476Z",
     "start_time": "2025-03-26T10:23:14.050308Z"
    }
   }
  },
  {
   "cell_type": "code",
   "execution_count": 64,
   "outputs": [],
   "source": [
    "ref_job_families_deduped = ref_job_families.drop_duplicates()\n",
    "df_mapped_deduped = pd.merge(left = df_sample\n",
    "                     , right = ref_job_families_deduped\n",
    "                     , left_on = \"emp_title_clean\"\n",
    "                     , right_on= \"Job Title\"\n",
    "                     , how = \"left\"\n",
    "                    )"
   ],
   "metadata": {
    "collapsed": false,
    "ExecuteTime": {
     "end_time": "2025-03-26T10:23:53.089367Z",
     "start_time": "2025-03-26T10:23:52.809227Z"
    }
   }
  },
  {
   "cell_type": "code",
   "execution_count": 65,
   "outputs": [
    {
     "name": "stdout",
     "output_type": "stream",
     "text": [
      "(100000, 145) (100000, 147)\n"
     ]
    }
   ],
   "source": [
    "print(df_sample.shape, df_mapped_deduped.shape)"
   ],
   "metadata": {
    "collapsed": false,
    "ExecuteTime": {
     "end_time": "2025-03-26T10:23:58.759342Z",
     "start_time": "2025-03-26T10:23:58.747331Z"
    }
   }
  },
  {
   "cell_type": "code",
   "execution_count": 66,
   "outputs": [
    {
     "name": "stdout",
     "output_type": "stream",
     "text": [
      "(91, 2)\n",
      "(89, 2)\n"
     ]
    }
   ],
   "source": [
    "print(ref_job_families.shape)\n",
    "print(ref_job_families.drop_duplicates().shape)"
   ],
   "metadata": {
    "collapsed": false,
    "ExecuteTime": {
     "end_time": "2025-03-26T10:26:20.186365Z",
     "start_time": "2025-03-26T10:26:20.181490Z"
    }
   }
  },
  {
   "cell_type": "code",
   "execution_count": 67,
   "outputs": [
    {
     "data": {
      "text/plain": "",
      "text/html": "<pre style=\"white-space:pre;overflow-x:auto;line-height:normal;font-family:Menlo,'DejaVu Sans Mono',consolas,'Courier New',monospace\"></pre>\n"
     },
     "metadata": {},
     "output_type": "display_data"
    },
    {
     "data": {
      "text/plain": "\n      Category          Job Title  count\n\u001B[1;36m17\u001B[0m   Education            teacher      \u001B[1;36m2\u001B[0m\n\u001B[1;36m35\u001B[0m  Healthcare  medical assistant      \u001B[1;36m2\u001B[0m",
      "text/html": "<div>\n<style scoped>\n    .dataframe tbody tr th:only-of-type {\n        vertical-align: middle;\n    }\n\n    .dataframe tbody tr th {\n        vertical-align: top;\n    }\n\n    .dataframe thead th {\n        text-align: right;\n    }\n</style>\n<table border=\"1\" class=\"dataframe\">\n  <thead>\n    <tr style=\"text-align: right;\">\n      <th></th>\n      <th>Category</th>\n      <th>Job Title</th>\n      <th>count</th>\n    </tr>\n  </thead>\n  <tbody>\n    <tr>\n      <th>17</th>\n      <td>Education</td>\n      <td>teacher</td>\n      <td>2</td>\n    </tr>\n    <tr>\n      <th>35</th>\n      <td>Healthcare</td>\n      <td>medical assistant</td>\n      <td>2</td>\n    </tr>\n  </tbody>\n</table>\n</div>"
     },
     "execution_count": 67,
     "metadata": {},
     "output_type": "execute_result"
    }
   ],
   "source": [
    "# The problem can be seen by grouping the ref data by job title and category:\n",
    "row_count = ref_job_families.groupby([\"Category\", \"Job Title\"]).size().reset_index(name='count')\n",
    "row_count[row_count['count'] > 1]"
   ],
   "metadata": {
    "collapsed": false,
    "ExecuteTime": {
     "end_time": "2025-03-26T10:26:39.280588Z",
     "start_time": "2025-03-26T10:26:39.271904Z"
    }
   }
  },
  {
   "cell_type": "code",
   "execution_count": 72,
   "outputs": [
    {
     "data": {
      "text/plain": "",
      "text/html": "<pre style=\"white-space:pre;overflow-x:auto;line-height:normal;font-family:Menlo,'DejaVu Sans Mono',consolas,'Courier New',monospace\"></pre>\n"
     },
     "metadata": {},
     "output_type": "display_data"
    },
    {
     "data": {
      "text/plain": "\n   Job Title   Category\n\u001B[1;36m33\u001B[0m   teacher  Education\n\u001B[1;36m66\u001B[0m   teacher  Education",
      "text/html": "<div>\n<style scoped>\n    .dataframe tbody tr th:only-of-type {\n        vertical-align: middle;\n    }\n\n    .dataframe tbody tr th {\n        vertical-align: top;\n    }\n\n    .dataframe thead th {\n        text-align: right;\n    }\n</style>\n<table border=\"1\" class=\"dataframe\">\n  <thead>\n    <tr style=\"text-align: right;\">\n      <th></th>\n      <th>Job Title</th>\n      <th>Category</th>\n    </tr>\n  </thead>\n  <tbody>\n    <tr>\n      <th>33</th>\n      <td>teacher</td>\n      <td>Education</td>\n    </tr>\n    <tr>\n      <th>66</th>\n      <td>teacher</td>\n      <td>Education</td>\n    </tr>\n  </tbody>\n</table>\n</div>"
     },
     "execution_count": 72,
     "metadata": {},
     "output_type": "execute_result"
    }
   ],
   "source": [
    "ref_job_families[ref_job_families[\"Job Title\"] == \"teacher\"]"
   ],
   "metadata": {
    "collapsed": false,
    "ExecuteTime": {
     "end_time": "2025-03-26T10:29:11.912893Z",
     "start_time": "2025-03-26T10:29:11.896582Z"
    }
   }
  },
  {
   "cell_type": "code",
   "execution_count": 73,
   "outputs": [
    {
     "data": {
      "text/plain": "",
      "text/html": "<pre style=\"white-space:pre;overflow-x:auto;line-height:normal;font-family:Menlo,'DejaVu Sans Mono',consolas,'Courier New',monospace\"></pre>\n"
     },
     "metadata": {},
     "output_type": "display_data"
    },
    {
     "data": {
      "text/plain": "\n            Job Title    Category\n\u001B[1;36m70\u001B[0m  medical assistant  Healthcare\n\u001B[1;36m88\u001B[0m  medical assistant  Healthcare",
      "text/html": "<div>\n<style scoped>\n    .dataframe tbody tr th:only-of-type {\n        vertical-align: middle;\n    }\n\n    .dataframe tbody tr th {\n        vertical-align: top;\n    }\n\n    .dataframe thead th {\n        text-align: right;\n    }\n</style>\n<table border=\"1\" class=\"dataframe\">\n  <thead>\n    <tr style=\"text-align: right;\">\n      <th></th>\n      <th>Job Title</th>\n      <th>Category</th>\n    </tr>\n  </thead>\n  <tbody>\n    <tr>\n      <th>70</th>\n      <td>medical assistant</td>\n      <td>Healthcare</td>\n    </tr>\n    <tr>\n      <th>88</th>\n      <td>medical assistant</td>\n      <td>Healthcare</td>\n    </tr>\n  </tbody>\n</table>\n</div>"
     },
     "execution_count": 73,
     "metadata": {},
     "output_type": "execute_result"
    }
   ],
   "source": [
    "ref_job_families[ref_job_families[\"Job Title\"] == \"medical assistant\"]"
   ],
   "metadata": {
    "collapsed": false,
    "ExecuteTime": {
     "end_time": "2025-03-26T10:29:20.162678Z",
     "start_time": "2025-03-26T10:29:20.152201Z"
    }
   }
  },
  {
   "cell_type": "markdown",
   "source": [],
   "metadata": {
    "collapsed": false
   }
  },
  {
   "cell_type": "code",
   "execution_count": 69,
   "outputs": [
    {
     "name": "stdout",
     "output_type": "stream",
     "text": [
      "(91, 2) (89, 2)\n"
     ]
    }
   ],
   "source": [
    "ref_job_families_deduped = ref_job_families.drop_duplicates()\n",
    "print(ref_job_families.shape, ref_job_families_deduped.shape)"
   ],
   "metadata": {
    "collapsed": false,
    "ExecuteTime": {
     "end_time": "2025-03-26T10:27:41.151543Z",
     "start_time": "2025-03-26T10:27:41.125687Z"
    }
   }
  },
  {
   "cell_type": "code",
   "execution_count": 74,
   "outputs": [
    {
     "name": "stdout",
     "output_type": "stream",
     "text": [
      "Before: (91, 2), After: (89, 2)\n"
     ]
    }
   ],
   "source": [
    "# Step 1: Normalize casing and strip whitespace\n",
    "ref_job_families[\"Job Title\"] = ref_job_families[\"Job Title\"].str.strip().str.lower()\n",
    "ref_job_families[\"Category\"] = ref_job_families[\"Category\"].str.strip().str.lower()\n",
    "\n",
    "# Step 2: Drop duplicates based only on those two columns\n",
    "ref_job_families_deduped = ref_job_families.drop_duplicates(subset=[\"Category\", \"Job Title\"])\n",
    "\n",
    "print(f\"Before: {ref_job_families.shape}, After: {ref_job_families_deduped.shape}\")\n"
   ],
   "metadata": {
    "collapsed": false,
    "ExecuteTime": {
     "end_time": "2025-03-26T10:35:05.261479Z",
     "start_time": "2025-03-26T10:35:05.249005Z"
    }
   }
  },
  {
   "cell_type": "code",
   "execution_count": 75,
   "outputs": [
    {
     "name": "stdout",
     "output_type": "stream",
     "text": [
      "Empty DataFrame\n",
      "Columns: [Category, Job Title, count]\n",
      "Index: []\n"
     ]
    }
   ],
   "source": [
    "row_count = ref_job_families_deduped.groupby([\"Category\", \"Job Title\"]).size().reset_index(name='count')\n",
    "print(row_count[row_count['count'] > 1])  # Should be empty if deduped correctly"
   ],
   "metadata": {
    "collapsed": false,
    "ExecuteTime": {
     "end_time": "2025-03-26T10:35:27.456889Z",
     "start_time": "2025-03-26T10:35:27.417770Z"
    }
   }
  },
  {
   "cell_type": "code",
   "execution_count": null,
   "outputs": [],
   "source": [],
   "metadata": {
    "collapsed": false
   }
  }
 ],
 "metadata": {
  "kernelspec": {
   "display_name": "Python 3",
   "language": "python",
   "name": "python3"
  },
  "language_info": {
   "codemirror_mode": {
    "name": "ipython",
    "version": 2
   },
   "file_extension": ".py",
   "mimetype": "text/x-python",
   "name": "python",
   "nbconvert_exporter": "python",
   "pygments_lexer": "ipython2",
   "version": "2.7.6"
  }
 },
 "nbformat": 4,
 "nbformat_minor": 0
}
