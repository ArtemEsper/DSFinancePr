{
 "cells": [
  {
   "cell_type": "markdown",
   "source": [
    "### Stage 3: Analysis of the key reporting metrics and final feature selection."
   ],
   "metadata": {
    "collapsed": false
   }
  },
  {
   "cell_type": "markdown",
   "source": [
    "### ⚠️ Features with High Missing Rates\n",
    "\n",
    "| Feature            | Rate   |\n",
    "|--------------------|--------|\n",
    "| `dti_joint`        | 0.9640 |\n",
    "| `annual_inc_joint` | 0.9640 |\n",
    "| `revol_bal_final`  | 0.0057 |"
   ],
   "metadata": {
    "collapsed": false
   }
  },
  {
   "cell_type": "markdown",
   "source": [
    "### 🚫 Low-Variance / Sparse Features (Zero-Dominant or Unused)\n",
    "\n",
    "| Feature                        | Rate   |\n",
    "|--------------------------------|--------|\n",
    "| `loan_status_binary`           | 0.8049 |\n",
    "| `hardship_dpd_filled`          | 0.9951 |\n",
    "| `delinq_2yrs_reg`              | 0.8105 |\n",
    "| `delinquency_score`            | 0.8023 |\n",
    "| `avg_cur_bal_missing`          | 0.9636 |\n",
    "| `num_tl_op_past_12m_missing`   | 0.9636 |\n",
    "| `pub_rec_bankruptcies_missing` | 0.9996 |"
   ],
   "metadata": {
    "collapsed": false
   }
  },
  {
   "cell_type": "markdown",
   "source": [
    "### 📈 Binary Tree Features with Split Potential\n",
    "| Feature                     | Correlation with Target |\n",
    "|-----------------------------|-------------------------|\n",
    "| `sub_grade_encoded`         | 0.2571                  |\n",
    "| `int_rate`                  | 0.2533                  |\n",
    "| `grade_encoded`             | 0.2507                  |\n",
    "| `dti_joint`                 | 0.1276                  |\n",
    "| `dti_final`                 | 0.0915                  |\n",
    "| `hardship_dpd_filled`       | 0.0853                  |\n",
    "| `loan_amount_band`          | 0.0782                  |\n",
    "| `loan_to_installment_ratio` | 0.0542                  |\n",
    "| `revol_util_reg`            | 0.0493                  |\n"
   ],
   "metadata": {
    "collapsed": false
   }
  },
  {
   "cell_type": "markdown",
   "source": [
    "### Features to keep\n",
    "---\n",
    "\n",
    "| Feature                             | \tNotes                                      |\n",
    "|-------------------------------------|---------------------------------------------|\n",
    "| sub_grade_encoded                   | \tCorrelated with target (0.257)             |\n",
    "| int_rate                            | \tCorrelated with target (0.253)             |\n",
    "| grade_encoded                       | \tCorrelated with target (0.250)             |\n",
    "| dti_final                           | \tSomewhat correlated (0.091), complete      |\n",
    "| loan_to_installment_ratio           | \tComplete, weak signal (0.054)              |\n",
    "| revol_util_reg                      | \tReasonable signal (0.049), complete        |\n",
    "| annual_inc_final                    | \tComplete, weak negative correlation        |\n",
    "| cur_bal_to_income / cur_bal_to_loan | \tStrong skew, but informative               |\n",
    "| fico_average                        | \tGood distribution, useful for models       |\n",
    "| loan_amount_band                    | \tClean categorical binning                  |"
   ],
   "metadata": {
    "collapsed": false
   }
  },
  {
   "cell_type": "markdown",
   "source": [
    "### Needs additional tuning\n",
    "Feature\tIssue\tRecommendation\n",
    "hardship_dpd_filled\tExtreme sparsity (99.5% zero)\tConsider dropping unless modeling rare hardship\n",
    "delinquency_score\t80% zeros\tKeep if it helps tree-based splits; consider binning\n",
    "emp_length_clean_reg\t8% zero, low correlation\tMay need binning or encode non-linearly\n",
    "initial_list_status_flag\tWeak correlation\tPossibly useful interaction term\n",
    "purpose_risk_score\tLow signal, categorical\tRe-check bins or combine with other purpose signals"
   ],
   "metadata": {
    "collapsed": false
   }
  },
  {
   "cell_type": "markdown",
   "source": [
    "### Can be dropped\n",
    "Feature\tReason\n",
    "dti_joint\t96.4% missing\n",
    "annual_inc_joint\t96.4% missing\n",
    "pub_rec_bankruptcies_missing\t99.96% zero\n",
    "num_tl_op_past_12m_missing\t96% zero\n",
    "avg_cur_bal_missing\t96% zero\n",
    "tot_cur_bal_missing\t96% zero\n",
    "recent_major_derog_flag\t94% zero, very weak correlation\n",
    "mths_since_recent_inq_missing\t87% zero, inverse correlation\n",
    "mths_since_last_major_derog_filled\tSkewed & weak correlation\n",
    "mths_since_last_record_filled\tWeak signal, heavy skew"
   ],
   "metadata": {
    "collapsed": false
   }
  },
  {
   "cell_type": "markdown",
   "source": [
    "### Complementing statistics from YData use the RandomForestRegressor feature analysis"
   ],
   "metadata": {
    "collapsed": false
   }
  },
  {
   "cell_type": "code",
   "execution_count": 1,
   "outputs": [],
   "source": [
    "from sklearn.ensemble import RandomForestRegressor\n",
    "from sklearn.model_selection import train_test_split\n",
    "from sklearn.metrics import mean_squared_error, r2_score\n",
    "import pandas as pd\n",
    "import numpy as np\n",
    "\n",
    "def run_random_forest_analysis(df: pd.DataFrame):\n",
    "    \"\"\"\n",
    "    Trains and evaluates a RandomForestRegressor on the cleaned regression dataset.\n",
    "\n",
    "    Parameters:\n",
    "        df (pd.DataFrame): The regression-ready dataset including 'loan_status_binary' as the target.\n",
    "\n",
    "    Returns:\n",
    "        dict: Model performance and feature importance\n",
    "    \"\"\"\n",
    "    # Drop rows with any missing values\n",
    "    df_clean = df.dropna()\n",
    "\n",
    "    # Separate features and target\n",
    "    target_col = \"loan_status_binary\"\n",
    "    feature_cols = [col for col in df_clean.columns if col != target_col]\n",
    "\n",
    "    X = df_clean[feature_cols]\n",
    "    y = df_clean[target_col]\n",
    "\n",
    "    # Train-test split\n",
    "    X_train, X_test, y_train, y_test = train_test_split(\n",
    "        X, y, test_size=0.2, random_state=42, stratify=None\n",
    "    )\n",
    "\n",
    "    # Train model\n",
    "    model = RandomForestRegressor(n_estimators=100, random_state=42, n_jobs=-1)\n",
    "    model.fit(X_train, y_train)\n",
    "\n",
    "    # Predict\n",
    "    y_pred = model.predict(X_test)\n",
    "\n",
    "    # Evaluate\n",
    "    rmse = np.sqrt(mean_squared_error(y_test, y_pred))\n",
    "    r2 = r2_score(y_test, y_pred)\n",
    "\n",
    "    # Feature importance\n",
    "    importance_df = pd.DataFrame({\n",
    "        \"feature\": X.columns,\n",
    "        \"importance\": model.feature_importances_\n",
    "    }).sort_values(by=\"importance\", ascending=False)\n",
    "\n",
    "    return {\n",
    "        \"model\": model,\n",
    "        \"rmse\": rmse,\n",
    "        \"r2_score\": r2,\n",
    "        \"feature_importances\": importance_df\n",
    "    }\n"
   ],
   "metadata": {
    "collapsed": false,
    "ExecuteTime": {
     "end_time": "2025-04-07T15:38:36.543798Z",
     "start_time": "2025-04-07T15:38:34.398117Z"
    }
   }
  },
  {
   "cell_type": "code",
   "execution_count": null,
   "outputs": [],
   "source": [
    "%reload_ext kedro.ipython"
   ],
   "metadata": {
    "collapsed": false
   }
  },
  {
   "cell_type": "code",
   "execution_count": 4,
   "outputs": [
    {
     "name": "stdout",
     "output_type": "stream",
     "text": [
      "🔎 Non-numeric (object or category) columns:\n",
      "Index(['fico_risk_band'], dtype='object')\n",
      "❌ Column 'fico_risk_band' caused an error: Cannot cast object dtype to float64\n"
     ]
    }
   ],
   "source": [
    "from sklearn.ensemble import RandomForestRegressor\n",
    "\n",
    "# Separate features and target\n",
    "X = df_reg.drop(columns=[\"loan_status_binary\"])\n",
    "y = df_reg[\"loan_status_binary\"]\n",
    "\n",
    "# Check object or non-numeric columns\n",
    "non_numeric_cols = X.select_dtypes(exclude=[\"number\"]).columns\n",
    "print(\"🔎 Non-numeric (object or category) columns:\")\n",
    "print(non_numeric_cols)\n",
    "\n",
    "# Try to convert the full feature matrix to float — catch the first failure\n",
    "for col in non_numeric_cols:\n",
    "    try:\n",
    "        _ = X[col].astype(float)\n",
    "    except ValueError as e:\n",
    "        print(f\"❌ Column '{col}' caused an error: {e}\")\n"
   ],
   "metadata": {
    "collapsed": false,
    "ExecuteTime": {
     "end_time": "2025-04-07T15:49:52.468176Z",
     "start_time": "2025-04-07T15:49:51.896137Z"
    }
   }
  },
  {
   "cell_type": "code",
   "execution_count": 5,
   "outputs": [
    {
     "data": {
      "text/plain": "\u001B[2;36m[04/07/25 17:54:09]\u001B[0m\u001B[2;36m \u001B[0m\u001B[34mINFO    \u001B[0m Loading data from \u001B[38;5;208mregression_features\u001B[0m \u001B[1m(\u001B[0mParquetDataset\u001B[1m)\u001B[0m\u001B[33m...\u001B[0m          \u001B]8;id=202368;file:///Users/macbook/tensorflow-m1/lib/python3.8/site-packages/kedro/io/data_catalog.py\u001B\\\u001B[2mdata_catalog.py\u001B[0m\u001B]8;;\u001B\\\u001B[2m:\u001B[0m\u001B]8;id=554452;file:///Users/macbook/tensorflow-m1/lib/python3.8/site-packages/kedro/io/data_catalog.py#539\u001B\\\u001B[2m539\u001B[0m\u001B]8;;\u001B\\\n",
      "text/html": "<pre style=\"white-space:pre;overflow-x:auto;line-height:normal;font-family:Menlo,'DejaVu Sans Mono',consolas,'Courier New',monospace\"><span style=\"color: #7fbfbf; text-decoration-color: #7fbfbf\">[04/07/25 17:54:09] </span><span style=\"color: #000080; text-decoration-color: #000080\">INFO    </span> Loading data from <span style=\"color: #ff8700; text-decoration-color: #ff8700\">regression_features</span> <span style=\"font-weight: bold\">(</span>ParquetDataset<span style=\"font-weight: bold\">)</span><span style=\"color: #808000; text-decoration-color: #808000\">...</span>          <a href=\"file:///Users/macbook/tensorflow-m1/lib/python3.8/site-packages/kedro/io/data_catalog.py\" target=\"_blank\"><span style=\"color: #7f7f7f; text-decoration-color: #7f7f7f\">data_catalog.py</span></a><span style=\"color: #7f7f7f; text-decoration-color: #7f7f7f\">:</span><a href=\"file:///Users/macbook/tensorflow-m1/lib/python3.8/site-packages/kedro/io/data_catalog.py#539\" target=\"_blank\"><span style=\"color: #7f7f7f; text-decoration-color: #7f7f7f\">539</span></a>\n</pre>\n"
     },
     "metadata": {},
     "output_type": "display_data"
    },
    {
     "name": "stdout",
     "output_type": "stream",
     "text": [
      "RMSE: 0.42063062607056145\n",
      "R² Score: 0.0772807966335689\n"
     ]
    },
    {
     "data": {
      "text/plain": "",
      "text/html": "<pre style=\"white-space:pre;overflow-x:auto;line-height:normal;font-family:Menlo,'DejaVu Sans Mono',consolas,'Courier New',monospace\"></pre>\n"
     },
     "metadata": {},
     "output_type": "display_data"
    },
    {
     "data": {
      "text/plain": "\n                      feature  importance\n\u001B[1;36m6\u001B[0m             cur_bal_to_loan    \u001B[1;36m0.106465\u001B[0m\n\u001B[1;36m5\u001B[0m           cur_bal_to_income    \u001B[1;36m0.092901\u001B[0m\n\u001B[1;36m26\u001B[0m             revol_util_reg    \u001B[1;36m0.091724\u001B[0m\n\u001B[1;36m25\u001B[0m            revol_bal_final    \u001B[1;36m0.090279\u001B[0m\n\u001B[1;36m17\u001B[0m  loan_to_installment_ratio    \u001B[1;36m0.075271\u001B[0m\n\u001B[1;36m27\u001B[0m          sub_grade_encoded    \u001B[1;36m0.068717\u001B[0m\n\u001B[1;36m11\u001B[0m               fico_average    \u001B[1;36m0.057947\u001B[0m\n\u001B[1;36m0\u001B[0m                   dti_joint    \u001B[1;36m0.056613\u001B[0m\n\u001B[1;36m9\u001B[0m                   dti_final    \u001B[1;36m0.056460\u001B[0m\n\u001B[1;36m1\u001B[0m            annual_inc_joint    \u001B[1;36m0.048277\u001B[0m",
      "text/html": "<div>\n<style scoped>\n    .dataframe tbody tr th:only-of-type {\n        vertical-align: middle;\n    }\n\n    .dataframe tbody tr th {\n        vertical-align: top;\n    }\n\n    .dataframe thead th {\n        text-align: right;\n    }\n</style>\n<table border=\"1\" class=\"dataframe\">\n  <thead>\n    <tr style=\"text-align: right;\">\n      <th></th>\n      <th>feature</th>\n      <th>importance</th>\n    </tr>\n  </thead>\n  <tbody>\n    <tr>\n      <th>6</th>\n      <td>cur_bal_to_loan</td>\n      <td>0.106465</td>\n    </tr>\n    <tr>\n      <th>5</th>\n      <td>cur_bal_to_income</td>\n      <td>0.092901</td>\n    </tr>\n    <tr>\n      <th>26</th>\n      <td>revol_util_reg</td>\n      <td>0.091724</td>\n    </tr>\n    <tr>\n      <th>25</th>\n      <td>revol_bal_final</td>\n      <td>0.090279</td>\n    </tr>\n    <tr>\n      <th>17</th>\n      <td>loan_to_installment_ratio</td>\n      <td>0.075271</td>\n    </tr>\n    <tr>\n      <th>27</th>\n      <td>sub_grade_encoded</td>\n      <td>0.068717</td>\n    </tr>\n    <tr>\n      <th>11</th>\n      <td>fico_average</td>\n      <td>0.057947</td>\n    </tr>\n    <tr>\n      <th>0</th>\n      <td>dti_joint</td>\n      <td>0.056613</td>\n    </tr>\n    <tr>\n      <th>9</th>\n      <td>dti_final</td>\n      <td>0.056460</td>\n    </tr>\n    <tr>\n      <th>1</th>\n      <td>annual_inc_joint</td>\n      <td>0.048277</td>\n    </tr>\n  </tbody>\n</table>\n</div>"
     },
     "execution_count": 5,
     "metadata": {},
     "output_type": "execute_result"
    }
   ],
   "source": [
    "df_reg = df_reg.drop(columns=[\"fico_risk_band\"])\n",
    "results = run_random_forest_analysis(df_reg)\n",
    "\n",
    "print(\"RMSE:\", results[\"rmse\"])\n",
    "print(\"R² Score:\", results[\"r2_score\"])\n",
    "results[\"feature_importances\"].head(10)"
   ],
   "metadata": {
    "collapsed": false,
    "ExecuteTime": {
     "end_time": "2025-04-07T15:54:21.093469Z",
     "start_time": "2025-04-07T15:54:09.337786Z"
    }
   }
  },
  {
   "cell_type": "code",
   "execution_count": 6,
   "outputs": [
    {
     "data": {
      "text/plain": "\u001B[31m╭─\u001B[0m\u001B[31m──────────────────────────────\u001B[0m\u001B[31m \u001B[0m\u001B[1;31mTraceback \u001B[0m\u001B[1;2;31m(most recent call last)\u001B[0m\u001B[31m \u001B[0m\u001B[31m───────────────────────────────\u001B[0m\u001B[31m─╮\u001B[0m\n\u001B[31m│\u001B[0m in \u001B[92m<module>\u001B[0m:\u001B[94m2\u001B[0m                                                                                    \u001B[31m│\u001B[0m\n\u001B[31m│\u001B[0m                                                                                                  \u001B[31m│\u001B[0m\n\u001B[31m│\u001B[0m   \u001B[2m 1 \u001B[0mmodel = RandomForestRegressor(n_estimators=\u001B[94m100\u001B[0m, random_state=\u001B[94m42\u001B[0m)                            \u001B[31m│\u001B[0m\n\u001B[31m│\u001B[0m \u001B[31m❱ \u001B[0m 2 model.fit(X_train, y_train)                                                                 \u001B[31m│\u001B[0m\n\u001B[31m│\u001B[0m   \u001B[2m 3 \u001B[0mimportances = model.feature_importances_                                                    \u001B[31m│\u001B[0m\n\u001B[31m│\u001B[0m   \u001B[2m 4 \u001B[0m                                                                                            \u001B[31m│\u001B[0m\n\u001B[31m│\u001B[0m   \u001B[2m 5 \u001B[0mimportance_df = pd.DataFrame({                                                              \u001B[31m│\u001B[0m\n\u001B[31m╰──────────────────────────────────────────────────────────────────────────────────────────────────╯\u001B[0m\n\u001B[1;91mNameError: \u001B[0mname \u001B[32m'X_train'\u001B[0m is not defined\n",
      "text/html": "<pre style=\"white-space:pre;overflow-x:auto;line-height:normal;font-family:Menlo,'DejaVu Sans Mono',consolas,'Courier New',monospace\"><span style=\"color: #800000; text-decoration-color: #800000\">╭─────────────────────────────── </span><span style=\"color: #800000; text-decoration-color: #800000; font-weight: bold\">Traceback </span><span style=\"color: #bf7f7f; text-decoration-color: #bf7f7f; font-weight: bold\">(most recent call last)</span><span style=\"color: #800000; text-decoration-color: #800000\"> ────────────────────────────────╮</span>\n<span style=\"color: #800000; text-decoration-color: #800000\">│</span> in <span style=\"color: #00ff00; text-decoration-color: #00ff00\">&lt;module&gt;</span>:<span style=\"color: #0000ff; text-decoration-color: #0000ff\">2</span>                                                                                    <span style=\"color: #800000; text-decoration-color: #800000\">│</span>\n<span style=\"color: #800000; text-decoration-color: #800000\">│</span>                                                                                                  <span style=\"color: #800000; text-decoration-color: #800000\">│</span>\n<span style=\"color: #800000; text-decoration-color: #800000\">│</span>   <span style=\"color: #7f7f7f; text-decoration-color: #7f7f7f\"> 1 </span>model = RandomForestRegressor(n_estimators=<span style=\"color: #0000ff; text-decoration-color: #0000ff\">100</span>, random_state=<span style=\"color: #0000ff; text-decoration-color: #0000ff\">42</span>)                            <span style=\"color: #800000; text-decoration-color: #800000\">│</span>\n<span style=\"color: #800000; text-decoration-color: #800000\">│</span> <span style=\"color: #800000; text-decoration-color: #800000\">❱ </span> 2 model.fit(X_train, y_train)                                                                 <span style=\"color: #800000; text-decoration-color: #800000\">│</span>\n<span style=\"color: #800000; text-decoration-color: #800000\">│</span>   <span style=\"color: #7f7f7f; text-decoration-color: #7f7f7f\"> 3 </span>importances = model.feature_importances_                                                    <span style=\"color: #800000; text-decoration-color: #800000\">│</span>\n<span style=\"color: #800000; text-decoration-color: #800000\">│</span>   <span style=\"color: #7f7f7f; text-decoration-color: #7f7f7f\"> 4 </span>                                                                                            <span style=\"color: #800000; text-decoration-color: #800000\">│</span>\n<span style=\"color: #800000; text-decoration-color: #800000\">│</span>   <span style=\"color: #7f7f7f; text-decoration-color: #7f7f7f\"> 5 </span>importance_df = pd.DataFrame({                                                              <span style=\"color: #800000; text-decoration-color: #800000\">│</span>\n<span style=\"color: #800000; text-decoration-color: #800000\">╰──────────────────────────────────────────────────────────────────────────────────────────────────╯</span>\n<span style=\"color: #ff0000; text-decoration-color: #ff0000; font-weight: bold\">NameError: </span>name <span style=\"color: #008000; text-decoration-color: #008000\">'X_train'</span> is not defined\n</pre>\n"
     },
     "metadata": {},
     "output_type": "display_data"
    }
   ],
   "source": [
    "\n",
    "\n",
    "model = RandomForestRegressor(n_estimators=100, random_state=42)\n",
    "model.fit(X_train, y_train)\n",
    "importances = model.feature_importances_\n",
    "\n",
    "importance_df = pd.DataFrame({\n",
    "    \"feature\": X_train.columns,\n",
    "    \"importance\": model.feature_importances_\n",
    "}).sort_values(by=\"importance\", ascending=False)\n",
    "\n",
    "importance_df.head(20).plot.barh(x=\"feature\", y=\"importance\", figsize=(10, 8))\n",
    "plt.gca().invert_yaxis()\n",
    "plt.title(\"Top Feature Importances - RandomForestRegressor\")\n",
    "plt.tight_layout()\n",
    "plt.show()\n"
   ],
   "metadata": {
    "collapsed": false,
    "ExecuteTime": {
     "end_time": "2025-04-07T15:54:52.240489Z",
     "start_time": "2025-04-07T15:54:52.162277Z"
    }
   }
  },
  {
   "cell_type": "code",
   "execution_count": null,
   "outputs": [],
   "source": [],
   "metadata": {
    "collapsed": false
   }
  }
 ],
 "metadata": {
  "kernelspec": {
   "display_name": "Python 3",
   "language": "python",
   "name": "python3"
  },
  "language_info": {
   "codemirror_mode": {
    "name": "ipython",
    "version": 2
   },
   "file_extension": ".py",
   "mimetype": "text/x-python",
   "name": "python",
   "nbconvert_exporter": "python",
   "pygments_lexer": "ipython2",
   "version": "2.7.6"
  }
 },
 "nbformat": 4,
 "nbformat_minor": 0
}
