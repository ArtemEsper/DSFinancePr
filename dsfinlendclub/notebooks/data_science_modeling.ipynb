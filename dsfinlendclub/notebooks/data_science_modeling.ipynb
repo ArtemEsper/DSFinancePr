{
 "cells": [
  {
   "cell_type": "markdown",
   "source": [
    "### Stage 3: Analysis of the key reporting metrics and final feature selection.\n",
    "---\n",
    "### Tree features evaluation results\n",
    "---\n",
    "### ✅ High-Quality Features (Low Missing + Low Zero Rate)\n",
    "\n",
    "| Feature                    | Missing Rate  | Zero Rate | Description                                   |\n",
    "|----------------------------|---------------|-----------|-----------------------------------------------|\n",
    "| int_rate                   | 0.0%          | 0.0%      | Interest rate (decimal)                       |\n",
    "| fico_average               | 0.0%          | 0.0%      | Average FICO score                            |\n",
    "| grade_encoded              | 0.0%          | 0.0%      | LendingClub ordinal credit grade              |\n",
    "| sub_grade_encoded          | 0.0%          | 0.0%      | Fine-grained credit subgrade                  |\n",
    "| term_tree                  | 0.0%          | 0.0%      | Categorical loan term                         |\n",
    "| loan_to_installment_ratio  | 0.0%          | 0.0%      | Loan amount vs. installment ratio             |\n",
    "| fico_risk_band             | 0.0%          | —         | Binned FICO risk categories                   |\n",
    "| income_band_tree           | 0.0%          | 10.0%     | Income decile bins                            |\n",
    "| is_high_util_tree          | 0.0%          | 50.1%     | Flag for high credit utilization              |\n",
    "| is_high_income_tree        | 0.0%          | 50.9%     | Flag for high income                          |\n",
    "| is_high_dti_tree           | 0.0%          | 50.0%     | Flag for high debt-to-income ratio            |\n",
    "| revol_util_tree            | 0.0%          | 0.6%      | Cleaned revolving utilization                 |\n",
    "| purpose_risk_score         | 0.0%          | 0.0%      | Purpose-mapped risk score                     |\n"
   ],
   "metadata": {
    "collapsed": false
   }
  },
  {
   "cell_type": "markdown",
   "source": [
    "### ⚠️ Features with High Missing Rates\n",
    "\n",
    "| Feature                         | Missing Rate | Description                                 |\n",
    "|---------------------------------|--------------|---------------------------------------------|\n",
    "| annual_inc_joint                | 93.1%        | Joint applicant income                      |\n",
    "| dti_joint                       | 93.1%        | Joint applicant DTI                         |\n",
    "| avg_cur_bal_missing             | 97.6%        | Missing flag for average current balance    |\n",
    "| tot_cur_bal_missing             | 97.6%        | Missing flag for total current balance      |\n",
    "| num_tl_op_past_12m_missing      | 97.6%        | Trade lines opened in past 12m (missing)    |\n",
    "| mths_since_recent_inq_missing   | 87.3%        | Missing flag for recent inquiries           |\n",
    "| hardship_dpd_filled             | 99.1%        | Days past due during hardship               |\n",
    "| was_late_before_hardship        | 99.8%        | Loan already late before hardship           |\n",
    "| loan_status_binary              | ~100%        | ⚠️ Critical target field — likely dropped!  |\n"
   ],
   "metadata": {
    "collapsed": false
   }
  },
  {
   "cell_type": "markdown",
   "source": [
    "### 🚫 Low-Variance / Sparse Features (Zero-Dominant or Unused)\n",
    "\n",
    "| Feature                   | Zero Rate | Notes                                  |\n",
    "|---------------------------|-----------|----------------------------------------|\n",
    "| purpose_nan               | 100%      | Always non-null — redundant            |\n",
    "| high_payment_burden       | 99.1%     | Almost always 0 — very sparse          |\n",
    "| was_late_before_hardship  | 99.8%     | Rarely true — possibly drop            |\n",
    "| recent_major_derog_flag   | 95.1%     | Sparse flag, low utility               |\n"
   ],
   "metadata": {
    "collapsed": false
   }
  },
  {
   "cell_type": "markdown",
   "source": [
    "### 📈 Binary Tree Features with Split Potential\n",
    "\n",
    "| Feature                   | Zero Rate | Notes                                |\n",
    "|---------------------------|-----------|--------------------------------------|\n",
    "| has_derogatory            | 69.7%     | Indicates any derogatory history     |\n",
    "| has_recent_delinq_tree    | 82.5%     | Recency of delinquencies             |\n",
    "| has_delinq_tree           | 82.2%     | Any past delinquency                 |\n",
    "| purpose_high_risk         | 1.7%      | Differentiates low-risk purposes     |\n",
    "| is_high_util_tree         | 50.1%     | Balanced split for utilization       |\n",
    "| is_high_income_tree       | 50.9%     | Balanced split for income            |\n",
    "| is_high_dti_tree          | 50.0%     | Balanced split for DTI               |\n"
   ],
   "metadata": {
    "collapsed": false
   }
  }
 ],
 "metadata": {
  "kernelspec": {
   "display_name": "Python 3",
   "language": "python",
   "name": "python3"
  },
  "language_info": {
   "codemirror_mode": {
    "name": "ipython",
    "version": 2
   },
   "file_extension": ".py",
   "mimetype": "text/x-python",
   "name": "python",
   "nbconvert_exporter": "python",
   "pygments_lexer": "ipython2",
   "version": "2.7.6"
  }
 },
 "nbformat": 4,
 "nbformat_minor": 0
}
