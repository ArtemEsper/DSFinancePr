{
 "cells": [
  {
   "cell_type": "markdown",
   "source": [
    "### Stage 2. Feature engineering for the credit scoring model.\n",
    "| Field                                             | Keep/Remove         | Rationale                                                      |\n",
    "|---------------------------------------------------|---------------------|----------------------------------------------------------------|\n",
    "| purpose, home_ownership                           | Keep                | Important contextual factors                                   |\n",
    "| hardship_flag, hardship_loan_status, hardship_dpd | Combine ?           | Considering combining into single hardship indicator           |\n",
    "| emp_length, earliest_cr_line                      | Keep                | Important stability indicators                                 |\n",
    "| loan_amnt, funded_amnt, installment               | Keep                | Core loan characteristics that directly impact risk assessment |\n",
    "| fico_range_low, fico_range_high                   | Keep                | Critical credit quality indicators                             |\n",
    "| term, int_rate, grade, sub_grade                  | Keep                | Core loan terms and risk assessment                            |\n",
    "| delinq_2yrs, mths_since_last_delinq               | Keep                | Key delinquency metrics                                        |\n",
    "| open_acc, total_acc, open_acc_6m                  | Keep                | Account management indicators                                  |\n",
    "| is_joint_app                                      | Keep                | Important application characteristic                           |\n",
    "| inq_last_6mths                                    | Keep                | Recent credit seeking behavior                                 |\n",
    "| pub_rec, mths_since_last_record                   | Keep                | Public record items important for risk                         |\n",
    "| mths_since_last_major_derog                       | Keep                | Important derogatory indicator                                 |\n",
    "| annual_inc, annual_inc_joint                      | Keep one            | Individual income for individual and joint applications        |\n",
    "| dti, dti_joint                                    | Keep one            | Same logic as income                                           |\n",
    "| revol_util, revol_bal, revol_bal_joint            | Keep one            | Keep individual revolving data for non-joint apps              |\n",
    "| initial_list_status                               | Remove?             | Less relevant for risk assessment                              |\n",
    "| sec_app_earliest_cr_line                          | Remove if non-joint | Only relevant for joint applications                           |"
   ],
   "metadata": {
    "collapsed": false
   }
  },
  {
   "cell_type": "markdown",
   "source": [
    "### Engineering the `home_ownership` fields with `create_home_ownership_ordinal()` in /feature_engineering/nodes.py\n",
    "Functionality:\n",
    "Creates an ordinal encoded feature home_ownership_ordinal from home_ownership, reflecting risk levels.\n",
    "Input: home_ownership — categorical field with values like \"own\", \"mortgage\", \"rent\", \"other\"\n",
    "Output: `home_ownership_ordinal` — integer feature (0 = safest, 3 = riskiest)\n",
    "New field(s): `home_ownership_ordinal` — used in both tree-based and regression models.\n",
    "Drop field(s): `home_ownership` -- used only to create home_ownership_ordinal"
   ],
   "metadata": {
    "collapsed": false
   }
  },
  {
   "cell_type": "code",
   "execution_count": 35,
   "outputs": [
    {
     "name": "stdout",
     "output_type": "stream",
     "text": [
      "Columns to drop ['home_ownership']\n"
     ]
    }
   ],
   "source": [
    "# cols_for_reg = []  # columns for the regression-based models\n",
    "# cols_for_tree = []  # columns for thew tree-based models\n",
    "drop_cols = [\"home_ownership\"] # columns to drop entirely\n",
    "\n",
    "# print(f\"Columns for the regression-based models: {cols_for_reg}\")\n",
    "# print(f\"Columns for the tree-based models: {cols_for_tree}\")\n",
    "print(f\"Columns to drop: {drop_cols}\")"
   ],
   "metadata": {
    "collapsed": false,
    "ExecuteTime": {
     "end_time": "2025-04-01T11:38:50.755415Z",
     "start_time": "2025-04-01T11:38:50.729319Z"
    }
   }
  },
  {
   "cell_type": "markdown",
   "source": [
    "### Engineering the `purpose` field with `encode_purpose_field()` in /feature_engineering/nodes.py\n",
    "\n",
    "**Functionality:**\n",
    "Generates one-hot encoded features from a cleaned version of the `purpose` field (`purpose_cleaned`), replacing rare categories with `\"other\"`.\n",
    "Useful primarily for **tree-based models**, which can leverage one-hot encoded categorical splits.\n",
    "\n",
    "**Input:**  - `purpose` — a preprocessed categorical field (lowercase, space-normalized)\n",
    "\n",
    "**Intermediate Output:**  - `purpose_cleaned` — categorical field where rare categories are grouped as `\"other\"`\n",
    "\n",
    "**Output:**\n",
    "- One-hot encoded fields:\n",
    "  - `purpose_<value>` for each cleaned purpose category\n",
    "  - Includes `purpose_other` and `purpose_nan`\n",
    "\n",
    "**New field(s):**\n",
    "- `purpose_cleaned` — used to generate the one-hot columns\n",
    "- `purpose_*` — one-hot encoded columns, **tree model-specific**\n",
    "\n",
    "**Drop field(s):**\n",
    "- `purpose` — used only for generating `purpose_cleaned` and will be used in `create_loan_purpose_risk_features()` below\n",
    "- `purpose_cleaned` — optional to drop after one-hot encoding, unless used later\n",
    "\n",
    "> 💡 Tip: Keep `purpose_cleaned` if any downstream analysis requires interpretable categorical grouping. Otherwise, it can be dropped post one-hot encoding.\n"
   ],
   "metadata": {
    "collapsed": false
   }
  },
  {
   "cell_type": "code",
   "execution_count": 36,
   "outputs": [
    {
     "name": "stdout",
     "output_type": "stream",
     "text": [
      "Columns for the tree-based models: ['purpose_other', 'purpose_nan']\n",
      "Columns to drop ['home_ownership', 'purpose_cleaned']\n"
     ]
    }
   ],
   "source": [
    "\n",
    "cols_for_tree = [\"purpose_other\", \"purpose_nan\"]\n",
    "\n",
    "\n",
    "drop_cols = list(set(drop_cols + [\"purpose_cleaned\"]))\n",
    "\n",
    "# print(f\"Columns for the regression-based models: {cols_for_reg}\")\n",
    "print(f\"Columns for the tree-based models: {cols_for_tree}\")\n",
    "print(f\"Columns to drop {drop_cols}\")"
   ],
   "metadata": {
    "collapsed": false,
    "ExecuteTime": {
     "end_time": "2025-04-01T11:39:29.344044Z",
     "start_time": "2025-04-01T11:39:29.321259Z"
    }
   }
  },
  {
   "cell_type": "markdown",
   "source": [
    "### Engineering the `purpose` fields with `create_loan_purpose_risk_features()` in /feature_engineering/nodes.py\n",
    "Functionality:\n",
    "Transforms the purpose field into multiple risk-based features using business logic (risk mappings) and creates derived features useful for both tree-based and regression models.\n",
    "Input: `purpose` -- a preprocessed categorical feature (e.g., \"debt consolidation\", \"medical\")\n",
    "Output_1: `purpose_risk_score` — integer score from 1 (low risk) to 4 (very high risk) -- Regression + Tree\n",
    "Output_2: `purpose_risk_category` —  categorical label (low, medium, etc.) -- Tree only (used in one-hot encoding or tree splits)\n",
    "Output_3: `purpose_high_risk` — binary indicator (1 if risk_score ≥ 3) -- tree only\n",
    "New field(s): `purpose_risk_score` — used in tree and regression models.\n",
    "New field(s): `purpose_risk_category`, `purpose_high_risk` — used in tree-based models.\n",
    "Drop field(s): `purpose` —  used to generate all 3 output columns above"
   ],
   "metadata": {
    "collapsed": false
   }
  },
  {
   "cell_type": "code",
   "execution_count": 37,
   "outputs": [
    {
     "name": "stdout",
     "output_type": "stream",
     "text": [
      "Columns for the regression-based models: ['home_ownership_ordinal', 'purpose_risk_score']\n",
      "Columns for the tree-based models: ['purpose_nan', 'home_ownership_ordinal', 'purpose_risk_category', 'purpose_risk_score', 'purpose_high_risk', 'purpose_other']\n",
      "Columns to drop ['home_ownership', 'purpose_cleaned', 'purpose']\n"
     ]
    }
   ],
   "source": [
    "cols_for_reg = [\"home_ownership_ordinal\", \"purpose_risk_score\"]\n",
    "\n",
    "cols_for_tree = list(set(cols_for_tree + [\"home_ownership_ordinal\", \"purpose_risk_score\", \"purpose_risk_category\", \"purpose_high_risk\"]))\n",
    "\n",
    "drop_cols = list(set(drop_cols + [\"purpose\"]))\n",
    "\n",
    "print(f\"Columns for the regression-based models: {cols_for_reg}\")\n",
    "print(f\"Columns for the tree-based models: {cols_for_tree}\")\n",
    "print(f\"Columns to drop {drop_cols}\")"
   ],
   "metadata": {
    "collapsed": false,
    "ExecuteTime": {
     "end_time": "2025-04-01T11:40:23.900097Z",
     "start_time": "2025-04-01T11:40:23.851025Z"
    }
   }
  },
  {
   "cell_type": "markdown",
   "source": [
    "### Engineering the `hardship_flag` field with `create_has_hardship_flag()` in /feature_engineering/nodes.py\n",
    "\n",
    "**Functionality:**\n",
    "Converts the categorical `hardship_flag` column (values like `'y'` / `'n'`) into a binary numeric indicator `has_hardship`.\n",
    "\n",
    "**Input:**\n",
    "- `hardship_flag` — a string column indicating if the borrower had a hardship (values like `\"y\"`, `\"n\"`, case-insensitive)\n",
    "\n",
    "**Output:**\n",
    "- `has_hardship` — binary indicator:\n",
    "  - `1` if hardship_flag is `\"y\"`\n",
    "  - `0` otherwise\n",
    "\n",
    "**New field(s):**\n",
    "- `has_hardship` — **used in both tree-based and regression models**\n",
    "\n",
    "**Drop field(s):**\n",
    "- `hardship_flag` — only used for generating `has_hardship`, can be dropped after this node\n"
   ],
   "metadata": {
    "collapsed": false
   }
  },
  {
   "cell_type": "code",
   "execution_count": 38,
   "outputs": [
    {
     "name": "stdout",
     "output_type": "stream",
     "text": [
      "Columns for the regression-based models: ['home_ownership_ordinal', 'purpose_risk_score', 'has_hardship']\n",
      "Columns for the tree-based models: ['purpose_nan', 'home_ownership_ordinal', 'purpose_risk_category', 'purpose_risk_score', 'purpose_high_risk', 'purpose_other', 'has_hardship']\n",
      "Columns to drop ['home_ownership', 'purpose_cleaned', 'purpose', 'hardship_flag']\n"
     ]
    }
   ],
   "source": [
    "cols_for_reg = list(set(cols_for_reg + [\"has_hardship\"]))\n",
    "\n",
    "cols_for_tree = list(set(cols_for_tree + [\"has_hardship\"]))\n",
    "\n",
    "drop_cols = list(set(drop_cols + [\"hardship_flag\"]))\n",
    "\n",
    "print(f\"Columns for the regression-based models: {cols_for_reg}\")\n",
    "print(f\"Columns for the tree-based models: {cols_for_tree}\")\n",
    "print(f\"Columns to drop {drop_cols}\")"
   ],
   "metadata": {
    "collapsed": false,
    "ExecuteTime": {
     "end_time": "2025-04-01T12:46:04.098215Z",
     "start_time": "2025-04-01T12:46:04.095130Z"
    }
   }
  },
  {
   "cell_type": "markdown",
   "source": [
    "### Engineering the `hardship_loan_status` field with `create_was_late_before_hardship()` in /feature_engineering/nodes.py\n",
    "\n",
    "**Functionality:**\n",
    "Creates a binary feature that indicates whether a borrower entered hardship while already in a **late loan status**.\n",
    "\n",
    "**Input:**\n",
    "- `hardship_loan_status` — string field indicating loan status at time of hardship (e.g., `\"late (31-120 days)\"`, `\"fully paid\"`, etc.)\n",
    "\n",
    "**Output:**\n",
    "- `was_late_before_hardship` — binary indicator:\n",
    "  - `1` if the loan status at hardship contains the word `\"late\"` (case-insensitive)\n",
    "  - `0` otherwise or if field is missing\n",
    "\n",
    "**New field(s):**\n",
    "- `was_late_before_hardship` — **used in both tree-based and regression models**\n",
    "\n",
    "**Drop field(s):**\n",
    "- `hardship_loan_status` — used only to derive `was_late_before_hardship`, can be dropped after this node\n"
   ],
   "metadata": {
    "collapsed": false
   }
  },
  {
   "cell_type": "code",
   "execution_count": 39,
   "outputs": [
    {
     "name": "stdout",
     "output_type": "stream",
     "text": [
      "Columns for the regression-based models: ['was_late_before_hardship', 'home_ownership_ordinal', 'purpose_risk_score', 'has_hardship']\n",
      "Columns for the tree-based models: ['purpose_nan', 'was_late_before_hardship', 'home_ownership_ordinal', 'purpose_risk_category', 'purpose_risk_score', 'purpose_high_risk', 'purpose_other', 'has_hardship']\n",
      "Columns to drop ['purpose_cleaned', 'purpose', 'hardship_flag', 'home_ownership', 'hardship_loan_status']\n"
     ]
    }
   ],
   "source": [
    "cols_for_reg = list(set(cols_for_reg + [\"was_late_before_hardship\"]))\n",
    "\n",
    "cols_for_tree = list(set(cols_for_tree + [\"was_late_before_hardship\"]))\n",
    "\n",
    "drop_cols = list(set(drop_cols + [\"hardship_loan_status\"]))\n",
    "\n",
    "print(f\"Columns for the regression-based models: {cols_for_reg}\")\n",
    "print(f\"Columns for the tree-based models: {cols_for_tree}\")\n",
    "print(f\"Columns to drop {drop_cols}\")"
   ],
   "metadata": {
    "collapsed": false,
    "ExecuteTime": {
     "end_time": "2025-04-01T12:46:33.257798Z",
     "start_time": "2025-04-01T12:46:33.207748Z"
    }
   }
  },
  {
   "cell_type": "markdown",
   "source": [
    "### Engineering the `hardship_dpd` field with `create_hardship_features()` in /feature_engineering/nodes.py\n",
    "\n",
    "**Functionality:**\n",
    "Fills missing values in the `hardship_dpd` (days past due during hardship) field and creates a cleaned version for modeling.\n",
    "\n",
    "**Input:**\n",
    "- `hardship_dpd` — numeric field representing how many days the loan was past due at the time of hardship (can be NaN)\n",
    "\n",
    "**Output:**\n",
    "- `hardship_dpd_filled` — numeric field with missing values filled as `0`\n",
    "\n",
    "**New field(s):**\n",
    "- `hardship_dpd_filled` — **used in both tree-based and regression models**\n",
    "\n",
    "**Drop field(s):**\n",
    "- `hardship_dpd` — original raw column used only to create the cleaned version, can be dropped after this node\n"
   ],
   "metadata": {
    "collapsed": false
   }
  },
  {
   "cell_type": "code",
   "execution_count": 40,
   "outputs": [
    {
     "name": "stdout",
     "output_type": "stream",
     "text": [
      "Columns for the regression-based models: ['was_late_before_hardship', 'home_ownership_ordinal', 'hardship_dpd_filled', 'purpose_risk_score', 'has_hardship']\n",
      "Columns for the tree-based models: ['purpose_nan', 'was_late_before_hardship', 'home_ownership_ordinal', 'hardship_dpd_filled', 'purpose_risk_category', 'purpose_risk_score', 'purpose_high_risk', 'purpose_other', 'has_hardship']\n",
      "Columns to drop ['purpose_cleaned', 'purpose', 'hardship_flag', 'home_ownership', 'hardship_loan_status', 'hardship_dpd']\n"
     ]
    }
   ],
   "source": [
    "cols_for_reg = list(set(cols_for_reg + [\"hardship_dpd_filled\"]))\n",
    "\n",
    "cols_for_tree = list(set(cols_for_tree + [\"hardship_dpd_filled\"]))\n",
    "\n",
    "drop_cols = list(set(drop_cols + [\"hardship_dpd\"]))\n",
    "\n",
    "print(f\"Columns for the regression-based models: {cols_for_reg}\")\n",
    "print(f\"Columns for the tree-based models: {cols_for_tree}\")\n",
    "print(f\"Columns to drop {drop_cols}\")"
   ],
   "metadata": {
    "collapsed": false,
    "ExecuteTime": {
     "end_time": "2025-04-01T12:49:21.591925Z",
     "start_time": "2025-04-01T12:49:21.555310Z"
    }
   }
  },
  {
   "cell_type": "markdown",
   "source": [
    "### Engineering the `emp_length` field with `engineer_emp_length_features()` in /feature_engineering/nodes.py\n",
    "\n",
    "**Functionality:**\n",
    "Transforms the text-based `emp_length` field into numeric versions for use in both tree-based and regression models. Handles missing values separately depending on the model type.\n",
    "\n",
    "**Input:**\n",
    "- `emp_length` — a categorical field representing the number of years employed (e.g., `\"10+ years\"`, `\"< 1 year\"`)\n",
    "\n",
    "**Output:**\n",
    "- `emp_length_clean` — numeric base transformation (used internally)\n",
    "- `emp_length_clean_tree` — tree-model-specific version with missing filled as `-1`\n",
    "- `emp_length_clean_reg` — regression-model-specific version with missing filled as **median**\n",
    "\n",
    "**New field(s):**\n",
    "- `emp_length_clean_tree` — **used in tree-based models**\n",
    "- `emp_length_clean_reg` — **used in regression models**\n",
    "\n",
    "**Drop field(s):**\n",
    "- `emp_length` — original text field, can be dropped after this node\n",
    "- `emp_length_clean` — intermediate transformation, not directly used downstream\n"
   ],
   "metadata": {
    "collapsed": false
   }
  },
  {
   "cell_type": "code",
   "execution_count": 41,
   "outputs": [
    {
     "name": "stdout",
     "output_type": "stream",
     "text": [
      "Columns for the regression-based models: ['was_late_before_hardship', 'home_ownership_ordinal', 'emp_length_clean_reg', 'hardship_dpd_filled', 'purpose_risk_score', 'has_hardship']\n",
      "Columns for the tree-based models: ['purpose_nan', 'was_late_before_hardship', 'home_ownership_ordinal', 'hardship_dpd_filled', 'purpose_risk_category', 'purpose_risk_score', 'emp_length_clean_tree', 'purpose_high_risk', 'purpose_other', 'has_hardship']\n",
      "Columns to drop ['purpose_cleaned', 'purpose', 'hardship_flag', 'emp_length', 'home_ownership', 'hardship_loan_status', 'emp_length_clean', 'hardship_dpd']\n"
     ]
    }
   ],
   "source": [
    "cols_for_reg = list(set(cols_for_reg + [\"emp_length_clean_reg\"]))\n",
    "\n",
    "cols_for_tree = list(set(cols_for_tree + [\"emp_length_clean_tree\"]))\n",
    "\n",
    "drop_cols = list(set(drop_cols + [\"emp_length\", \"emp_length_clean\"]))\n",
    "\n",
    "print(f\"Columns for the regression-based models: {cols_for_reg}\")\n",
    "print(f\"Columns for the tree-based models: {cols_for_tree}\")\n",
    "print(f\"Columns to drop {drop_cols}\")"
   ],
   "metadata": {
    "collapsed": false,
    "ExecuteTime": {
     "end_time": "2025-04-01T14:03:23.093432Z",
     "start_time": "2025-04-01T14:03:23.039025Z"
    }
   }
  },
  {
   "cell_type": "markdown",
   "source": [
    "### Engineering the `earliest_cr_line` fields with `create_credit_age_feature()` in /feature_engineering/nodes.py\n",
    "\n",
    "**Functionality:**\n",
    "Combines individual and joint applicants’ credit line information into a unified field and calculates credit history length (age) in months.\n",
    "\n",
    "**Inputs:**\n",
    "- `earliest_cr_line` — datetime field for the primary applicant’s earliest credit line\n",
    "- `sec_app_earliest_cr_line` — datetime for secondary applicant (if joint)\n",
    "- `issue_d` — loan issue date\n",
    "- `is_joint_app` — binary flag indicating joint application\n",
    "\n",
    "**Outputs:**\n",
    "- `earliest_cr_line_final` — unified field (uses secondary applicant’s date if applicable)\n",
    "- `credit_age_months` — numeric field representing months between credit line and loan issue\n",
    "\n",
    "**New field(s):**\n",
    "- `earliest_cr_line_final` — used as temporal reference, especially for joint cases\n",
    "- `credit_age_months` — used in **both** tree-based and regression models\n",
    "\n",
    "**Drop field(s):**\n",
    "- `earliest_cr_line` — superseded by `earliest_cr_line_final`\n",
    "- `sec_app_earliest_cr_line` — no longer needed after merge\n",
    "- `issue_d` — used in other features too, so **retain**\n"
   ],
   "metadata": {
    "collapsed": false
   }
  },
  {
   "cell_type": "code",
   "execution_count": 42,
   "outputs": [
    {
     "name": "stdout",
     "output_type": "stream",
     "text": [
      "Columns for the regression-based models: ['was_late_before_hardship', 'home_ownership_ordinal', 'emp_length_clean_reg', 'hardship_dpd_filled', 'credit_age_months', 'purpose_risk_score', 'has_hardship']\n",
      "Columns for the tree-based models: ['purpose_nan', 'was_late_before_hardship', 'home_ownership_ordinal', 'hardship_dpd_filled', 'credit_age_months', 'purpose_risk_category', 'purpose_risk_score', 'emp_length_clean_tree', 'purpose_high_risk', 'purpose_other', 'has_hardship']\n",
      "Columns to drop ['purpose_cleaned', 'purpose', 'hardship_flag', 'emp_length', 'sec_app_earliest_cr_line', 'home_ownership', 'hardship_loan_status', 'emp_length_clean', 'hardship_dpd', 'earliest_cr_line', 'earliest_cr_line_final']\n"
     ]
    }
   ],
   "source": [
    "cols_for_reg = list(set(cols_for_reg + [\"credit_age_months\"]))\n",
    "\n",
    "cols_for_tree = list(set(cols_for_tree + [\"credit_age_months\"]))\n",
    "\n",
    "drop_cols = list(set(drop_cols + [\"earliest_cr_line\", \"sec_app_earliest_cr_line\", \"earliest_cr_line_final\"]))\n",
    "\n",
    "print(f\"Columns for the regression-based models: {cols_for_reg}\")\n",
    "print(f\"Columns for the tree-based models: {cols_for_tree}\")\n",
    "print(f\"Columns to drop {drop_cols}\")"
   ],
   "metadata": {
    "collapsed": false,
    "ExecuteTime": {
     "end_time": "2025-04-01T14:03:26.434236Z",
     "start_time": "2025-04-01T14:03:26.415223Z"
    }
   }
  },
  {
   "cell_type": "markdown",
   "source": [
    "### Engineering the `loan_amnt` and `installment` fields with `create_loan_amount_features()` in `/feature_engineering/nodes.py`\n",
    "\n",
    "**Functionality:**\n",
    "Creates ratio-based and binned features that capture the relationship between loan amount and monthly installment. These features reflect affordability and general loan size.\n",
    "\n",
    "**Input Fields:**\n",
    "- `loan_amnt` – total loan amount\n",
    "- `installment` – monthly payment amount\n",
    "\n",
    "**Output Fields:**\n",
    "- `loan_to_installment_ratio` – ratio of loan amount to installment payment, clipped to 1st–99th percentile. Used in **tree-based and regression** models\n",
    "- `loan_amount_band` – decile-based binning of `loan_amnt` (0–9), fallback to fixed bins if needed. Used in **tree-based** models (categorical splits)\n",
    "\n",
    "**Drop Field(s):**\n",
    "- _None dropped at this stage_\n",
    "  `loan_amnt` and `installment` are still used in:\n",
    "  - `income_to_loan_reg`\n",
    "  - `payment_to_income`\n",
    "  - Downstream validation and feature profiling\n",
    "\n",
    "⚠️ _Dropping `loan_amnt` and `installment` after all dependent features are created._\n"
   ],
   "metadata": {
    "collapsed": false
   }
  },
  {
   "cell_type": "markdown",
   "source": [
    "### The `funded_amnt` field will be deleted since its correlated with `loan_amnt`"
   ],
   "metadata": {
    "collapsed": false
   }
  },
  {
   "cell_type": "code",
   "execution_count": 43,
   "outputs": [
    {
     "name": "stdout",
     "output_type": "stream",
     "text": [
      "Columns for the regression-based models: ['was_late_before_hardship', 'home_ownership_ordinal', 'emp_length_clean_reg', 'hardship_dpd_filled', 'credit_age_months', 'purpose_risk_score', 'loan_to_installment_ratio', 'has_hardship']\n",
      "Columns for the tree-based models: ['purpose_nan', 'was_late_before_hardship', 'home_ownership_ordinal', 'hardship_dpd_filled', 'credit_age_months', 'purpose_risk_category', 'purpose_risk_score', 'loan_to_installment_ratio', 'emp_length_clean_tree', 'purpose_high_risk', 'loan_amount_band', 'purpose_other', 'has_hardship']\n",
      "Columns to drop ['purpose_cleaned', 'purpose', 'hardship_flag', 'emp_length', 'sec_app_earliest_cr_line', 'home_ownership', 'hardship_loan_status', 'funded_amnt', 'emp_length_clean', 'hardship_dpd', 'earliest_cr_line', 'earliest_cr_line_final']\n"
     ]
    }
   ],
   "source": [
    "cols_for_reg = list(set(cols_for_reg + [\"loan_to_installment_ratio\"]))\n",
    "\n",
    "cols_for_tree = list(set(cols_for_tree + [\"loan_to_installment_ratio\", \"loan_amount_band\"]))\n",
    "\n",
    "drop_cols = list(set(drop_cols + [\"funded_amnt\"]))\n",
    "\n",
    "print(f\"Columns for the regression-based models: {cols_for_reg}\")\n",
    "print(f\"Columns for the tree-based models: {cols_for_tree}\")\n",
    "print(f\"Columns to drop {drop_cols}\")"
   ],
   "metadata": {
    "collapsed": false,
    "ExecuteTime": {
     "end_time": "2025-04-01T14:03:29.663761Z",
     "start_time": "2025-04-01T14:03:29.625863Z"
    }
   }
  },
  {
   "cell_type": "markdown",
   "source": [
    "### Engineering the `fico` fields with `create_fico_score_features()` in `/feature_engineering/nodes.py`\n",
    "\n",
    "**Functionality:**\n",
    "Generates standardized and model-friendly FICO score features by averaging FICO bounds and creating binned risk indicators.\n",
    "\n",
    "**Inputs:**\n",
    "- `fico_range_low`: Lower end of the borrower's estimated FICO range\n",
    "- `fico_range_high`: Upper end of the borrower's estimated FICO range\n",
    "\n",
    "**Output Fields:**\n",
    "- `fico_average`: Mean of `fico_range_low` and `fico_range_high`, clipped to [300–850]\n",
    "  - Used in **tree-based** and **regression** models\n",
    "- `fico_risk_band`: Categorical score band (A–F), using either quantiles or fallback fixed bins\n",
    "  - Used in **tree-based** models only\n",
    "\n",
    "**New Field(s):**\n",
    "- `fico_average` —  Tree & Regression\n",
    "- `fico_risk_band` —  Tree only\n",
    "\n",
    "**Drop Field(s):**\n",
    "- `fico_range_low` —  Drop after creating `fico_average`\n",
    "- `fico_range_high` —  Drop after creating `fico_average`\n"
   ],
   "metadata": {
    "collapsed": false
   }
  },
  {
   "cell_type": "code",
   "execution_count": 44,
   "outputs": [
    {
     "name": "stdout",
     "output_type": "stream",
     "text": [
      "Columns for the regression-based models: ['was_late_before_hardship', 'home_ownership_ordinal', 'emp_length_clean_reg', 'hardship_dpd_filled', 'credit_age_months', 'purpose_risk_score', 'loan_to_installment_ratio', 'fico_average', 'has_hardship']\n",
      "Columns for the tree-based models: ['purpose_nan', 'fico_risk_band', 'was_late_before_hardship', 'home_ownership_ordinal', 'hardship_dpd_filled', 'credit_age_months', 'purpose_risk_category', 'purpose_risk_score', 'loan_to_installment_ratio', 'emp_length_clean_tree', 'purpose_high_risk', 'fico_average', 'loan_amount_band', 'purpose_other', 'has_hardship']\n",
      "Columns to drop ['purpose_cleaned', 'fico_range_low', 'purpose', 'hardship_flag', 'fico_range_high', 'emp_length', 'sec_app_earliest_cr_line', 'home_ownership', 'hardship_loan_status', 'funded_amnt', 'emp_length_clean', 'hardship_dpd', 'earliest_cr_line', 'earliest_cr_line_final']\n"
     ]
    }
   ],
   "source": [
    "cols_for_reg = list(set(cols_for_reg + [\"fico_average\"]))\n",
    "\n",
    "cols_for_tree = list(set(cols_for_tree + [\"fico_average\", \"fico_risk_band\"]))\n",
    "\n",
    "drop_cols = list(set(drop_cols + [\"fico_range_low\", \"fico_range_high\"]))\n",
    "\n",
    "print(f\"Columns for the regression-based models: {cols_for_reg}\")\n",
    "print(f\"Columns for the tree-based models: {cols_for_tree}\")\n",
    "print(f\"Columns to drop {drop_cols}\")"
   ],
   "metadata": {
    "collapsed": false,
    "ExecuteTime": {
     "end_time": "2025-04-01T14:03:33.101713Z",
     "start_time": "2025-04-01T14:03:33.095912Z"
    }
   }
  },
  {
   "cell_type": "markdown",
   "source": [],
   "metadata": {
    "collapsed": false
   }
  },
  {
   "cell_type": "markdown",
   "source": [
    "### Engineering the `term` fields with `create_term_model_features()` in `/feature_engineering/nodes.py`\n",
    "\n",
    "**Functionality:**\n",
    "Generates model-specific features from the `term` column (e.g., 36 or 60 months) for both tree-based and regression models.\n",
    "\n",
    "**Input:**\n",
    "- `term` — numeric loan term in months (already cleaned during preprocessing)\n",
    "- `int_rate` — interest rate ( is used later)\n",
    "\n",
    "**Outputs:**\n",
    "- `term_tree` — Categorical feature used in tree-based models -- Tree-only\n",
    "- `term_normalized_reg` — Scaled feature (0–1) for regression models  -- Regression-only\n",
    "- `term_rate_interaction_reg` — Interaction between term and interest rate -- Regression-only\n",
    "\n",
    "**New field(s):**\n",
    "- `term_tree`\n",
    "- `term_normalized_reg`\n",
    "- `term_rate_interaction_reg`\n",
    "\n",
    "**Drop field(s):**\n",
    "- `term` — can be dropped **after** derived features are created, as it is replaced by model-specific versions.\n"
   ],
   "metadata": {
    "collapsed": false
   }
  },
  {
   "cell_type": "code",
   "execution_count": 45,
   "outputs": [
    {
     "name": "stdout",
     "output_type": "stream",
     "text": [
      "Columns for the regression-based models: ['was_late_before_hardship', 'home_ownership_ordinal', 'emp_length_clean_reg', 'hardship_dpd_filled', 'credit_age_months', 'purpose_risk_score', 'loan_to_installment_ratio', 'fico_average', 'term_rate_interaction_reg', 'term_normalized_reg', 'has_hardship']\n",
      "Columns for the tree-based models: ['purpose_nan', 'fico_risk_band', 'term_tree', 'was_late_before_hardship', 'home_ownership_ordinal', 'hardship_dpd_filled', 'credit_age_months', 'purpose_risk_category', 'purpose_risk_score', 'loan_to_installment_ratio', 'emp_length_clean_tree', 'purpose_high_risk', 'fico_average', 'loan_amount_band', 'purpose_other', 'has_hardship']\n",
      "Columns to drop ['purpose_cleaned', 'fico_range_low', 'fico_range_high', 'purpose', 'hardship_flag', 'emp_length', 'sec_app_earliest_cr_line', 'home_ownership', 'hardship_loan_status', 'funded_amnt', 'emp_length_clean', 'hardship_dpd', 'earliest_cr_line', 'term', 'earliest_cr_line_final']\n"
     ]
    }
   ],
   "source": [
    "cols_for_reg = list(set(cols_for_reg + [\"term_normalized_reg\", \"term_rate_interaction_reg\"]))\n",
    "\n",
    "cols_for_tree = list(set(cols_for_tree + [\"term_tree\"]))\n",
    "\n",
    "drop_cols = list(set(drop_cols + [\"term\"]))\n",
    "\n",
    "print(f\"Columns for the regression-based models: {cols_for_reg}\")\n",
    "print(f\"Columns for the tree-based models: {cols_for_tree}\")\n",
    "print(f\"Columns to drop {drop_cols}\")"
   ],
   "metadata": {
    "collapsed": false,
    "ExecuteTime": {
     "end_time": "2025-04-01T14:03:36.763850Z",
     "start_time": "2025-04-01T14:03:36.744469Z"
    }
   }
  },
  {
   "cell_type": "markdown",
   "source": [
    "### Engineering the `int_rate`, `grade`, and `sub_grade` fields with `encode_interest_and_grade_fields()` in `/feature_engineering/nodes.py`\n",
    "\n",
    "**Functionality:**\n",
    "Transforms key LendingClub classification and interest rate fields into numerical features for modeling.\n",
    "\n",
    "**Inputs:**\n",
    "- `int_rate` — interest rate in percentage (e.g., 13.49)\n",
    "- `grade` — letter grade from A to G (already lowercased in preprocessing)\n",
    "- `sub_grade` — finer-grained version of `grade`, from A1 to G5 (e.g., \"b3\", \"f2\")\n",
    "\n",
    "**Outputs:**\n",
    "- `int_rate` — converted from percentage to decimal (e.g., 0.1349) ✅ Regression + Tree\n",
    "- `grade_encoded` — ordinal feature (1 = best grade A, 7 = worst grade G) ✅ Regression + Tree\n",
    "- `sub_grade_encoded` — fine-grained ordinal feature (1 = A1, ..., 35 = G5) ✅ Regression + Tree\n",
    "\n",
    "**New field(s):**\n",
    "- `grade_encoded`\n",
    "- `sub_grade_encoded`\n",
    "- (transformed) `int_rate` (overwrites original)\n",
    "\n",
    "**Drop field(s):**\n",
    "- `grade` — used to create `grade_encoded`\n",
    "- `sub_grade` — used to create `sub_grade_encoded`\n",
    "- ⚠️ Retain `int_rate` (overwritten with numeric format)\n"
   ],
   "metadata": {
    "collapsed": false
   }
  },
  {
   "cell_type": "code",
   "execution_count": 46,
   "outputs": [
    {
     "name": "stdout",
     "output_type": "stream",
     "text": [
      "Columns for the regression-based models: ['was_late_before_hardship', 'home_ownership_ordinal', 'emp_length_clean_reg', 'hardship_dpd_filled', 'credit_age_months', 'grade_encoded', 'sub_grade_encoded', 'purpose_risk_score', 'loan_to_installment_ratio', 'fico_average', 'int_rate', 'term_normalized_reg', 'term_rate_interaction_reg', 'has_hardship']\n",
      "Columns for the tree-based models: ['purpose_nan', 'was_late_before_hardship', 'hardship_dpd_filled', 'loan_to_installment_ratio', 'emp_length_clean_tree', 'fico_risk_band', 'home_ownership_ordinal', 'purpose_risk_category', 'sub_grade_encoded', 'purpose_risk_score', 'loan_amount_band', 'purpose_other', 'term_tree', 'credit_age_months', 'fico_average', 'grade_encoded', 'purpose_high_risk', 'int_rate', 'has_hardship']\n",
      "Columns to drop ['purpose_cleaned', 'fico_range_low', 'fico_range_high', 'purpose', 'hardship_flag', 'emp_length', 'sec_app_earliest_cr_line', 'home_ownership', 'hardship_loan_status', 'grade', 'funded_amnt', 'emp_length_clean', 'hardship_dpd', 'earliest_cr_line', 'sub_grade', 'term', 'earliest_cr_line_final']\n"
     ]
    }
   ],
   "source": [
    "cols_for_reg = list(set(cols_for_reg + [\"int_rate\", \"grade_encoded\", \"sub_grade_encoded\"]))\n",
    "\n",
    "cols_for_tree = list(set(cols_for_tree + [\"int_rate\", \"grade_encoded\", \"sub_grade_encoded\"]))\n",
    "\n",
    "drop_cols = list(set(drop_cols + [\"grade\", \"sub_grade\"]))\n",
    "\n",
    "print(f\"Columns for the regression-based models: {cols_for_reg}\")\n",
    "print(f\"Columns for the tree-based models: {cols_for_tree}\")\n",
    "print(f\"Columns to drop {drop_cols}\")"
   ],
   "metadata": {
    "collapsed": false,
    "ExecuteTime": {
     "end_time": "2025-04-01T14:03:40.481005Z",
     "start_time": "2025-04-01T14:03:40.399031Z"
    }
   }
  },
  {
   "cell_type": "markdown",
   "source": [
    "### Engineering credit history indicators with `create_credit_history_features()` in `/feature_engineering/nodes.py`\n",
    "\n",
    "**Functionality:**\n",
    "Combines multiple credit history fields into composite features that signal borrower risk due to past derogatory marks or delinquencies.\n",
    "\n",
    "**Inputs:**\n",
    "- `delinq_2yrs` — number of delinquencies in the past 2 years\n",
    "- `pub_rec` — number of derogatory public records\n",
    "- `mths_since_last_delinq` — months since the last delinquency (may contain NaNs)\n",
    "\n",
    "**Outputs:**\n",
    "- `has_derogatory` — binary indicator (1 if `delinq_2yrs` > 0 or `pub_rec` > 0) ✅ Tree + Regression\n",
    "- `delinq_weight` — weighted delinquency severity score (higher if delinquencies were recent) ✅ Regression only\n",
    "\n",
    "**New field(s):**\n",
    "- `has_derogatory` — used in both tree-based and regression models\n",
    "- `delinq_weight` — used in regression models only (continuous score)\n",
    "\n",
    "**Drop field(s):**\n",
    "- None explicitly dropped yet, but:\n",
    "  - `delinq_2yrs`, `pub_rec`, and `mths_since_last_delinq` keep temporarily for use in later features (`create_credit_history_model_features`)\n"
   ],
   "metadata": {
    "collapsed": false
   }
  },
  {
   "cell_type": "code",
   "execution_count": 47,
   "outputs": [
    {
     "name": "stdout",
     "output_type": "stream",
     "text": [
      "Columns for the regression-based models: ['was_late_before_hardship', 'home_ownership_ordinal', 'delinq_weight', 'emp_length_clean_reg', 'hardship_dpd_filled', 'credit_age_months', 'sub_grade_encoded', 'purpose_risk_score', 'loan_to_installment_ratio', 'grade_encoded', 'fico_average', 'int_rate', 'term_rate_interaction_reg', 'has_derogatory', 'term_normalized_reg', 'has_hardship']\n",
      "Columns for the tree-based models: ['purpose_nan', 'was_late_before_hardship', 'hardship_dpd_filled', 'loan_to_installment_ratio', 'emp_length_clean_tree', 'has_derogatory', 'fico_risk_band', 'home_ownership_ordinal', 'purpose_risk_category', 'sub_grade_encoded', 'purpose_risk_score', 'loan_amount_band', 'purpose_other', 'term_tree', 'credit_age_months', 'fico_average', 'grade_encoded', 'purpose_high_risk', 'int_rate', 'has_hardship']\n",
      "Columns to drop ['purpose_cleaned', 'fico_range_low', 'fico_range_high', 'purpose', 'hardship_flag', 'emp_length', 'sec_app_earliest_cr_line', 'home_ownership', 'hardship_loan_status', 'grade', 'funded_amnt', 'emp_length_clean', 'hardship_dpd', 'earliest_cr_line', 'sub_grade', 'term', 'earliest_cr_line_final']\n"
     ]
    }
   ],
   "source": [
    "cols_for_reg = list(set(cols_for_reg + [\"has_derogatory\", \"delinq_weight\"]))\n",
    "\n",
    "cols_for_tree = list(set(cols_for_tree + [\"has_derogatory\"]))\n",
    "\n",
    "# drop_cols = list(set(drop_cols + [\"grade\", \"sub_grade\"]))\n",
    "\n",
    "print(f\"Columns for the regression-based models: {cols_for_reg}\")\n",
    "print(f\"Columns for the tree-based models: {cols_for_tree}\")\n",
    "print(f\"Columns to drop {drop_cols}\")"
   ],
   "metadata": {
    "collapsed": false,
    "ExecuteTime": {
     "end_time": "2025-04-01T14:12:12.200661Z",
     "start_time": "2025-04-01T14:12:12.133479Z"
    }
   }
  },
  {
   "cell_type": "markdown",
   "source": [
    "### Engineering model-specific credit history features with `create_credit_history_model_features()` in `/feature_engineering/nodes.py`\n",
    "\n",
    "**Functionality:**\n",
    "Generates separate credit history features for tree-based and regression models by handling missing values and emphasizing recent delinquencies.\n",
    "\n",
    "**Inputs:**\n",
    "- `delinq_2yrs` — number of delinquencies in the past 2 years\n",
    "- `mths_since_last_delinq` — months since the last delinquency\n",
    "\n",
    "**Outputs:**\n",
    "\n",
    "✅ **Tree-based model features**\n",
    "- `delinq_2yrs_tree` — `delinq_2yrs` with missing values filled by `-1`\n",
    "- `has_delinq_tree` — binary indicator for any delinquency\n",
    "- `has_recent_delinq_tree` — binary flag for recent delinquency (< 24 months)\n",
    "\n",
    "✅ **Regression model features**\n",
    "- `delinq_2yrs_reg` — `delinq_2yrs` with median imputation\n",
    "- `delinq_severity_reg` — delinquency severity (higher if recent)\n",
    "\n",
    "**New field(s):**\n",
    "- Tree models: `delinq_2yrs_tree`, `has_delinq_tree`, `has_recent_delinq_tree`\n",
    "- Regression models: `delinq_2yrs_reg`, `delinq_severity_reg`\n",
    "\n",
    "**Drop field(s):**\n",
    "- None dropped explicitly\n",
    "- `delinq_2yrs` and `mths_since_last_delinq` may be dropped later after final model-specific datasets are built\n"
   ],
   "metadata": {
    "collapsed": false
   }
  },
  {
   "cell_type": "code",
   "execution_count": 48,
   "outputs": [
    {
     "name": "stdout",
     "output_type": "stream",
     "text": [
      "Columns for the regression-based models: ['was_late_before_hardship', 'home_ownership_ordinal', 'delinq_weight', 'emp_length_clean_reg', 'hardship_dpd_filled', 'credit_age_months', 'delinq_2yrs_reg', 'sub_grade_encoded', 'delinq_severity_reg', 'purpose_risk_score', 'loan_to_installment_ratio', 'grade_encoded', 'fico_average', 'int_rate', 'term_normalized_reg', 'has_derogatory', 'term_rate_interaction_reg', 'has_hardship']\n",
      "Columns for the tree-based models: ['purpose_nan', 'has_delinq_tree', 'was_late_before_hardship', 'hardship_dpd_filled', 'loan_to_installment_ratio', 'emp_length_clean_tree', 'has_derogatory', 'has_recent_delinq_tree', 'fico_risk_band', 'home_ownership_ordinal', 'purpose_risk_category', 'sub_grade_encoded', 'purpose_risk_score', 'delinq_2yrs_tree', 'loan_amount_band', 'purpose_other', 'term_tree', 'credit_age_months', 'fico_average', 'grade_encoded', 'purpose_high_risk', 'int_rate', 'has_hardship']\n",
      "Columns to drop ['purpose_cleaned', 'fico_range_low', 'fico_range_high', 'purpose', 'hardship_flag', 'emp_length', 'sec_app_earliest_cr_line', 'home_ownership', 'hardship_loan_status', 'grade', 'funded_amnt', 'emp_length_clean', 'hardship_dpd', 'earliest_cr_line', 'sub_grade', 'term', 'earliest_cr_line_final']\n"
     ]
    }
   ],
   "source": [
    "cols_for_reg = list(set(cols_for_reg + [\"delinq_2yrs_reg\", \"delinq_severity_reg\"]))\n",
    "\n",
    "cols_for_tree = list(set(cols_for_tree + [\"delinq_2yrs_tree\", \"has_delinq_tree\", \"has_recent_delinq_tree\"]))\n",
    "\n",
    "# drop_cols = list(set(drop_cols + [\"grade\", \"sub_grade\"]))\n",
    "# TODO: check other functions for `delinq_2yrs` and `mths_since_last_delinq`\n",
    "\n",
    "print(f\"Columns for the regression-based models: {cols_for_reg}\")\n",
    "print(f\"Columns for the tree-based models: {cols_for_tree}\")\n",
    "print(f\"Columns to drop {drop_cols}\")"
   ],
   "metadata": {
    "collapsed": false,
    "ExecuteTime": {
     "end_time": "2025-04-01T14:33:30.206619Z",
     "start_time": "2025-04-01T14:33:30.142067Z"
    }
   }
  },
  {
   "cell_type": "markdown",
   "source": [
    "### Handling missing `pub_rec` values with `handle_pub_rec_missing()` in `/feature_engineering/nodes.py`\n",
    "\n",
    "**Functionality:**\n",
    "Fills missing values in the `pub_rec` field using a specified imputation strategy.\n",
    "\n",
    "**Inputs:**\n",
    "- `pub_rec` — public derogatory record count\n",
    "- `strategy` — either `\"median\"` or `\"negative_one\"` (default is `\"median\"`)\n",
    "\n",
    "**Outputs:**\n",
    "- `pub_rec` — updated with imputed values\n",
    "\n",
    "**New field(s):**\n",
    "- None created — the original `pub_rec` field is modified in-place\n",
    "\n",
    "**Drop field(s):**\n",
    "- None\n",
    "\n",
    "**Model usage:**\n",
    "- `pub_rec` is used by **both tree-based** and **regression** models.\n",
    "  - Tree: as-is or through features like `has_derogatory`\n",
    "  - Regression: often used in engineered ratios or severity scores\n",
    "\n",
    "**Notes:**\n",
    "- The strategy is configurable through pipeline parameters (`params:pub_rec_strategy`)\n",
    "- This node ensures that later modeling steps can safely rely on non-missing `pub_rec`\n"
   ],
   "metadata": {
    "collapsed": false
   }
  },
  {
   "cell_type": "code",
   "execution_count": 49,
   "outputs": [
    {
     "name": "stdout",
     "output_type": "stream",
     "text": [
      "Columns for the regression-based models: ['was_late_before_hardship', 'hardship_dpd_filled', 'loan_to_installment_ratio', 'term_normalized_reg', 'emp_length_clean_reg', 'delinq_severity_reg', 'has_derogatory', 'home_ownership_ordinal', 'delinq_weight', 'sub_grade_encoded', 'purpose_risk_score', 'delinq_2yrs_reg', 'term_rate_interaction_reg', 'credit_age_months', 'fico_average', 'grade_encoded', 'int_rate', 'pub_rec', 'has_hardship']\n",
      "Columns for the tree-based models: ['purpose_nan', 'has_delinq_tree', 'was_late_before_hardship', 'hardship_dpd_filled', 'loan_to_installment_ratio', 'emp_length_clean_tree', 'has_derogatory', 'has_recent_delinq_tree', 'fico_risk_band', 'home_ownership_ordinal', 'purpose_risk_category', 'sub_grade_encoded', 'purpose_risk_score', 'delinq_2yrs_tree', 'loan_amount_band', 'purpose_other', 'term_tree', 'credit_age_months', 'fico_average', 'grade_encoded', 'purpose_high_risk', 'int_rate', 'pub_rec', 'has_hardship']\n",
      "Columns to drop ['purpose_cleaned', 'fico_range_low', 'fico_range_high', 'purpose', 'hardship_flag', 'emp_length', 'sec_app_earliest_cr_line', 'home_ownership', 'hardship_loan_status', 'grade', 'funded_amnt', 'emp_length_clean', 'hardship_dpd', 'earliest_cr_line', 'sub_grade', 'term', 'earliest_cr_line_final']\n"
     ]
    }
   ],
   "source": [
    "cols_for_reg = list(set(cols_for_reg + [\"pub_rec\"]))\n",
    "\n",
    "cols_for_tree = list(set(cols_for_tree + [\"pub_rec\"]))\n",
    "\n",
    "# drop_cols = list(set(drop_cols + [\"grade\", \"sub_grade\"]))\n",
    "\n",
    "print(f\"Columns for the regression-based models: {cols_for_reg}\")\n",
    "print(f\"Columns for the tree-based models: {cols_for_tree}\")\n",
    "print(f\"Columns to drop {drop_cols}\")"
   ],
   "metadata": {
    "collapsed": false,
    "ExecuteTime": {
     "end_time": "2025-04-01T14:50:22.478261Z",
     "start_time": "2025-04-01T14:50:22.442721Z"
    }
   }
  },
  {
   "cell_type": "markdown",
   "source": [
    "### Engineering delinquency features with `create_delinquency_features()` in `/feature_engineering/nodes.py`\n",
    "\n",
    "**Functionality:**\n",
    "Generates composite indicators of borrower delinquency behavior using recent and historical fields.\n",
    "\n",
    "**Inputs:**\n",
    "- `delinq_2yrs`: Number of delinquencies in the past 2 years\n",
    "- `mths_since_last_delinq`: Months since last delinquency\n",
    "- `acc_now_delinq`: Number of accounts currently delinquent\n",
    "- `mths_since_recent_revol_delinq`: (present but not used in current logic)\n",
    "\n",
    "**Outputs:**\n",
    "- `delinquency_score` — composite feature capturing overall delinquency risk\n",
    "- `recent_delinq_bin` — ordinal bin of `mths_since_last_delinq` (used to adjust score)\n",
    "\n",
    "**New field(s):**\n",
    "- `delinquency_score` — used in **tree-based models** (intended for splits or ranking risk)\n",
    "- `recent_delinq_bin` — tree-only ordinal bucket useful for boosting models\n",
    "\n",
    "**Drop field(s):**\n",
    "- `delinq_2yrs` and `mths_since_last_delinq` - to add to the drop list and the end of the feature creation\n",
    "\n",
    "**Model usage:**\n",
    "- `delinquency_score` and `recent_delinq_bin` are intended primarily for **tree-based models**\n",
    "- Raw fields like `delinq_2yrs` and `acc_now_delinq` are retained for **model-specific encoding**\n",
    "\n",
    "**Notes:**\n",
    "- Combines multiple weak indicators into a stronger aggregate risk metric\n",
    "- Supports interpretability in feature importance plots\n",
    "- Score is clipped to a max of 10 to avoid dominance in feature scales\n"
   ],
   "metadata": {
    "collapsed": false
   }
  },
  {
   "cell_type": "code",
   "execution_count": 51,
   "outputs": [
    {
     "name": "stdout",
     "output_type": "stream",
     "text": [
      "Columns for the regression-based models: ['was_late_before_hardship', 'hardship_dpd_filled', 'loan_to_installment_ratio', 'term_normalized_reg', 'emp_length_clean_reg', 'delinq_severity_reg', 'has_derogatory', 'home_ownership_ordinal', 'delinq_weight', 'sub_grade_encoded', 'purpose_risk_score', 'delinq_2yrs_reg', 'term_rate_interaction_reg', 'credit_age_months', 'fico_average', 'grade_encoded', 'int_rate', 'pub_rec', 'has_hardship']\n",
      "Columns for the tree-based models: ['purpose_nan', 'has_delinq_tree', 'was_late_before_hardship', 'hardship_dpd_filled', 'loan_to_installment_ratio', 'emp_length_clean_tree', 'delinquency_score', 'has_derogatory', 'has_recent_delinq_tree', 'fico_risk_band', 'home_ownership_ordinal', 'recent_delinq_bin', 'purpose_risk_category', 'sub_grade_encoded', 'purpose_risk_score', 'delinq_2yrs_tree', 'loan_amount_band', 'purpose_other', 'term_tree', 'credit_age_months', 'fico_average', 'grade_encoded', 'purpose_high_risk', 'int_rate', 'pub_rec', 'has_hardship']\n",
      "Columns to drop ['purpose_cleaned', 'mths_since_last_delinq', 'mths_since_recent_revol_delinq', 'hardship_dpd', 'sub_grade', 'fico_range_high', 'earliest_cr_line', 'delinq_2yrs', 'sec_app_earliest_cr_line', 'funded_amnt', 'emp_length_clean', 'term', 'earliest_cr_line_final', 'fico_range_low', 'purpose', 'hardship_flag', 'emp_length', 'home_ownership', 'hardship_loan_status', 'grade', 'acc_now_delinq']\n"
     ]
    }
   ],
   "source": [
    "# cols_for_reg = list(set(cols_for_reg + [\"pub_rec\"]))\n",
    "\n",
    "cols_for_tree = list(set(cols_for_tree + [\"delinquency_score\", \"recent_delinq_bin\"]))\n",
    "\n",
    "drop_cols = list(set(drop_cols + [\"delinq_2yrs\", \"mths_since_last_delinq\", \"mths_since_recent_revol_delinq\", \"acc_now_delinq\"]))\n",
    "\n",
    "print(f\"Columns for the regression-based models: {cols_for_reg}\")\n",
    "print(f\"Columns for the tree-based models: {cols_for_tree}\")\n",
    "print(f\"Columns to drop {drop_cols}\")"
   ],
   "metadata": {
    "collapsed": false,
    "ExecuteTime": {
     "end_time": "2025-04-01T15:01:38.370216Z",
     "start_time": "2025-04-01T15:01:38.317085Z"
    }
   }
  },
  {
   "cell_type": "markdown",
   "source": [
    "### Engineering credit inquiry features with `create_credit_inquiry_features()` in `/feature_engineering/nodes.py`\n",
    "\n",
    "**Functionality:**\n",
    "Creates new features that quantify recent credit inquiry behavior and potential risk associated with frequent credit seeking.\n",
    "\n",
    "**Inputs:**\n",
    "- `inq_last_6mths` — number of inquiries in the last 6 months\n",
    "- `inq_last_12m` — number of inquiries in the last 12 months\n",
    "- `open_acc_6m` — number of accounts opened in the last 6 months\n",
    "\n",
    "**Outputs:**\n",
    "- `recent_inquiry_intensity` — ratio of inquiries in 6m vs 12m (clipped to 1) — **Regression + Tree**\n",
    "- `high_recent_inquiries` — binary flag for frequent inquiries (3 or more in last 6m) — **Tree**\n",
    "- `inq_to_open_acc_ratio` — ratio of inquiries to opened accounts (proxy for credit seeking success rate) — **Regression + Tree**\n",
    "\n",
    "**New field(s):**\n",
    "- `recent_inquiry_intensity` — normalized ratio — **used in regression models**\n",
    "- `high_recent_inquiries` — binary risk flag — **used in tree models**\n",
    "- `inq_to_open_acc_ratio` — success ratio of inquiries — **used in both models**\n",
    "\n",
    "**Drop field(s):**\n",
    "- None (original input fields may still be useful elsewhere)\n"
   ],
   "metadata": {
    "collapsed": false
   }
  },
  {
   "cell_type": "code",
   "execution_count": 52,
   "outputs": [
    {
     "name": "stdout",
     "output_type": "stream",
     "text": [
      "Columns for the regression-based models: ['was_late_before_hardship', 'hardship_dpd_filled', 'loan_to_installment_ratio', 'term_normalized_reg', 'emp_length_clean_reg', 'delinq_severity_reg', 'inq_to_open_acc_ratio', 'has_derogatory', 'recent_inquiry_intensity', 'home_ownership_ordinal', 'delinq_weight', 'sub_grade_encoded', 'purpose_risk_score', 'delinq_2yrs_reg', 'term_rate_interaction_reg', 'credit_age_months', 'fico_average', 'grade_encoded', 'int_rate', 'pub_rec', 'has_hardship']\n",
      "Columns for the tree-based models: ['purpose_nan', 'has_delinq_tree', 'was_late_before_hardship', 'hardship_dpd_filled', 'loan_to_installment_ratio', 'emp_length_clean_tree', 'high_recent_inquiries', 'delinquency_score', 'inq_to_open_acc_ratio', 'has_derogatory', 'has_recent_delinq_tree', 'recent_inquiry_intensity', 'fico_risk_band', 'home_ownership_ordinal', 'recent_delinq_bin', 'purpose_risk_category', 'sub_grade_encoded', 'purpose_risk_score', 'delinq_2yrs_tree', 'loan_amount_band', 'purpose_other', 'term_tree', 'credit_age_months', 'fico_average', 'grade_encoded', 'purpose_high_risk', 'int_rate', 'pub_rec', 'has_hardship']\n",
      "Columns to drop ['purpose_cleaned', 'mths_since_last_delinq', 'mths_since_recent_revol_delinq', 'hardship_dpd', 'sub_grade', 'fico_range_high', 'earliest_cr_line', 'delinq_2yrs', 'sec_app_earliest_cr_line', 'funded_amnt', 'emp_length_clean', 'term', 'earliest_cr_line_final', 'fico_range_low', 'purpose', 'hardship_flag', 'emp_length', 'home_ownership', 'hardship_loan_status', 'grade', 'acc_now_delinq']\n"
     ]
    }
   ],
   "source": [
    "cols_for_reg = list(set(cols_for_reg + [\"recent_inquiry_intensity\", \"inq_to_open_acc_ratio\"]))\n",
    "\n",
    "cols_for_tree = list(set(cols_for_tree + [\"recent_inquiry_intensity\", \"high_recent_inquiries\", \"inq_to_open_acc_ratio\"]))\n",
    "\n",
    "# drop_cols = list(set(drop_cols + []))\n",
    "# TODO: evaluate input variables `inq_last_6mths`, `inq_last_12m` and `open_acc_6m` for the rest of functions\n",
    "\n",
    "print(f\"Columns for the regression-based models: {cols_for_reg}\")\n",
    "print(f\"Columns for the tree-based models: {cols_for_tree}\")\n",
    "print(f\"Columns to drop {drop_cols}\")"
   ],
   "metadata": {
    "collapsed": false,
    "ExecuteTime": {
     "end_time": "2025-04-01T15:14:00.687707Z",
     "start_time": "2025-04-01T15:14:00.609013Z"
    }
   }
  },
  {
   "cell_type": "markdown",
   "source": [
    "### Engineering account activity features with `create_account_activity_features()` in `/feature_engineering/nodes.py`\n",
    "\n",
    "**Functionality:**\n",
    "Generates features that describe the borrower’s recent credit account behavior, such as how quickly they are acquiring new credit and how active their accounts are.\n",
    "\n",
    "**Inputs:**\n",
    "- `open_acc` — number of currently open accounts\n",
    "- `acc_open_past_24mths` — number of accounts opened in the last 24 months\n",
    "- `total_acc` — total number of credit accounts\n",
    "\n",
    "**Outputs:**\n",
    "- `recent_acc_ratio` — share of open accounts that are newly opened\n",
    "- `rapid_acc_acquisition` — binary flag (1 if more than 50% of open accounts were opened recently)\n",
    "- `active_acc_ratio` — proportion of total accounts that are still open\n",
    "\n",
    "**New field(s):**\n",
    "- `recent_acc_ratio` — **used in tree and regression models**\n",
    "- `rapid_acc_acquisition` — **used in tree-based models**\n",
    "- `active_acc_ratio` — **used in tree and regression models**\n",
    "\n",
    "**Drop field(s):**\n",
    "- `open_acc`, `acc_open_past_24mths`, `total_acc` may be dropped after model-specific features are finalized if no longer used downstream\n",
    "\n",
    "**Model usage:**\n",
    "- `recent_acc_ratio`, `active_acc_ratio` — useful for both **regression** and **tree-based** models\n",
    "- `rapid_acc_acquisition` — binary feature primarily for **tree-based** models\n"
   ],
   "metadata": {
    "collapsed": false
   }
  },
  {
   "cell_type": "code",
   "execution_count": null,
   "outputs": [],
   "source": [
    "cols_for_reg = list(set(cols_for_reg + [\"recent_acc_ratio\", \"active_acc_ratio\"]))\n",
    "\n",
    "cols_for_tree = list(set(cols_for_tree + [\"recent_acc_ratio\", \"rapid_acc_acquisition\", \"active_acc_ratio\"]))\n",
    "\n",
    "# drop_cols = list(set(drop_cols + []))\n",
    "# TODO: evaluate input variables `open_acc`, `acc_open_past_24mths` and `total_acc` for the rest of functions\n",
    "\n",
    "print(f\"Columns for the regression-based models: {cols_for_reg}\")\n",
    "print(f\"Columns for the tree-based models: {cols_for_tree}\")\n",
    "print(f\"Columns to drop {drop_cols}\")"
   ],
   "metadata": {
    "collapsed": false
   }
  }
 ],
 "metadata": {
  "kernelspec": {
   "display_name": "Python 3",
   "language": "python",
   "name": "python3"
  },
  "language_info": {
   "codemirror_mode": {
    "name": "ipython",
    "version": 2
   },
   "file_extension": ".py",
   "mimetype": "text/x-python",
   "name": "python",
   "nbconvert_exporter": "python",
   "pygments_lexer": "ipython2",
   "version": "2.7.6"
  }
 },
 "nbformat": 4,
 "nbformat_minor": 0
}
