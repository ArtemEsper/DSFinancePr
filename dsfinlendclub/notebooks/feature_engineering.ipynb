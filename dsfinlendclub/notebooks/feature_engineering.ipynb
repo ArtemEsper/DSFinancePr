{
 "cells": [
  {
   "cell_type": "markdown",
   "source": [
    "### Stage 2. Feature engineering for the credit scoring model."
   ],
   "metadata": {
    "collapsed": false
   }
  },
  {
   "cell_type": "code",
   "execution_count": 156,
   "outputs": [
    {
     "data": {
      "text/plain": "\u001B[2;36m[04/02/25 18:50:29]\u001B[0m\u001B[2;36m \u001B[0m\u001B[34mINFO    \u001B[0m Registered line magic \u001B[32m'%reload_kedro'\u001B[0m                                   \u001B]8;id=388937;file:///Users/macbook/tensorflow-m1/lib/python3.8/site-packages/kedro/ipython/__init__.py\u001B\\\u001B[2m__init__.py\u001B[0m\u001B]8;;\u001B\\\u001B[2m:\u001B[0m\u001B]8;id=989332;file:///Users/macbook/tensorflow-m1/lib/python3.8/site-packages/kedro/ipython/__init__.py#58\u001B\\\u001B[2m58\u001B[0m\u001B]8;;\u001B\\\n",
      "text/html": "<pre style=\"white-space:pre;overflow-x:auto;line-height:normal;font-family:Menlo,'DejaVu Sans Mono',consolas,'Courier New',monospace\"><span style=\"color: #7fbfbf; text-decoration-color: #7fbfbf\">[04/02/25 18:50:29] </span><span style=\"color: #000080; text-decoration-color: #000080\">INFO    </span> Registered line magic <span style=\"color: #008000; text-decoration-color: #008000\">'%reload_kedro'</span>                                   <a href=\"file:///Users/macbook/tensorflow-m1/lib/python3.8/site-packages/kedro/ipython/__init__.py\" target=\"_blank\"><span style=\"color: #7f7f7f; text-decoration-color: #7f7f7f\">__init__.py</span></a><span style=\"color: #7f7f7f; text-decoration-color: #7f7f7f\">:</span><a href=\"file:///Users/macbook/tensorflow-m1/lib/python3.8/site-packages/kedro/ipython/__init__.py#58\" target=\"_blank\"><span style=\"color: #7f7f7f; text-decoration-color: #7f7f7f\">58</span></a>\n</pre>\n"
     },
     "metadata": {},
     "output_type": "display_data"
    },
    {
     "data": {
      "text/plain": "\u001B[2;36m                   \u001B[0m\u001B[2;36m \u001B[0m\u001B[34mINFO    \u001B[0m Registered line magic \u001B[32m'%load_node'\u001B[0m                                      \u001B]8;id=85395;file:///Users/macbook/tensorflow-m1/lib/python3.8/site-packages/kedro/ipython/__init__.py\u001B\\\u001B[2m__init__.py\u001B[0m\u001B]8;;\u001B\\\u001B[2m:\u001B[0m\u001B]8;id=396617;file:///Users/macbook/tensorflow-m1/lib/python3.8/site-packages/kedro/ipython/__init__.py#60\u001B\\\u001B[2m60\u001B[0m\u001B]8;;\u001B\\\n",
      "text/html": "<pre style=\"white-space:pre;overflow-x:auto;line-height:normal;font-family:Menlo,'DejaVu Sans Mono',consolas,'Courier New',monospace\"><span style=\"color: #7fbfbf; text-decoration-color: #7fbfbf\">                    </span><span style=\"color: #000080; text-decoration-color: #000080\">INFO    </span> Registered line magic <span style=\"color: #008000; text-decoration-color: #008000\">'%load_node'</span>                                      <a href=\"file:///Users/macbook/tensorflow-m1/lib/python3.8/site-packages/kedro/ipython/__init__.py\" target=\"_blank\"><span style=\"color: #7f7f7f; text-decoration-color: #7f7f7f\">__init__.py</span></a><span style=\"color: #7f7f7f; text-decoration-color: #7f7f7f\">:</span><a href=\"file:///Users/macbook/tensorflow-m1/lib/python3.8/site-packages/kedro/ipython/__init__.py#60\" target=\"_blank\"><span style=\"color: #7f7f7f; text-decoration-color: #7f7f7f\">60</span></a>\n</pre>\n"
     },
     "metadata": {},
     "output_type": "display_data"
    },
    {
     "data": {
      "text/plain": "\u001B[2;36m                   \u001B[0m\u001B[2;36m \u001B[0m\u001B[34mINFO    \u001B[0m Resolved project path as:                                              \u001B]8;id=19045;file:///Users/macbook/tensorflow-m1/lib/python3.8/site-packages/kedro/ipython/__init__.py\u001B\\\u001B[2m__init__.py\u001B[0m\u001B]8;;\u001B\\\u001B[2m:\u001B[0m\u001B]8;id=8796;file:///Users/macbook/tensorflow-m1/lib/python3.8/site-packages/kedro/ipython/__init__.py#175\u001B\\\u001B[2m175\u001B[0m\u001B]8;;\u001B\\\n\u001B[2;36m                    \u001B[0m         \u001B[35m/Users/macbook/Documents/GitHub/DSfinProject/\u001B[0m\u001B[95mdsfinlendclub.\u001B[0m            \u001B[2m               \u001B[0m\n\u001B[2;36m                    \u001B[0m         To set a different path, run \u001B[32m'%reload_kedro \u001B[0m\u001B[32m<\u001B[0m\u001B[32mproject_root\u001B[0m\u001B[32m>\u001B[0m\u001B[32m'\u001B[0m            \u001B[2m               \u001B[0m\n",
      "text/html": "<pre style=\"white-space:pre;overflow-x:auto;line-height:normal;font-family:Menlo,'DejaVu Sans Mono',consolas,'Courier New',monospace\"><span style=\"color: #7fbfbf; text-decoration-color: #7fbfbf\">                    </span><span style=\"color: #000080; text-decoration-color: #000080\">INFO    </span> Resolved project path as:                                              <a href=\"file:///Users/macbook/tensorflow-m1/lib/python3.8/site-packages/kedro/ipython/__init__.py\" target=\"_blank\"><span style=\"color: #7f7f7f; text-decoration-color: #7f7f7f\">__init__.py</span></a><span style=\"color: #7f7f7f; text-decoration-color: #7f7f7f\">:</span><a href=\"file:///Users/macbook/tensorflow-m1/lib/python3.8/site-packages/kedro/ipython/__init__.py#175\" target=\"_blank\"><span style=\"color: #7f7f7f; text-decoration-color: #7f7f7f\">175</span></a>\n<span style=\"color: #7fbfbf; text-decoration-color: #7fbfbf\">                    </span>         <span style=\"color: #800080; text-decoration-color: #800080\">/Users/macbook/Documents/GitHub/DSfinProject/</span><span style=\"color: #ff00ff; text-decoration-color: #ff00ff\">dsfinlendclub.</span>            <span style=\"color: #7f7f7f; text-decoration-color: #7f7f7f\">               </span>\n<span style=\"color: #7fbfbf; text-decoration-color: #7fbfbf\">                    </span>         To set a different path, run <span style=\"color: #008000; text-decoration-color: #008000\">'%reload_kedro &lt;project_root&gt;'</span>            <span style=\"color: #7f7f7f; text-decoration-color: #7f7f7f\">               </span>\n</pre>\n"
     },
     "metadata": {},
     "output_type": "display_data"
    },
    {
     "data": {
      "text/plain": "\u001B[2;36m[04/02/25 18:50:30]\u001B[0m\u001B[2;36m \u001B[0m\u001B[34mINFO    \u001B[0m Kedro is sending anonymous usage data with the sole purpose of improving \u001B]8;id=809357;file:///Users/macbook/tensorflow-m1/lib/python3.8/site-packages/kedro_telemetry/plugin.py\u001B\\\u001B[2mplugin.py\u001B[0m\u001B]8;;\u001B\\\u001B[2m:\u001B[0m\u001B]8;id=156848;file:///Users/macbook/tensorflow-m1/lib/python3.8/site-packages/kedro_telemetry/plugin.py#233\u001B\\\u001B[2m233\u001B[0m\u001B]8;;\u001B\\\n\u001B[2;36m                    \u001B[0m         the product. No personal data or IP addresses are stored on our side. If \u001B[2m             \u001B[0m\n\u001B[2;36m                    \u001B[0m         you want to opt out, set the `KEDRO_DISABLE_TELEMETRY` or `DO_NOT_TRACK` \u001B[2m             \u001B[0m\n\u001B[2;36m                    \u001B[0m         environment variables, or create a `.telemetry` file in the current      \u001B[2m             \u001B[0m\n\u001B[2;36m                    \u001B[0m         working directory with the contents `consent: false`. Read more at       \u001B[2m             \u001B[0m\n\u001B[2;36m                    \u001B[0m         \u001B[4;94mhttps://docs.kedro.org/en/stable/configuration/telemetry.html\u001B[0m            \u001B[2m             \u001B[0m\n",
      "text/html": "<pre style=\"white-space:pre;overflow-x:auto;line-height:normal;font-family:Menlo,'DejaVu Sans Mono',consolas,'Courier New',monospace\"><span style=\"color: #7fbfbf; text-decoration-color: #7fbfbf\">[04/02/25 18:50:30] </span><span style=\"color: #000080; text-decoration-color: #000080\">INFO    </span> Kedro is sending anonymous usage data with the sole purpose of improving <a href=\"file:///Users/macbook/tensorflow-m1/lib/python3.8/site-packages/kedro_telemetry/plugin.py\" target=\"_blank\"><span style=\"color: #7f7f7f; text-decoration-color: #7f7f7f\">plugin.py</span></a><span style=\"color: #7f7f7f; text-decoration-color: #7f7f7f\">:</span><a href=\"file:///Users/macbook/tensorflow-m1/lib/python3.8/site-packages/kedro_telemetry/plugin.py#233\" target=\"_blank\"><span style=\"color: #7f7f7f; text-decoration-color: #7f7f7f\">233</span></a>\n<span style=\"color: #7fbfbf; text-decoration-color: #7fbfbf\">                    </span>         the product. No personal data or IP addresses are stored on our side. If <span style=\"color: #7f7f7f; text-decoration-color: #7f7f7f\">             </span>\n<span style=\"color: #7fbfbf; text-decoration-color: #7fbfbf\">                    </span>         you want to opt out, set the `KEDRO_DISABLE_TELEMETRY` or `DO_NOT_TRACK` <span style=\"color: #7f7f7f; text-decoration-color: #7f7f7f\">             </span>\n<span style=\"color: #7fbfbf; text-decoration-color: #7fbfbf\">                    </span>         environment variables, or create a `.telemetry` file in the current      <span style=\"color: #7f7f7f; text-decoration-color: #7f7f7f\">             </span>\n<span style=\"color: #7fbfbf; text-decoration-color: #7fbfbf\">                    </span>         working directory with the contents `consent: false`. Read more at       <span style=\"color: #7f7f7f; text-decoration-color: #7f7f7f\">             </span>\n<span style=\"color: #7fbfbf; text-decoration-color: #7fbfbf\">                    </span>         <span style=\"color: #0000ff; text-decoration-color: #0000ff; text-decoration: underline\">https://docs.kedro.org/en/stable/configuration/telemetry.html</span>            <span style=\"color: #7f7f7f; text-decoration-color: #7f7f7f\">             </span>\n</pre>\n"
     },
     "metadata": {},
     "output_type": "display_data"
    },
    {
     "data": {
      "text/plain": "\u001B[2;36m                   \u001B[0m\u001B[2;36m \u001B[0m\u001B[34mINFO    \u001B[0m Kedro project DSfinLendClub                                            \u001B]8;id=793637;file:///Users/macbook/tensorflow-m1/lib/python3.8/site-packages/kedro/ipython/__init__.py\u001B\\\u001B[2m__init__.py\u001B[0m\u001B]8;;\u001B\\\u001B[2m:\u001B[0m\u001B]8;id=546525;file:///Users/macbook/tensorflow-m1/lib/python3.8/site-packages/kedro/ipython/__init__.py#141\u001B\\\u001B[2m141\u001B[0m\u001B]8;;\u001B\\\n",
      "text/html": "<pre style=\"white-space:pre;overflow-x:auto;line-height:normal;font-family:Menlo,'DejaVu Sans Mono',consolas,'Courier New',monospace\"><span style=\"color: #7fbfbf; text-decoration-color: #7fbfbf\">                    </span><span style=\"color: #000080; text-decoration-color: #000080\">INFO    </span> Kedro project DSfinLendClub                                            <a href=\"file:///Users/macbook/tensorflow-m1/lib/python3.8/site-packages/kedro/ipython/__init__.py\" target=\"_blank\"><span style=\"color: #7f7f7f; text-decoration-color: #7f7f7f\">__init__.py</span></a><span style=\"color: #7f7f7f; text-decoration-color: #7f7f7f\">:</span><a href=\"file:///Users/macbook/tensorflow-m1/lib/python3.8/site-packages/kedro/ipython/__init__.py#141\" target=\"_blank\"><span style=\"color: #7f7f7f; text-decoration-color: #7f7f7f\">141</span></a>\n</pre>\n"
     },
     "metadata": {},
     "output_type": "display_data"
    },
    {
     "data": {
      "text/plain": "\u001B[2;36m                   \u001B[0m\u001B[2;36m \u001B[0m\u001B[34mINFO    \u001B[0m Defined global variable \u001B[32m'context'\u001B[0m, \u001B[32m'session'\u001B[0m, \u001B[32m'catalog'\u001B[0m and            \u001B]8;id=547189;file:///Users/macbook/tensorflow-m1/lib/python3.8/site-packages/kedro/ipython/__init__.py\u001B\\\u001B[2m__init__.py\u001B[0m\u001B]8;;\u001B\\\u001B[2m:\u001B[0m\u001B]8;id=930262;file:///Users/macbook/tensorflow-m1/lib/python3.8/site-packages/kedro/ipython/__init__.py#142\u001B\\\u001B[2m142\u001B[0m\u001B]8;;\u001B\\\n\u001B[2;36m                    \u001B[0m         \u001B[32m'pipelines'\u001B[0m                                                            \u001B[2m               \u001B[0m\n",
      "text/html": "<pre style=\"white-space:pre;overflow-x:auto;line-height:normal;font-family:Menlo,'DejaVu Sans Mono',consolas,'Courier New',monospace\"><span style=\"color: #7fbfbf; text-decoration-color: #7fbfbf\">                    </span><span style=\"color: #000080; text-decoration-color: #000080\">INFO    </span> Defined global variable <span style=\"color: #008000; text-decoration-color: #008000\">'context'</span>, <span style=\"color: #008000; text-decoration-color: #008000\">'session'</span>, <span style=\"color: #008000; text-decoration-color: #008000\">'catalog'</span> and            <a href=\"file:///Users/macbook/tensorflow-m1/lib/python3.8/site-packages/kedro/ipython/__init__.py\" target=\"_blank\"><span style=\"color: #7f7f7f; text-decoration-color: #7f7f7f\">__init__.py</span></a><span style=\"color: #7f7f7f; text-decoration-color: #7f7f7f\">:</span><a href=\"file:///Users/macbook/tensorflow-m1/lib/python3.8/site-packages/kedro/ipython/__init__.py#142\" target=\"_blank\"><span style=\"color: #7f7f7f; text-decoration-color: #7f7f7f\">142</span></a>\n<span style=\"color: #7fbfbf; text-decoration-color: #7fbfbf\">                    </span>         <span style=\"color: #008000; text-decoration-color: #008000\">'pipelines'</span>                                                            <span style=\"color: #7f7f7f; text-decoration-color: #7f7f7f\">               </span>\n</pre>\n"
     },
     "metadata": {},
     "output_type": "display_data"
    }
   ],
   "source": [
    "%reload_ext kedro.ipython"
   ],
   "metadata": {
    "collapsed": false,
    "ExecuteTime": {
     "end_time": "2025-04-02T16:50:30.941600Z",
     "start_time": "2025-04-02T16:50:29.869588Z"
    }
   }
  },
  {
   "cell_type": "code",
   "execution_count": 119,
   "outputs": [
    {
     "data": {
      "text/plain": "\u001B[2;36m                   \u001B[0m\u001B[2;36m \u001B[0m\u001B[34mINFO    \u001B[0m Loading data from \u001B[38;5;208mintermediate_data\u001B[0m \u001B[1m(\u001B[0mParquetDataset\u001B[1m)\u001B[0m\u001B[33m...\u001B[0m            \u001B]8;id=126652;file:///Users/macbook/tensorflow-m1/lib/python3.8/site-packages/kedro/io/data_catalog.py\u001B\\\u001B[2mdata_catalog.py\u001B[0m\u001B]8;;\u001B\\\u001B[2m:\u001B[0m\u001B]8;id=736361;file:///Users/macbook/tensorflow-m1/lib/python3.8/site-packages/kedro/io/data_catalog.py#539\u001B\\\u001B[2m539\u001B[0m\u001B]8;;\u001B\\\n",
      "text/html": "<pre style=\"white-space:pre;overflow-x:auto;line-height:normal;font-family:Menlo,'DejaVu Sans Mono',consolas,'Courier New',monospace\"><span style=\"color: #7fbfbf; text-decoration-color: #7fbfbf\">                    </span><span style=\"color: #000080; text-decoration-color: #000080\">INFO    </span> Loading data from <span style=\"color: #ff8700; text-decoration-color: #ff8700\">intermediate_data</span> <span style=\"font-weight: bold\">(</span>ParquetDataset<span style=\"font-weight: bold\">)</span><span style=\"color: #808000; text-decoration-color: #808000\">...</span>            <a href=\"file:///Users/macbook/tensorflow-m1/lib/python3.8/site-packages/kedro/io/data_catalog.py\" target=\"_blank\"><span style=\"color: #7f7f7f; text-decoration-color: #7f7f7f\">data_catalog.py</span></a><span style=\"color: #7f7f7f; text-decoration-color: #7f7f7f\">:</span><a href=\"file:///Users/macbook/tensorflow-m1/lib/python3.8/site-packages/kedro/io/data_catalog.py#539\" target=\"_blank\"><span style=\"color: #7f7f7f; text-decoration-color: #7f7f7f\">539</span></a>\n</pre>\n"
     },
     "metadata": {},
     "output_type": "display_data"
    },
    {
     "name": "stdout",
     "output_type": "stream",
     "text": [
      "['loan_amnt', 'funded_amnt', 'term', 'int_rate', 'installment', 'grade', 'sub_grade', 'emp_length', 'home_ownership', 'annual_inc', 'verification_status', 'issue_d', 'purpose', 'dti', 'delinq_2yrs', 'earliest_cr_line', 'fico_range_low', 'fico_range_high', 'inq_last_6mths', 'mths_since_last_delinq', 'mths_since_last_record', 'open_acc', 'pub_rec', 'revol_bal', 'revol_util', 'total_acc', 'initial_list_status', 'mths_since_last_major_derog', 'application_type', 'annual_inc_joint', 'dti_joint', 'verification_status_joint', 'acc_now_delinq', 'tot_coll_amt', 'tot_cur_bal', 'open_acc_6m', 'open_act_il', 'open_il_12m', 'avg_cur_bal', 'mths_since_recent_bc_dlq', 'mths_since_recent_inq', 'mths_since_recent_revol_delinq', 'num_tl_op_past_12m', 'pub_rec_bankruptcies', 'tax_liens', 'revol_bal_joint', 'sec_app_earliest_cr_line', 'hardship_flag', 'hardship_dpd', 'hardship_loan_status', 'is_joint_app', 'loan_status_binary']\n"
     ]
    }
   ],
   "source": [
    "df_intermediate = catalog.load(\"intermediate_data\")\n",
    "columns_list_intermediate = df_intermediate.columns.tolist()\n",
    "print(columns_list_intermediate)"
   ],
   "metadata": {
    "collapsed": false,
    "ExecuteTime": {
     "end_time": "2025-04-02T16:35:27.019720Z",
     "start_time": "2025-04-02T16:35:23.142489Z"
    }
   }
  },
  {
   "cell_type": "markdown",
   "source": [
    "### Table of raw and pre-organized fields after pre-processing stage\n",
    "\n",
    "| Field                                              | Keep/Remove        | Rationale                                                                  |\n",
    "|-------------------------------------------------- -|--------------------|----------------------------------------------------------------------------|\n",
    "| ✅purpose, home_ownership                          | Keep               | Important contextual factors                                               |\n",
    "| ✅hardship_flag, hardship_loan_status, hardship_dpd | Combine ?         | Considering combining into single hardship indicator                       |\n",
    "| ✅emp_length, earliest_cr_line                     | Keep               | Important stability indicators                                             |\n",
    "| ✅loan_amnt, funded_amnt, installment              | Keep               | Core loan characteristics that directly impact risk assessment             |\n",
    "| ✅fico_range_low, fico_range_high                  | Keep               | Critical credit quality indicators                                         |\n",
    "| ✅term, int_rate, grade, sub_grade                 | Keep               | Core loan terms and risk assessment                                        |\n",
    "| ✅delinq_2yrs, mths_since_last_delinq              | Keep               | Key delinquency metrics                                                    |\n",
    "| ✅ open_acc, total_acc, open_acc_6m                | Keep               | Account management indicators                                              |\n",
    "| ✅is_joint_app                                     | Keep (!)           | Important application characteristic                                       |\n",
    "| ✅inq_last_6mths                                   | Keep               | Recent credit seeking behavior                                             |\n",
    "| ✅pub_rec, mths_since_last_record                  | Keep               | Public record items important for risk                                     |\n",
    "| ✅mths_since_last_major_derog                      | Keep               | Important derogatory indicator                                             |\n",
    "| ✅annual_inc, annual_inc_joint                     | Keep one           | Individual income for individual and joint applications                    |\n",
    "| ✅dti, dti_joint                                   | Keep one           | Same logic as income                                                       |\n",
    "| ✅revol_util, revol_bal, revol_bal_joint           | Keep one           | Keep individual revolving data for non-joint apps                          |\n",
    "| ✅initial_list_status                              | Remove?            | Less relevant for risk assessment                                          |\n",
    "| ✅sec_app_earliest_cr_line                         | Remove if non-joi  | Only relevant for joint applications                                       |\n",
    "| ✅verification_status                              | Keep               | Important for fraud/risk detection — indicates whether income was verified |\n",
    "| ✅issue_d                                          | Keep               | Useful for time-based feature engineering and cohort analysis              |\n",
    "| ✅ application_type                                | Delete             | Processed to `is_joint_app`                                                |\n",
    "| ✅verification_status_joint                        | Keep               | Relevant only for joint apps — consider conditional usage                  |\n",
    "| ✅ acc_now_delinq                                  | Consider Removing  | Often low variance, but may capture recent delinquencies                   |\n",
    "| ✅tot_coll_amt                                     | Remove             | Often sparse or zero — limited signal                                      |\n",
    "| ✅tot_cur_bal                                      | Consider Keeping   | Could reflect overall financial health                                     |\n",
    "| ✅open_act_il                                      | Remove             | Duplicates of other installment account indicators                         |\n",
    "| ✅open_il_12m                                      | Remove for now     | Reflects recent borrowing behavior                                         |\n",
    "| ✅avg_cur_bal                                      | Keep               | Captures financial leverage & liquidity                                    |\n",
    "| ✅mths_since_recent_bc_dlq                         | Remove             | Highly sparse and inconsistent                                             |\n",
    "| ✅mths_since_recent_inq                            | Keep               | Shows recent credit-seeking behavior                                       |\n",
    "| ✅mths_since_recent_revol_delinq                   | Remove             | Highly sparse — consider only if well-populated                            |\n",
    "| ✅num_tl_op_past_12m                               | Keep               | Indicates recent credit activity — potential risk signal                   |\n",
    "| ✅pub_rec_bankruptcies                             | Keep               | Key indicator of prior financial distress                                  |\n",
    "| ✅tax_liens                                        | Remove             | Usually low variance, low signal                                           |\n",
    "| ✅loan_status_binary                                | Keep (Target)      | This is our main target variable — used to define 'bad' loans              |\n"
   ],
   "metadata": {
    "collapsed": false
   }
  },
  {
   "cell_type": "code",
   "execution_count": 119,
   "outputs": [],
   "source": [],
   "metadata": {
    "collapsed": false,
    "ExecuteTime": {
     "end_time": "2025-04-02T16:35:27.021281Z",
     "start_time": "2025-04-02T16:35:27.018294Z"
    }
   }
  },
  {
   "cell_type": "markdown",
   "source": [
    "### Engineering the `home_ownership` fields with `create_home_ownership_ordinal()` in /feature_engineering/nodes.py\n",
    "Functionality:\n",
    "Creates an ordinal encoded feature home_ownership_ordinal from home_ownership, reflecting risk levels.\n",
    "Input: home_ownership — categorical field with values like \"own\", \"mortgage\", \"rent\", \"other\"\n",
    "Output: `home_ownership_ordinal` — integer feature (0 = safest, 3 = riskiest)\n",
    "New field(s): `home_ownership_ordinal` — used in both tree-based and regression models.\n",
    "Drop field(s): `home_ownership` -- used only to create home_ownership_ordinal"
   ],
   "metadata": {
    "collapsed": false
   }
  },
  {
   "cell_type": "code",
   "execution_count": 120,
   "outputs": [
    {
     "name": "stdout",
     "output_type": "stream",
     "text": [
      "Columns to drop: ['home_ownership', 'tot_coll_amt', 'open_act_il', 'open_il_12m', 'mths_since_recent_bc_dlq', 'tax_liens']\n"
     ]
    }
   ],
   "source": [
    "cols_for_reg = [\"loan_status_binary\"]  # columns for the regression-based models\n",
    "cols_for_tree = [\"loan_status_binary\"]  # columns for thew tree-based models\n",
    "drop_cols = [\"home_ownership\", \"tot_coll_amt\", \"open_act_il\", \"open_il_12m\", \"mths_since_recent_bc_dlq\", \"tax_liens\"] # columns to drop entirely\n",
    "\n",
    "# print(f\"Columns for the regression-based models: {cols_for_reg}\")\n",
    "# print(f\"Columns for the tree-based models: {cols_for_tree}\")\n",
    "print(f\"Columns to drop: {drop_cols}\")"
   ],
   "metadata": {
    "collapsed": false,
    "ExecuteTime": {
     "end_time": "2025-04-02T16:35:27.027112Z",
     "start_time": "2025-04-02T16:35:27.023707Z"
    }
   }
  },
  {
   "cell_type": "markdown",
   "source": [
    "### Engineering the `purpose` field with `encode_purpose_field()` in /feature_engineering/nodes.py\n",
    "\n",
    "**Functionality:**\n",
    "Generates one-hot encoded features from a cleaned version of the `purpose` field (`purpose_cleaned`), replacing rare categories with `\"other\"`.\n",
    "Useful primarily for **tree-based models**, which can leverage one-hot encoded categorical splits.\n",
    "\n",
    "**Input:**  - `purpose` — a preprocessed categorical field (lowercase, space-normalized)\n",
    "\n",
    "**Intermediate Output:**  - `purpose_cleaned` — categorical field where rare categories are grouped as `\"other\"`\n",
    "\n",
    "**Output:**\n",
    "- One-hot encoded fields:\n",
    "  - `purpose_<value>` for each cleaned purpose category\n",
    "  - Includes `purpose_other` and `purpose_nan`\n",
    "\n",
    "**New field(s):**\n",
    "- `purpose_cleaned` — used to generate the one-hot columns\n",
    "- `purpose_*` — one-hot encoded columns, **tree model-specific**\n",
    "\n",
    "**Drop field(s):**\n",
    "- `purpose` — used only for generating `purpose_cleaned` and will be used in `create_loan_purpose_risk_features()` below\n",
    "- `purpose_cleaned` — optional to drop after one-hot encoding, unless used later\n",
    "\n",
    "> 💡 Tip: Keep `purpose_cleaned` if any downstream analysis requires interpretable categorical grouping. Otherwise, it can be dropped post one-hot encoding.\n"
   ],
   "metadata": {
    "collapsed": false
   }
  },
  {
   "cell_type": "code",
   "execution_count": 121,
   "outputs": [
    {
     "name": "stdout",
     "output_type": "stream",
     "text": [
      "Columns for the tree-based models: ['purpose_other', 'loan_status_binary', 'purpose_nan']\n",
      "Columns to drop ['open_act_il', 'tax_liens', 'tot_coll_amt', 'mths_since_recent_bc_dlq', 'open_il_12m', 'home_ownership', 'purpose_cleaned']\n"
     ]
    }
   ],
   "source": [
    "\n",
    "cols_for_tree = list(set(cols_for_tree +  [\"purpose_other\", \"purpose_nan\"]))\n",
    "\n",
    "drop_cols = list(set(drop_cols + [\"purpose_cleaned\"]))\n",
    "\n",
    "# print(f\"Columns for the regression-based models: {cols_for_reg}\")\n",
    "print(f\"Columns for the tree-based models: {cols_for_tree}\")\n",
    "print(f\"Columns to drop {drop_cols}\")"
   ],
   "metadata": {
    "collapsed": false,
    "ExecuteTime": {
     "end_time": "2025-04-02T16:35:27.033450Z",
     "start_time": "2025-04-02T16:35:27.030406Z"
    }
   }
  },
  {
   "cell_type": "markdown",
   "source": [
    "### Engineering the `purpose` fields with `create_loan_purpose_risk_features()` in /feature_engineering/nodes.py\n",
    "Functionality:\n",
    "Transforms the purpose field into multiple risk-based features using business logic (risk mappings) and creates derived features useful for both tree-based and regression models.\n",
    "Input: `purpose` -- a preprocessed categorical feature (e.g., \"debt consolidation\", \"medical\")\n",
    "Output_1: `purpose_risk_score` — integer score from 1 (low risk) to 4 (very high risk) -- Regression + Tree\n",
    "Output_2: `purpose_risk_category` —  categorical label (low, medium, etc.) -- Tree only (used in one-hot encoding or tree splits)\n",
    "Output_3: `purpose_high_risk` — binary indicator (1 if risk_score ≥ 3) -- tree only\n",
    "New field(s): `purpose_risk_score` — used in tree and regression models.\n",
    "New field(s): `purpose_risk_category`, `purpose_high_risk` — used in tree-based models.\n",
    "Drop field(s): `purpose` —  used to generate all 3 output columns above"
   ],
   "metadata": {
    "collapsed": false
   }
  },
  {
   "cell_type": "code",
   "execution_count": 122,
   "outputs": [
    {
     "name": "stdout",
     "output_type": "stream",
     "text": [
      "Columns for the regression-based models: ['purpose_risk_score', 'home_ownership_ordinal', 'loan_status_binary']\n",
      "Columns for the tree-based models: ['purpose_other', 'purpose_risk_score', 'home_ownership_ordinal', 'purpose_risk_category', 'purpose_nan', 'purpose_high_risk', 'loan_status_binary']\n",
      "Columns to drop ['open_act_il', 'tax_liens', 'tot_coll_amt', 'mths_since_recent_bc_dlq', 'purpose', 'open_il_12m', 'home_ownership', 'purpose_cleaned']\n"
     ]
    }
   ],
   "source": [
    "cols_for_reg = list(set(cols_for_reg +  [\"home_ownership_ordinal\", \"purpose_risk_score\"]))\n",
    "\n",
    "cols_for_tree = list(set(cols_for_tree + [\"home_ownership_ordinal\", \"purpose_risk_score\", \"purpose_risk_category\", \"purpose_high_risk\"]))\n",
    "\n",
    "drop_cols = list(set(drop_cols + [\"purpose\"]))\n",
    "\n",
    "print(f\"Columns for the regression-based models: {cols_for_reg}\")\n",
    "print(f\"Columns for the tree-based models: {cols_for_tree}\")\n",
    "print(f\"Columns to drop {drop_cols}\")"
   ],
   "metadata": {
    "collapsed": false,
    "ExecuteTime": {
     "end_time": "2025-04-02T16:35:27.038069Z",
     "start_time": "2025-04-02T16:35:27.034868Z"
    }
   }
  },
  {
   "cell_type": "markdown",
   "source": [
    "### Engineering the `hardship_flag` field with `create_has_hardship_flag()` in /feature_engineering/nodes.py\n",
    "\n",
    "**Functionality:**\n",
    "Converts the categorical `hardship_flag` column (values like `'y'` / `'n'`) into a binary numeric indicator `has_hardship`.\n",
    "\n",
    "**Input:**\n",
    "- `hardship_flag` — a string column indicating if the borrower had a hardship (values like `\"y\"`, `\"n\"`, case-insensitive)\n",
    "\n",
    "**Output:**\n",
    "- `has_hardship` — binary indicator:\n",
    "  - `1` if hardship_flag is `\"y\"`\n",
    "  - `0` otherwise\n",
    "\n",
    "**New field(s):**\n",
    "- `has_hardship` — **used in both tree-based and regression models**\n",
    "\n",
    "**Drop field(s):**\n",
    "- `hardship_flag` — only used for generating `has_hardship`, can be dropped after this node\n"
   ],
   "metadata": {
    "collapsed": false
   }
  },
  {
   "cell_type": "code",
   "execution_count": 123,
   "outputs": [
    {
     "name": "stdout",
     "output_type": "stream",
     "text": [
      "Columns for the regression-based models: ['has_hardship', 'purpose_risk_score', 'loan_status_binary', 'home_ownership_ordinal']\n",
      "Columns for the tree-based models: ['purpose_other', 'purpose_risk_score', 'has_hardship', 'purpose_risk_category', 'home_ownership_ordinal', 'purpose_nan', 'purpose_high_risk', 'loan_status_binary']\n",
      "Columns to drop ['open_act_il', 'tax_liens', 'tot_coll_amt', 'hardship_flag', 'mths_since_recent_bc_dlq', 'purpose', 'open_il_12m', 'home_ownership', 'purpose_cleaned']\n"
     ]
    }
   ],
   "source": [
    "cols_for_reg = list(set(cols_for_reg + [\"has_hardship\"]))\n",
    "\n",
    "cols_for_tree = list(set(cols_for_tree + [\"has_hardship\"]))\n",
    "\n",
    "drop_cols = list(set(drop_cols + [\"hardship_flag\"]))\n",
    "\n",
    "print(f\"Columns for the regression-based models: {cols_for_reg}\")\n",
    "print(f\"Columns for the tree-based models: {cols_for_tree}\")\n",
    "print(f\"Columns to drop {drop_cols}\")"
   ],
   "metadata": {
    "collapsed": false,
    "ExecuteTime": {
     "end_time": "2025-04-02T16:35:27.152557Z",
     "start_time": "2025-04-02T16:35:27.040539Z"
    }
   }
  },
  {
   "cell_type": "markdown",
   "source": [
    "### Engineering the `hardship_loan_status` field with `create_was_late_before_hardship()` in /feature_engineering/nodes.py\n",
    "\n",
    "**Functionality:**\n",
    "Creates a binary feature that indicates whether a borrower entered hardship while already in a **late loan status**.\n",
    "\n",
    "**Input:**\n",
    "- `hardship_loan_status` — string field indicating loan status at time of hardship (e.g., `\"late (31-120 days)\"`, `\"fully paid\"`, etc.)\n",
    "\n",
    "**Output:**\n",
    "- `was_late_before_hardship` — binary indicator:\n",
    "  - `1` if the loan status at hardship contains the word `\"late\"` (case-insensitive)\n",
    "  - `0` otherwise or if field is missing\n",
    "\n",
    "**New field(s):**\n",
    "- `was_late_before_hardship` — **used in both tree-based and regression models**\n",
    "\n",
    "**Drop field(s):**\n",
    "- `hardship_loan_status` — used only to derive `was_late_before_hardship`, can be dropped after this node\n"
   ],
   "metadata": {
    "collapsed": false
   }
  },
  {
   "cell_type": "code",
   "execution_count": 124,
   "outputs": [
    {
     "name": "stdout",
     "output_type": "stream",
     "text": [
      "Columns for the regression-based models: ['purpose_risk_score', 'has_hardship', 'home_ownership_ordinal', 'was_late_before_hardship', 'loan_status_binary']\n",
      "Columns for the tree-based models: ['purpose_other', 'purpose_risk_score', 'has_hardship', 'purpose_risk_category', 'home_ownership_ordinal', 'purpose_nan', 'purpose_high_risk', 'was_late_before_hardship', 'loan_status_binary']\n",
      "Columns to drop ['open_act_il', 'tax_liens', 'tot_coll_amt', 'hardship_flag', 'mths_since_recent_bc_dlq', 'purpose', 'open_il_12m', 'home_ownership', 'hardship_loan_status', 'purpose_cleaned']\n"
     ]
    }
   ],
   "source": [
    "cols_for_reg = list(set(cols_for_reg + [\"was_late_before_hardship\"]))\n",
    "\n",
    "cols_for_tree = list(set(cols_for_tree + [\"was_late_before_hardship\"]))\n",
    "\n",
    "drop_cols = list(set(drop_cols + [\"hardship_loan_status\"]))\n",
    "\n",
    "print(f\"Columns for the regression-based models: {cols_for_reg}\")\n",
    "print(f\"Columns for the tree-based models: {cols_for_tree}\")\n",
    "print(f\"Columns to drop {drop_cols}\")"
   ],
   "metadata": {
    "collapsed": false,
    "ExecuteTime": {
     "end_time": "2025-04-02T16:35:27.171086Z",
     "start_time": "2025-04-02T16:35:27.046329Z"
    }
   }
  },
  {
   "cell_type": "markdown",
   "source": [
    "### Engineering the `hardship_dpd` field with `create_hardship_features()` in /feature_engineering/nodes.py\n",
    "\n",
    "**Functionality:**\n",
    "Fills missing values in the `hardship_dpd` (days past due during hardship) field and creates a cleaned version for modeling.\n",
    "\n",
    "**Input:**\n",
    "- `hardship_dpd` — numeric field representing how many days the loan was past due at the time of hardship (can be NaN)\n",
    "\n",
    "**Output:**\n",
    "- `hardship_dpd_filled` — numeric field with missing values filled as `0`\n",
    "\n",
    "**New field(s):**\n",
    "- `hardship_dpd_filled` — **used in both tree-based and regression models**\n",
    "\n",
    "**Drop field(s):**\n",
    "- `hardship_dpd` — original raw column used only to create the cleaned version, can be dropped after this node\n"
   ],
   "metadata": {
    "collapsed": false
   }
  },
  {
   "cell_type": "code",
   "execution_count": 125,
   "outputs": [
    {
     "name": "stdout",
     "output_type": "stream",
     "text": [
      "Columns for the regression-based models: ['purpose_risk_score', 'has_hardship', 'home_ownership_ordinal', 'was_late_before_hardship', 'hardship_dpd_filled', 'loan_status_binary']\n",
      "Columns for the tree-based models: ['purpose_other', 'purpose_risk_score', 'has_hardship', 'purpose_risk_category', 'home_ownership_ordinal', 'purpose_nan', 'purpose_high_risk', 'was_late_before_hardship', 'hardship_dpd_filled', 'loan_status_binary']\n",
      "Columns to drop ['hardship_dpd', 'open_act_il', 'tax_liens', 'tot_coll_amt', 'hardship_flag', 'mths_since_recent_bc_dlq', 'purpose', 'open_il_12m', 'home_ownership', 'hardship_loan_status', 'purpose_cleaned']\n"
     ]
    }
   ],
   "source": [
    "cols_for_reg = list(set(cols_for_reg + [\"hardship_dpd_filled\"]))\n",
    "\n",
    "cols_for_tree = list(set(cols_for_tree + [\"hardship_dpd_filled\"]))\n",
    "\n",
    "drop_cols = list(set(drop_cols + [\"hardship_dpd\"]))\n",
    "\n",
    "print(f\"Columns for the regression-based models: {cols_for_reg}\")\n",
    "print(f\"Columns for the tree-based models: {cols_for_tree}\")\n",
    "print(f\"Columns to drop {drop_cols}\")"
   ],
   "metadata": {
    "collapsed": false,
    "ExecuteTime": {
     "end_time": "2025-04-02T16:35:27.171307Z",
     "start_time": "2025-04-02T16:35:27.051279Z"
    }
   }
  },
  {
   "cell_type": "markdown",
   "source": [
    "### Engineering the `emp_length` field with `engineer_emp_length_features()` in /feature_engineering/nodes.py\n",
    "\n",
    "**Functionality:**\n",
    "Transforms the text-based `emp_length` field into numeric versions for use in both tree-based and regression models. Handles missing values separately depending on the model type.\n",
    "\n",
    "**Input:**\n",
    "- `emp_length` — a categorical field representing the number of years employed (e.g., `\"10+ years\"`, `\"< 1 year\"`)\n",
    "\n",
    "**Output:**\n",
    "- `emp_length_clean` — numeric base transformation (used internally)\n",
    "- `emp_length_clean_tree` — tree-model-specific version with missing filled as `-1`\n",
    "- `emp_length_clean_reg` — regression-model-specific version with missing filled as **median**\n",
    "\n",
    "**New field(s):**\n",
    "- `emp_length_clean_tree` — **used in tree-based models**\n",
    "- `emp_length_clean_reg` — **used in regression models**\n",
    "\n",
    "**Drop field(s):**\n",
    "- `emp_length` — original text field, can be dropped after this node\n",
    "- `emp_length_clean` — intermediate transformation, not directly used downstream\n"
   ],
   "metadata": {
    "collapsed": false
   }
  },
  {
   "cell_type": "code",
   "execution_count": 126,
   "outputs": [
    {
     "name": "stdout",
     "output_type": "stream",
     "text": [
      "Columns for the regression-based models: ['purpose_risk_score', 'has_hardship', 'home_ownership_ordinal', 'was_late_before_hardship', 'hardship_dpd_filled', 'emp_length_clean_reg', 'loan_status_binary']\n",
      "Columns for the tree-based models: ['emp_length_clean_tree', 'purpose_other', 'purpose_risk_score', 'has_hardship', 'purpose_risk_category', 'home_ownership_ordinal', 'purpose_nan', 'purpose_high_risk', 'was_late_before_hardship', 'hardship_dpd_filled', 'loan_status_binary']\n",
      "Columns to drop ['hardship_dpd', 'open_act_il', 'tax_liens', 'emp_length_clean', 'tot_coll_amt', 'hardship_flag', 'mths_since_recent_bc_dlq', 'emp_length', 'purpose', 'open_il_12m', 'home_ownership', 'hardship_loan_status', 'purpose_cleaned']\n"
     ]
    }
   ],
   "source": [
    "cols_for_reg = list(set(cols_for_reg + [\"emp_length_clean_reg\"]))\n",
    "\n",
    "cols_for_tree = list(set(cols_for_tree + [\"emp_length_clean_tree\"]))\n",
    "\n",
    "drop_cols = list(set(drop_cols + [\"emp_length\", \"emp_length_clean\"]))\n",
    "\n",
    "print(f\"Columns for the regression-based models: {cols_for_reg}\")\n",
    "print(f\"Columns for the tree-based models: {cols_for_tree}\")\n",
    "print(f\"Columns to drop {drop_cols}\")"
   ],
   "metadata": {
    "collapsed": false,
    "ExecuteTime": {
     "end_time": "2025-04-02T16:35:27.171562Z",
     "start_time": "2025-04-02T16:35:27.056459Z"
    }
   }
  },
  {
   "cell_type": "markdown",
   "source": [
    "### Engineering the `earliest_cr_line` fields with `create_credit_age_feature()` in /feature_engineering/nodes.py\n",
    "\n",
    "**Functionality:**\n",
    "Combines individual and joint applicants’ credit line information into a unified field and calculates credit history length (age) in months.\n",
    "\n",
    "**Inputs:**\n",
    "- `earliest_cr_line` — datetime field for the primary applicant’s earliest credit line\n",
    "- `sec_app_earliest_cr_line` — datetime for secondary applicant (if joint)\n",
    "- `issue_d` — loan issue date\n",
    "- `is_joint_app` — binary flag indicating joint application\n",
    "\n",
    "**Outputs:**\n",
    "- `earliest_cr_line_final` — unified field (uses secondary applicant’s date if applicable)\n",
    "- `credit_age_months` — numeric field representing months between credit line and loan issue\n",
    "\n",
    "**New field(s):**\n",
    "- `earliest_cr_line_final` — used as temporal reference, especially for joint cases\n",
    "- `credit_age_months` — used in **both** tree-based and regression models\n",
    "\n",
    "**Drop field(s):**\n",
    "- `earliest_cr_line` — superseded by `earliest_cr_line_final`\n",
    "- `sec_app_earliest_cr_line` — no longer needed after merge\n",
    "- `issue_d` — used in other features too, so **retain**\n"
   ],
   "metadata": {
    "collapsed": false
   }
  },
  {
   "cell_type": "code",
   "execution_count": 127,
   "outputs": [
    {
     "name": "stdout",
     "output_type": "stream",
     "text": [
      "Columns for the regression-based models: ['purpose_risk_score', 'credit_age_months', 'has_hardship', 'home_ownership_ordinal', 'was_late_before_hardship', 'hardship_dpd_filled', 'emp_length_clean_reg', 'loan_status_binary']\n",
      "Columns for the tree-based models: ['emp_length_clean_tree', 'purpose_other', 'purpose_risk_score', 'credit_age_months', 'has_hardship', 'purpose_risk_category', 'home_ownership_ordinal', 'purpose_nan', 'purpose_high_risk', 'was_late_before_hardship', 'hardship_dpd_filled', 'loan_status_binary']\n",
      "Columns to drop ['hardship_dpd', 'open_act_il', 'sec_app_earliest_cr_line', 'tax_liens', 'emp_length_clean', 'tot_coll_amt', 'earliest_cr_line', 'hardship_flag', 'mths_since_recent_bc_dlq', 'purpose_cleaned', 'purpose', 'issue_d', 'open_il_12m', 'home_ownership', 'hardship_loan_status', 'emp_length', 'earliest_cr_line_final']\n"
     ]
    }
   ],
   "source": [
    "cols_for_reg = list(set(cols_for_reg + [\"credit_age_months\"]))\n",
    "\n",
    "cols_for_tree = list(set(cols_for_tree + [\"credit_age_months\"]))\n",
    "\n",
    "drop_cols = list(set(drop_cols + [\"earliest_cr_line\", \"sec_app_earliest_cr_line\", \"earliest_cr_line_final\", \"issue_d\"]))\n",
    "\n",
    "print(f\"Columns for the regression-based models: {cols_for_reg}\")\n",
    "print(f\"Columns for the tree-based models: {cols_for_tree}\")\n",
    "print(f\"Columns to drop {drop_cols}\")"
   ],
   "metadata": {
    "collapsed": false,
    "ExecuteTime": {
     "end_time": "2025-04-02T16:35:27.171664Z",
     "start_time": "2025-04-02T16:35:27.061269Z"
    }
   }
  },
  {
   "cell_type": "markdown",
   "source": [
    "### Engineering the `loan_amnt` and `installment` fields with `create_loan_amount_features()` in `/feature_engineering/nodes.py`\n",
    "\n",
    "**Functionality:**\n",
    "Creates ratio-based and binned features that capture the relationship between loan amount and monthly installment. These features reflect affordability and general loan size.\n",
    "\n",
    "**Input Fields:**\n",
    "- `loan_amnt` – total loan amount\n",
    "- `installment` – monthly payment amount\n",
    "\n",
    "**Output Fields:**\n",
    "- `loan_to_installment_ratio` – ratio of loan amount to installment payment, clipped to 1st–99th percentile. Used in **tree-based and regression** models\n",
    "- `loan_amount_band` – decile-based binning of `loan_amnt` (0–9), fallback to fixed bins if needed. Used in **tree-based** models (categorical splits)\n",
    "\n",
    "**Drop Field(s):**\n",
    "- _None dropped at this stage_\n",
    "  `loan_amnt` and `installment` are still used in:\n",
    "  - `income_to_loan_reg`\n",
    "  - `payment_to_income`\n",
    "  - Downstream validation and feature profiling\n",
    "\n",
    "⚠️ _Dropping `loan_amnt` and `installment` after all dependent features are created._\n"
   ],
   "metadata": {
    "collapsed": false
   }
  },
  {
   "cell_type": "markdown",
   "source": [
    "### The `funded_amnt` field will be deleted since its correlated with `loan_amnt`"
   ],
   "metadata": {
    "collapsed": false
   }
  },
  {
   "cell_type": "code",
   "execution_count": 128,
   "outputs": [
    {
     "name": "stdout",
     "output_type": "stream",
     "text": [
      "Columns for the regression-based models: ['purpose_risk_score', 'credit_age_months', 'has_hardship', 'home_ownership_ordinal', 'loan_to_installment_ratio', 'was_late_before_hardship', 'hardship_dpd_filled', 'emp_length_clean_reg', 'loan_status_binary']\n",
      "Columns for the tree-based models: ['emp_length_clean_tree', 'purpose_other', 'purpose_risk_score', 'credit_age_months', 'has_hardship', 'purpose_risk_category', 'home_ownership_ordinal', 'purpose_nan', 'purpose_high_risk', 'loan_to_installment_ratio', 'was_late_before_hardship', 'hardship_dpd_filled', 'loan_amount_band', 'loan_status_binary']\n",
      "Columns to drop ['hardship_dpd', 'open_act_il', 'funded_amnt', 'sec_app_earliest_cr_line', 'tax_liens', 'emp_length_clean', 'tot_coll_amt', 'earliest_cr_line', 'hardship_flag', 'mths_since_recent_bc_dlq', 'emp_length', 'purpose', 'issue_d', 'open_il_12m', 'home_ownership', 'hardship_loan_status', 'purpose_cleaned', 'earliest_cr_line_final']\n"
     ]
    }
   ],
   "source": [
    "cols_for_reg = list(set(cols_for_reg + [\"loan_to_installment_ratio\"]))\n",
    "\n",
    "cols_for_tree = list(set(cols_for_tree + [\"loan_to_installment_ratio\", \"loan_amount_band\"]))\n",
    "\n",
    "drop_cols = list(set(drop_cols + [\"funded_amnt\"]))\n",
    "\n",
    "print(f\"Columns for the regression-based models: {cols_for_reg}\")\n",
    "print(f\"Columns for the tree-based models: {cols_for_tree}\")\n",
    "print(f\"Columns to drop {drop_cols}\")"
   ],
   "metadata": {
    "collapsed": false,
    "ExecuteTime": {
     "end_time": "2025-04-02T16:35:27.171750Z",
     "start_time": "2025-04-02T16:35:27.066112Z"
    }
   }
  },
  {
   "cell_type": "markdown",
   "source": [
    "### Engineering the `fico` fields with `create_fico_score_features()` in `/feature_engineering/nodes.py`\n",
    "\n",
    "**Functionality:**\n",
    "Generates standardized and model-friendly FICO score features by averaging FICO bounds and creating binned risk indicators.\n",
    "\n",
    "**Inputs:**\n",
    "- `fico_range_low`: Lower end of the borrower's estimated FICO range\n",
    "- `fico_range_high`: Upper end of the borrower's estimated FICO range\n",
    "\n",
    "**Output Fields:**\n",
    "- `fico_average`: Mean of `fico_range_low` and `fico_range_high`, clipped to [300–850]\n",
    "  - Used in **tree-based** and **regression** models\n",
    "- `fico_risk_band`: Categorical score band (A–F), using either quantiles or fallback fixed bins\n",
    "  - Used in **tree-based** models only\n",
    "\n",
    "**New Field(s):**\n",
    "- `fico_average` —  Tree & Regression\n",
    "- `fico_risk_band` —  Tree only\n",
    "\n",
    "**Drop Field(s):**\n",
    "- `fico_range_low` —  Drop after creating `fico_average`\n",
    "- `fico_range_high` —  Drop after creating `fico_average`\n"
   ],
   "metadata": {
    "collapsed": false
   }
  },
  {
   "cell_type": "code",
   "execution_count": 129,
   "outputs": [
    {
     "name": "stdout",
     "output_type": "stream",
     "text": [
      "Columns for the regression-based models: ['purpose_risk_score', 'credit_age_months', 'has_hardship', 'home_ownership_ordinal', 'loan_to_installment_ratio', 'was_late_before_hardship', 'hardship_dpd_filled', 'fico_average', 'emp_length_clean_reg', 'loan_status_binary']\n",
      "Columns for the tree-based models: ['emp_length_clean_tree', 'purpose_other', 'purpose_risk_score', 'credit_age_months', 'fico_risk_band', 'has_hardship', 'purpose_risk_category', 'home_ownership_ordinal', 'purpose_nan', 'purpose_high_risk', 'loan_to_installment_ratio', 'was_late_before_hardship', 'hardship_dpd_filled', 'fico_average', 'loan_amount_band', 'loan_status_binary']\n",
      "Columns to drop ['tax_liens', 'mths_since_recent_bc_dlq', 'open_il_12m', 'home_ownership', 'fico_range_high', 'open_act_il', 'emp_length_clean', 'tot_coll_amt', 'purpose', 'earliest_cr_line_final', 'hardship_dpd', 'earliest_cr_line', 'issue_d', 'hardship_loan_status', 'purpose_cleaned', 'emp_length', 'fico_range_low', 'sec_app_earliest_cr_line', 'hardship_flag', 'funded_amnt']\n"
     ]
    }
   ],
   "source": [
    "cols_for_reg = list(set(cols_for_reg + [\"fico_average\"]))\n",
    "\n",
    "cols_for_tree = list(set(cols_for_tree + [\"fico_average\", \"fico_risk_band\"]))\n",
    "\n",
    "drop_cols = list(set(drop_cols + [\"fico_range_low\", \"fico_range_high\"]))\n",
    "\n",
    "print(f\"Columns for the regression-based models: {cols_for_reg}\")\n",
    "print(f\"Columns for the tree-based models: {cols_for_tree}\")\n",
    "print(f\"Columns to drop {drop_cols}\")"
   ],
   "metadata": {
    "collapsed": false,
    "ExecuteTime": {
     "end_time": "2025-04-02T16:35:27.171839Z",
     "start_time": "2025-04-02T16:35:27.071069Z"
    }
   }
  },
  {
   "cell_type": "markdown",
   "source": [],
   "metadata": {
    "collapsed": false
   }
  },
  {
   "cell_type": "markdown",
   "source": [
    "### Engineering the `term` fields with `create_term_model_features()` in `/feature_engineering/nodes.py`\n",
    "\n",
    "**Functionality:**\n",
    "Generates model-specific features from the `term` column (e.g., 36 or 60 months) for both tree-based and regression models.\n",
    "\n",
    "**Input:**\n",
    "- `term` — numeric loan term in months (already cleaned during preprocessing)\n",
    "- `int_rate` — interest rate ( is used later)\n",
    "\n",
    "**Outputs:**\n",
    "- `term_tree` — Categorical feature used in tree-based models -- Tree-only\n",
    "- `term_normalized_reg` — Scaled feature (0–1) for regression models  -- Regression-only\n",
    "- `term_rate_interaction_reg` — Interaction between term and interest rate -- Regression-only\n",
    "\n",
    "**New field(s):**\n",
    "- `term_tree`\n",
    "- `term_normalized_reg`\n",
    "- `term_rate_interaction_reg`\n",
    "\n",
    "**Drop field(s):**\n",
    "- `term` — can be dropped **after** derived features are created, as it is replaced by model-specific versions.\n"
   ],
   "metadata": {
    "collapsed": false
   }
  },
  {
   "cell_type": "code",
   "execution_count": 130,
   "outputs": [
    {
     "name": "stdout",
     "output_type": "stream",
     "text": [
      "Columns for the regression-based models: ['purpose_risk_score', 'credit_age_months', 'has_hardship', 'home_ownership_ordinal', 'term_rate_interaction_reg', 'loan_to_installment_ratio', 'was_late_before_hardship', 'hardship_dpd_filled', 'fico_average', 'emp_length_clean_reg', 'term_normalized_reg', 'loan_status_binary']\n",
      "Columns for the tree-based models: ['emp_length_clean_tree', 'purpose_other', 'purpose_risk_score', 'fico_risk_band', 'credit_age_months', 'has_hardship', 'purpose_risk_category', 'home_ownership_ordinal', 'purpose_nan', 'purpose_high_risk', 'term_tree', 'loan_to_installment_ratio', 'was_late_before_hardship', 'hardship_dpd_filled', 'fico_average', 'loan_amount_band', 'loan_status_binary']\n",
      "Columns to drop ['tax_liens', 'term', 'mths_since_recent_bc_dlq', 'open_il_12m', 'home_ownership', 'fico_range_high', 'open_act_il', 'emp_length_clean', 'tot_coll_amt', 'purpose', 'earliest_cr_line_final', 'hardship_dpd', 'earliest_cr_line', 'issue_d', 'hardship_loan_status', 'emp_length', 'purpose_cleaned', 'fico_range_low', 'sec_app_earliest_cr_line', 'hardship_flag', 'funded_amnt']\n"
     ]
    }
   ],
   "source": [
    "cols_for_reg = list(set(cols_for_reg + [\"term_normalized_reg\", \"term_rate_interaction_reg\"]))\n",
    "\n",
    "cols_for_tree = list(set(cols_for_tree + [\"term_tree\"]))\n",
    "\n",
    "drop_cols = list(set(drop_cols + [\"term\"]))\n",
    "\n",
    "print(f\"Columns for the regression-based models: {cols_for_reg}\")\n",
    "print(f\"Columns for the tree-based models: {cols_for_tree}\")\n",
    "print(f\"Columns to drop {drop_cols}\")"
   ],
   "metadata": {
    "collapsed": false,
    "ExecuteTime": {
     "end_time": "2025-04-02T16:35:27.171974Z",
     "start_time": "2025-04-02T16:35:27.079024Z"
    }
   }
  },
  {
   "cell_type": "markdown",
   "source": [
    "### Engineering the `int_rate`, `grade`, and `sub_grade` fields with `encode_interest_and_grade_fields()` in `/feature_engineering/nodes.py`\n",
    "\n",
    "**Functionality:**\n",
    "Transforms key LendingClub classification and interest rate fields into numerical features for modeling.\n",
    "\n",
    "**Inputs:**\n",
    "- `int_rate` — interest rate in percentage (e.g., 13.49)\n",
    "- `grade` — letter grade from A to G (already lowercased in preprocessing)\n",
    "- `sub_grade` — finer-grained version of `grade`, from A1 to G5 (e.g., \"b3\", \"f2\")\n",
    "\n",
    "**Outputs:**\n",
    "- `int_rate` — converted from percentage to decimal (e.g., 0.1349) ✅ Regression + Tree\n",
    "- `grade_encoded` — ordinal feature (1 = best grade A, 7 = worst grade G) ✅ Regression + Tree\n",
    "- `sub_grade_encoded` — fine-grained ordinal feature (1 = A1, ..., 35 = G5) ✅ Regression + Tree\n",
    "\n",
    "**New field(s):**\n",
    "- `grade_encoded`\n",
    "- `sub_grade_encoded`\n",
    "- (transformed) `int_rate` (overwrites original)\n",
    "\n",
    "**Drop field(s):**\n",
    "- `grade` — used to create `grade_encoded`\n",
    "- `sub_grade` — used to create `sub_grade_encoded`\n",
    "- ⚠️ Retain `int_rate` (overwritten with numeric format)\n"
   ],
   "metadata": {
    "collapsed": false
   }
  },
  {
   "cell_type": "code",
   "execution_count": 131,
   "outputs": [
    {
     "name": "stdout",
     "output_type": "stream",
     "text": [
      "Columns for the regression-based models: ['sub_grade_encoded', 'purpose_risk_score', 'credit_age_months', 'has_hardship', 'home_ownership_ordinal', 'term_rate_interaction_reg', 'int_rate', 'loan_to_installment_ratio', 'was_late_before_hardship', 'hardship_dpd_filled', 'fico_average', 'emp_length_clean_reg', 'term_normalized_reg', 'grade_encoded', 'loan_status_binary']\n",
      "Columns for the tree-based models: ['credit_age_months', 'loan_amount_band', 'sub_grade_encoded', 'has_hardship', 'purpose_risk_category', 'purpose_high_risk', 'fico_average', 'emp_length_clean_tree', 'purpose_other', 'fico_risk_band', 'int_rate', 'purpose_nan', 'was_late_before_hardship', 'hardship_dpd_filled', 'grade_encoded', 'loan_status_binary', 'purpose_risk_score', 'home_ownership_ordinal', 'term_tree', 'loan_to_installment_ratio']\n",
      "Columns to drop ['tax_liens', 'term', 'mths_since_recent_bc_dlq', 'open_il_12m', 'home_ownership', 'fico_range_high', 'open_act_il', 'emp_length_clean', 'tot_coll_amt', 'purpose', 'earliest_cr_line_final', 'hardship_dpd', 'earliest_cr_line', 'issue_d', 'hardship_loan_status', 'purpose_cleaned', 'emp_length', 'fico_range_low', 'sec_app_earliest_cr_line', 'grade', 'hardship_flag', 'funded_amnt', 'sub_grade']\n"
     ]
    }
   ],
   "source": [
    "cols_for_reg = list(set(cols_for_reg + [\"int_rate\", \"grade_encoded\", \"sub_grade_encoded\"]))\n",
    "\n",
    "cols_for_tree = list(set(cols_for_tree + [\"int_rate\", \"grade_encoded\", \"sub_grade_encoded\"]))\n",
    "\n",
    "drop_cols = list(set(drop_cols + [\"grade\", \"sub_grade\"]))\n",
    "\n",
    "print(f\"Columns for the regression-based models: {cols_for_reg}\")\n",
    "print(f\"Columns for the tree-based models: {cols_for_tree}\")\n",
    "print(f\"Columns to drop {drop_cols}\")"
   ],
   "metadata": {
    "collapsed": false,
    "ExecuteTime": {
     "end_time": "2025-04-02T16:35:27.172117Z",
     "start_time": "2025-04-02T16:35:27.084213Z"
    }
   }
  },
  {
   "cell_type": "markdown",
   "source": [
    "### Engineering credit history indicators with `create_credit_history_features()` in `/feature_engineering/nodes.py`\n",
    "\n",
    "**Functionality:**\n",
    "Combines multiple credit history fields into composite features that signal borrower risk due to past derogatory marks or delinquencies.\n",
    "\n",
    "**Inputs:**\n",
    "- `delinq_2yrs` — number of delinquencies in the past 2 years\n",
    "- `pub_rec` — number of derogatory public records\n",
    "- `mths_since_last_delinq` — months since the last delinquency (may contain NaNs)\n",
    "\n",
    "**Outputs:**\n",
    "- `has_derogatory` — binary indicator (1 if `delinq_2yrs` > 0 or `pub_rec` > 0) ✅ Tree + Regression\n",
    "- `delinq_weight` — weighted delinquency severity score (higher if delinquencies were recent) ✅ Regression only\n",
    "\n",
    "**New field(s):**\n",
    "- `has_derogatory` — used in both tree-based and regression models\n",
    "- `delinq_weight` — used in regression models only (continuous score)\n",
    "\n",
    "**Drop field(s):**\n",
    "- None explicitly dropped yet, but:\n",
    "  - `delinq_2yrs`, `pub_rec`, and `mths_since_last_delinq` keep temporarily for use in later features (`create_credit_history_model_features`)\n"
   ],
   "metadata": {
    "collapsed": false
   }
  },
  {
   "cell_type": "code",
   "execution_count": 132,
   "outputs": [
    {
     "name": "stdout",
     "output_type": "stream",
     "text": [
      "Columns for the regression-based models: ['sub_grade_encoded', 'purpose_risk_score', 'credit_age_months', 'has_hardship', 'home_ownership_ordinal', 'has_derogatory', 'term_rate_interaction_reg', 'int_rate', 'loan_to_installment_ratio', 'was_late_before_hardship', 'hardship_dpd_filled', 'fico_average', 'emp_length_clean_reg', 'term_normalized_reg', 'delinq_weight', 'grade_encoded', 'loan_status_binary']\n",
      "Columns for the tree-based models: ['credit_age_months', 'loan_amount_band', 'sub_grade_encoded', 'has_hardship', 'purpose_risk_category', 'has_derogatory', 'purpose_high_risk', 'fico_average', 'emp_length_clean_tree', 'purpose_other', 'fico_risk_band', 'int_rate', 'purpose_nan', 'was_late_before_hardship', 'hardship_dpd_filled', 'grade_encoded', 'loan_status_binary', 'purpose_risk_score', 'home_ownership_ordinal', 'term_tree', 'loan_to_installment_ratio']\n",
      "Columns to drop ['tax_liens', 'term', 'mths_since_recent_bc_dlq', 'open_il_12m', 'home_ownership', 'fico_range_high', 'open_act_il', 'emp_length_clean', 'tot_coll_amt', 'purpose', 'earliest_cr_line_final', 'hardship_dpd', 'earliest_cr_line', 'issue_d', 'hardship_loan_status', 'purpose_cleaned', 'emp_length', 'fico_range_low', 'sec_app_earliest_cr_line', 'grade', 'hardship_flag', 'funded_amnt', 'sub_grade']\n"
     ]
    }
   ],
   "source": [
    "cols_for_reg = list(set(cols_for_reg + [\"has_derogatory\", \"delinq_weight\"]))\n",
    "\n",
    "cols_for_tree = list(set(cols_for_tree + [\"has_derogatory\"]))\n",
    "\n",
    "# drop_cols = list(set(drop_cols + [\"grade\", \"sub_grade\"]))\n",
    "\n",
    "print(f\"Columns for the regression-based models: {cols_for_reg}\")\n",
    "print(f\"Columns for the tree-based models: {cols_for_tree}\")\n",
    "print(f\"Columns to drop {drop_cols}\")"
   ],
   "metadata": {
    "collapsed": false,
    "ExecuteTime": {
     "end_time": "2025-04-02T16:35:27.172616Z",
     "start_time": "2025-04-02T16:35:27.088213Z"
    }
   }
  },
  {
   "cell_type": "markdown",
   "source": [
    "### Engineering model-specific credit history features with `create_credit_history_model_features()` in `/feature_engineering/nodes.py`\n",
    "\n",
    "**Functionality:**\n",
    "Generates separate credit history features for tree-based and regression models by handling missing values and emphasizing recent delinquencies.\n",
    "\n",
    "**Inputs:**\n",
    "- `delinq_2yrs` — number of delinquencies in the past 2 years\n",
    "- `mths_since_last_delinq` — months since the last delinquency\n",
    "\n",
    "**Outputs:**\n",
    "\n",
    "✅ **Tree-based model features**\n",
    "- `delinq_2yrs_tree` — `delinq_2yrs` with missing values filled by `-1`\n",
    "- `has_delinq_tree` — binary indicator for any delinquency\n",
    "- `has_recent_delinq_tree` — binary flag for recent delinquency (< 24 months)\n",
    "\n",
    "✅ **Regression model features**\n",
    "- `delinq_2yrs_reg` — `delinq_2yrs` with median imputation\n",
    "- `delinq_severity_reg` — delinquency severity (higher if recent)\n",
    "\n",
    "**New field(s):**\n",
    "- Tree models: `delinq_2yrs_tree`, `has_delinq_tree`, `has_recent_delinq_tree`\n",
    "- Regression models: `delinq_2yrs_reg`, `delinq_severity_reg`\n",
    "\n",
    "**Drop field(s):**\n",
    "- None dropped explicitly\n",
    "- `delinq_2yrs` and `mths_since_last_delinq` may be dropped later after final model-specific datasets are built\n"
   ],
   "metadata": {
    "collapsed": false
   }
  },
  {
   "cell_type": "code",
   "execution_count": 133,
   "outputs": [
    {
     "name": "stdout",
     "output_type": "stream",
     "text": [
      "Columns for the regression-based models: ['credit_age_months', 'term_rate_interaction_reg', 'delinq_2yrs_reg', 'term_normalized_reg', 'sub_grade_encoded', 'has_hardship', 'has_derogatory', 'fico_average', 'int_rate', 'was_late_before_hardship', 'hardship_dpd_filled', 'emp_length_clean_reg', 'grade_encoded', 'loan_status_binary', 'delinq_severity_reg', 'purpose_risk_score', 'home_ownership_ordinal', 'loan_to_installment_ratio', 'delinq_weight']\n",
      "Columns for the tree-based models: ['credit_age_months', 'delinq_2yrs_tree', 'loan_amount_band', 'sub_grade_encoded', 'has_hardship', 'purpose_risk_category', 'has_derogatory', 'purpose_high_risk', 'fico_average', 'has_recent_delinq_tree', 'emp_length_clean_tree', 'purpose_other', 'fico_risk_band', 'int_rate', 'purpose_nan', 'was_late_before_hardship', 'hardship_dpd_filled', 'has_delinq_tree', 'grade_encoded', 'loan_status_binary', 'purpose_risk_score', 'home_ownership_ordinal', 'term_tree', 'loan_to_installment_ratio']\n",
      "Columns to drop ['tax_liens', 'term', 'mths_since_recent_bc_dlq', 'open_il_12m', 'home_ownership', 'fico_range_high', 'open_act_il', 'emp_length_clean', 'tot_coll_amt', 'purpose', 'earliest_cr_line_final', 'hardship_dpd', 'earliest_cr_line', 'issue_d', 'hardship_loan_status', 'purpose_cleaned', 'emp_length', 'fico_range_low', 'sec_app_earliest_cr_line', 'grade', 'hardship_flag', 'funded_amnt', 'sub_grade']\n"
     ]
    }
   ],
   "source": [
    "cols_for_reg = list(set(cols_for_reg + [\"delinq_2yrs_reg\", \"delinq_severity_reg\"]))\n",
    "\n",
    "cols_for_tree = list(set(cols_for_tree + [\"delinq_2yrs_tree\", \"has_delinq_tree\", \"has_recent_delinq_tree\"]))\n",
    "\n",
    "# drop_cols = list(set(drop_cols + [\"grade\", \"sub_grade\"]))\n",
    "# TODO: check other functions for `delinq_2yrs` and `mths_since_last_delinq`\n",
    "\n",
    "print(f\"Columns for the regression-based models: {cols_for_reg}\")\n",
    "print(f\"Columns for the tree-based models: {cols_for_tree}\")\n",
    "print(f\"Columns to drop {drop_cols}\")"
   ],
   "metadata": {
    "collapsed": false,
    "ExecuteTime": {
     "end_time": "2025-04-02T16:35:27.173112Z",
     "start_time": "2025-04-02T16:35:27.092318Z"
    }
   }
  },
  {
   "cell_type": "markdown",
   "source": [
    "### Handling missing `pub_rec` values with `handle_pub_rec_missing()` in `/feature_engineering/nodes.py`\n",
    "\n",
    "**Functionality:**\n",
    "Fills missing values in the `pub_rec` field using a specified imputation strategy.\n",
    "\n",
    "**Inputs:**\n",
    "- `pub_rec` — public derogatory record count\n",
    "- `strategy` — either `\"median\"` or `\"negative_one\"` (default is `\"median\"`)\n",
    "\n",
    "**Outputs:**\n",
    "- `pub_rec` — updated with imputed values\n",
    "\n",
    "**New field(s):**\n",
    "- None created — the original `pub_rec` field is modified in-place\n",
    "\n",
    "**Drop field(s):**\n",
    "- None\n",
    "\n",
    "**Model usage:**\n",
    "- `pub_rec` is used by **both tree-based** and **regression** models.\n",
    "  - Tree: as-is or through features like `has_derogatory`\n",
    "  - Regression: often used in engineered ratios or severity scores\n",
    "\n",
    "**Notes:**\n",
    "- The strategy is configurable through pipeline parameters (`params:pub_rec_strategy`)\n",
    "- This node ensures that later modeling steps can safely rely on non-missing `pub_rec`\n"
   ],
   "metadata": {
    "collapsed": false
   }
  },
  {
   "cell_type": "code",
   "execution_count": 134,
   "outputs": [
    {
     "name": "stdout",
     "output_type": "stream",
     "text": [
      "Columns for the regression-based models: ['credit_age_months', 'term_rate_interaction_reg', 'delinq_2yrs_reg', 'pub_rec', 'term_normalized_reg', 'sub_grade_encoded', 'has_hardship', 'has_derogatory', 'fico_average', 'int_rate', 'was_late_before_hardship', 'hardship_dpd_filled', 'emp_length_clean_reg', 'grade_encoded', 'loan_status_binary', 'delinq_severity_reg', 'purpose_risk_score', 'home_ownership_ordinal', 'loan_to_installment_ratio', 'delinq_weight']\n",
      "Columns for the tree-based models: ['credit_age_months', 'delinq_2yrs_tree', 'pub_rec', 'loan_amount_band', 'sub_grade_encoded', 'has_hardship', 'purpose_risk_category', 'has_derogatory', 'purpose_high_risk', 'fico_average', 'has_recent_delinq_tree', 'emp_length_clean_tree', 'purpose_other', 'fico_risk_band', 'int_rate', 'purpose_nan', 'was_late_before_hardship', 'hardship_dpd_filled', 'has_delinq_tree', 'grade_encoded', 'loan_status_binary', 'purpose_risk_score', 'home_ownership_ordinal', 'term_tree', 'loan_to_installment_ratio']\n",
      "Columns to drop ['tax_liens', 'term', 'mths_since_recent_bc_dlq', 'open_il_12m', 'home_ownership', 'fico_range_high', 'open_act_il', 'emp_length_clean', 'tot_coll_amt', 'purpose', 'earliest_cr_line_final', 'hardship_dpd', 'earliest_cr_line', 'issue_d', 'hardship_loan_status', 'purpose_cleaned', 'emp_length', 'fico_range_low', 'sec_app_earliest_cr_line', 'grade', 'hardship_flag', 'funded_amnt', 'sub_grade']\n"
     ]
    }
   ],
   "source": [
    "cols_for_reg = list(set(cols_for_reg + [\"pub_rec\"]))\n",
    "\n",
    "cols_for_tree = list(set(cols_for_tree + [\"pub_rec\"]))\n",
    "\n",
    "# drop_cols = list(set(drop_cols + [\"grade\", \"sub_grade\"]))\n",
    "\n",
    "print(f\"Columns for the regression-based models: {cols_for_reg}\")\n",
    "print(f\"Columns for the tree-based models: {cols_for_tree}\")\n",
    "print(f\"Columns to drop {drop_cols}\")"
   ],
   "metadata": {
    "collapsed": false,
    "ExecuteTime": {
     "end_time": "2025-04-02T16:35:27.173243Z",
     "start_time": "2025-04-02T16:35:27.096571Z"
    }
   }
  },
  {
   "cell_type": "markdown",
   "source": [
    "### Engineering delinquency features with `create_delinquency_features()` in `/feature_engineering/nodes.py`\n",
    "\n",
    "**Functionality:**\n",
    "Generates composite indicators of borrower delinquency behavior using recent and historical fields.\n",
    "\n",
    "**Inputs:**\n",
    "- `delinq_2yrs`: Number of delinquencies in the past 2 years\n",
    "- `mths_since_last_delinq`: Months since last delinquency\n",
    "- `acc_now_delinq`: Number of accounts currently delinquent\n",
    "- `mths_since_recent_revol_delinq`: (present but not used in current logic)\n",
    "\n",
    "**Outputs:**\n",
    "- `delinquency_score` — composite feature capturing overall delinquency risk\n",
    "- `recent_delinq_bin` — ordinal bin of `mths_since_last_delinq` (used to adjust score)\n",
    "\n",
    "**New field(s):**\n",
    "- `delinquency_score` — used in **tree-based models** (intended for splits or ranking risk)\n",
    "- `recent_delinq_bin` — tree-only ordinal bucket useful for boosting models\n",
    "\n",
    "**Drop field(s):**\n",
    "- `delinq_2yrs` and `mths_since_last_delinq` - to add to the drop list and the end of the feature creation\n",
    "\n",
    "**Model usage:**\n",
    "- `delinquency_score` and `recent_delinq_bin` are intended primarily for **tree-based models**\n",
    "- Raw fields like `delinq_2yrs` and `acc_now_delinq` are retained for **model-specific encoding**\n",
    "\n",
    "**Notes:**\n",
    "- Combines multiple weak indicators into a stronger aggregate risk metric\n",
    "- Supports interpretability in feature importance plots\n",
    "- Score is clipped to a max of 10 to avoid dominance in feature scales\n"
   ],
   "metadata": {
    "collapsed": false
   }
  },
  {
   "cell_type": "code",
   "execution_count": 135,
   "outputs": [
    {
     "name": "stdout",
     "output_type": "stream",
     "text": [
      "Columns for the regression-based models: ['credit_age_months', 'term_rate_interaction_reg', 'delinq_2yrs_reg', 'pub_rec', 'term_normalized_reg', 'sub_grade_encoded', 'has_hardship', 'has_derogatory', 'fico_average', 'int_rate', 'was_late_before_hardship', 'hardship_dpd_filled', 'emp_length_clean_reg', 'grade_encoded', 'loan_status_binary', 'delinq_severity_reg', 'purpose_risk_score', 'home_ownership_ordinal', 'loan_to_installment_ratio', 'delinq_weight']\n",
      "Columns for the tree-based models: ['credit_age_months', 'delinq_2yrs_tree', 'pub_rec', 'loan_amount_band', 'sub_grade_encoded', 'has_hardship', 'purpose_risk_category', 'has_derogatory', 'purpose_high_risk', 'recent_delinq_bin', 'fico_average', 'has_recent_delinq_tree', 'emp_length_clean_tree', 'purpose_other', 'fico_risk_band', 'int_rate', 'purpose_nan', 'was_late_before_hardship', 'hardship_dpd_filled', 'has_delinq_tree', 'grade_encoded', 'loan_status_binary', 'purpose_risk_score', 'home_ownership_ordinal', 'term_tree', 'loan_to_installment_ratio', 'delinquency_score']\n",
      "Columns to drop ['mths_since_last_delinq', 'tax_liens', 'term', 'mths_since_recent_bc_dlq', 'open_il_12m', 'home_ownership', 'fico_range_high', 'open_act_il', 'mths_since_recent_revol_delinq', 'emp_length_clean', 'tot_coll_amt', 'purpose', 'earliest_cr_line_final', 'hardship_dpd', 'earliest_cr_line', 'acc_now_delinq', 'issue_d', 'hardship_loan_status', 'emp_length', 'purpose_cleaned', 'fico_range_low', 'sec_app_earliest_cr_line', 'grade', 'hardship_flag', 'funded_amnt', 'sub_grade', 'delinq_2yrs']\n"
     ]
    }
   ],
   "source": [
    "# cols_for_reg = list(set(cols_for_reg + [\"pub_rec\"]))\n",
    "\n",
    "cols_for_tree = list(set(cols_for_tree + [\"delinquency_score\", \"recent_delinq_bin\"]))\n",
    "\n",
    "drop_cols = list(set(drop_cols + [\"delinq_2yrs\", \"mths_since_last_delinq\", \"mths_since_recent_revol_delinq\", \"acc_now_delinq\"]))\n",
    "\n",
    "print(f\"Columns for the regression-based models: {cols_for_reg}\")\n",
    "print(f\"Columns for the tree-based models: {cols_for_tree}\")\n",
    "print(f\"Columns to drop {drop_cols}\")"
   ],
   "metadata": {
    "collapsed": false,
    "ExecuteTime": {
     "end_time": "2025-04-02T16:35:27.173331Z",
     "start_time": "2025-04-02T16:35:27.100243Z"
    }
   }
  },
  {
   "cell_type": "markdown",
   "source": [
    "### Engineering credit inquiry features with `create_credit_inquiry_features()` in `/feature_engineering/nodes.py`\n",
    "\n",
    "**Functionality:**\n",
    "Creates new features that quantify recent credit inquiry behavior and potential risk associated with frequent credit seeking.\n",
    "\n",
    "**Inputs:**\n",
    "- `inq_last_6mths` — number of inquiries in the last 6 months\n",
    "- `inq_last_12m` — number of inquiries in the last 12 months\n",
    "- `open_acc_6m` — number of accounts opened in the last 6 months\n",
    "\n",
    "**Outputs:**\n",
    "- `recent_inquiry_intensity` — ratio of inquiries in 6m vs 12m (clipped to 1) — **Regression + Tree**\n",
    "- `high_recent_inquiries` — binary flag for frequent inquiries (3 or more in last 6m) — **Tree**\n",
    "- `inq_to_open_acc_ratio` — ratio of inquiries to opened accounts (proxy for credit seeking success rate) — **Regression + Tree**\n",
    "\n",
    "**New field(s):**\n",
    "- `recent_inquiry_intensity` — normalized ratio — **used in regression models**\n",
    "- `high_recent_inquiries` — binary risk flag — **used in tree models**\n",
    "- `inq_to_open_acc_ratio` — success ratio of inquiries — **used in both models**\n",
    "\n",
    "**Drop field(s):**\n",
    "- None (original input fields may still be useful elsewhere)\n"
   ],
   "metadata": {
    "collapsed": false
   }
  },
  {
   "cell_type": "code",
   "execution_count": 136,
   "outputs": [
    {
     "name": "stdout",
     "output_type": "stream",
     "text": [
      "Columns for the regression-based models: ['credit_age_months', 'term_rate_interaction_reg', 'delinq_2yrs_reg', 'pub_rec', 'term_normalized_reg', 'sub_grade_encoded', 'has_hardship', 'has_derogatory', 'fico_average', 'int_rate', 'recent_inquiry_intensity', 'was_late_before_hardship', 'hardship_dpd_filled', 'emp_length_clean_reg', 'grade_encoded', 'loan_status_binary', 'delinq_severity_reg', 'purpose_risk_score', 'home_ownership_ordinal', 'inq_to_open_acc_ratio', 'loan_to_installment_ratio', 'delinq_weight']\n",
      "Columns for the tree-based models: ['credit_age_months', 'delinq_2yrs_tree', 'pub_rec', 'loan_amount_band', 'sub_grade_encoded', 'has_hardship', 'purpose_risk_category', 'has_derogatory', 'purpose_high_risk', 'recent_delinq_bin', 'fico_average', 'has_recent_delinq_tree', 'emp_length_clean_tree', 'purpose_other', 'fico_risk_band', 'int_rate', 'recent_inquiry_intensity', 'purpose_nan', 'was_late_before_hardship', 'hardship_dpd_filled', 'has_delinq_tree', 'grade_encoded', 'loan_status_binary', 'purpose_risk_score', 'high_recent_inquiries', 'home_ownership_ordinal', 'inq_to_open_acc_ratio', 'term_tree', 'loan_to_installment_ratio', 'delinquency_score']\n",
      "Columns to drop ['mths_since_last_delinq', 'tax_liens', 'open_acc_6m', 'term', 'mths_since_recent_bc_dlq', 'open_il_12m', 'home_ownership', 'fico_range_high', 'open_act_il', 'mths_since_recent_revol_delinq', 'emp_length_clean', 'tot_coll_amt', 'purpose', 'earliest_cr_line_final', 'hardship_dpd', 'earliest_cr_line', 'inq_last_6mths', 'issue_d', 'hardship_loan_status', 'emp_length', 'purpose_cleaned', 'fico_range_low', 'sec_app_earliest_cr_line', 'inq_last_12m', 'grade', 'hardship_flag', 'sub_grade', 'funded_amnt', 'acc_now_delinq', 'delinq_2yrs']\n"
     ]
    }
   ],
   "source": [
    "cols_for_reg = list(set(cols_for_reg + [\"recent_inquiry_intensity\", \"inq_to_open_acc_ratio\"]))\n",
    "\n",
    "cols_for_tree = list(set(cols_for_tree + [\"recent_inquiry_intensity\", \"high_recent_inquiries\", \"inq_to_open_acc_ratio\"]))\n",
    "\n",
    "drop_cols = list(set(drop_cols + [\"inq_last_6mths\", \"inq_last_12m\", \"open_acc_6m\"]))\n",
    "\n",
    "print(f\"Columns for the regression-based models: {cols_for_reg}\")\n",
    "print(f\"Columns for the tree-based models: {cols_for_tree}\")\n",
    "print(f\"Columns to drop {drop_cols}\")"
   ],
   "metadata": {
    "collapsed": false,
    "ExecuteTime": {
     "end_time": "2025-04-02T16:35:27.173419Z",
     "start_time": "2025-04-02T16:35:27.104770Z"
    }
   }
  },
  {
   "cell_type": "markdown",
   "source": [
    "### Engineering account activity features with `create_account_activity_features()` in `/feature_engineering/nodes.py`\n",
    "\n",
    "**Functionality:**\n",
    "Generates features that describe the borrower’s recent credit account behavior, such as how quickly they are acquiring new credit and how active their accounts are.\n",
    "\n",
    "**Inputs:**\n",
    "- `open_acc` — number of currently open accounts\n",
    "- `acc_open_past_24mths` — number of accounts opened in the last 24 months\n",
    "- `total_acc` — total number of credit accounts\n",
    "\n",
    "**Outputs:**\n",
    "- `recent_acc_ratio` — share of open accounts that are newly opened\n",
    "- `rapid_acc_acquisition` — binary flag (1 if more than 50% of open accounts were opened recently)\n",
    "- `active_acc_ratio` — proportion of total accounts that are still open\n",
    "\n",
    "**New field(s):**\n",
    "- `recent_acc_ratio` — **used in tree and regression models**\n",
    "- `rapid_acc_acquisition` — **used in tree-based models**\n",
    "- `active_acc_ratio` — **used in tree and regression models**\n",
    "\n",
    "**Drop field(s):**\n",
    "- `open_acc`, `acc_open_past_24mths`, `total_acc` may be dropped after model-specific features are finalized if no longer used downstream\n",
    "\n",
    "**Model usage:**\n",
    "- `recent_acc_ratio`, `active_acc_ratio` — useful for both **regression** and **tree-based** models\n",
    "- `rapid_acc_acquisition` — binary feature primarily for **tree-based** models\n"
   ],
   "metadata": {
    "collapsed": false
   }
  },
  {
   "cell_type": "code",
   "execution_count": 137,
   "outputs": [
    {
     "name": "stdout",
     "output_type": "stream",
     "text": [
      "Columns for the regression-based models: ['credit_age_months', 'term_rate_interaction_reg', 'delinq_2yrs_reg', 'pub_rec', 'term_normalized_reg', 'recent_acc_ratio', 'sub_grade_encoded', 'has_hardship', 'has_derogatory', 'fico_average', 'active_acc_ratio', 'int_rate', 'recent_inquiry_intensity', 'was_late_before_hardship', 'hardship_dpd_filled', 'emp_length_clean_reg', 'grade_encoded', 'loan_status_binary', 'delinq_severity_reg', 'purpose_risk_score', 'home_ownership_ordinal', 'inq_to_open_acc_ratio', 'loan_to_installment_ratio', 'delinq_weight']\n",
      "Columns for the tree-based models: ['credit_age_months', 'delinq_2yrs_tree', 'pub_rec', 'recent_acc_ratio', 'loan_amount_band', 'sub_grade_encoded', 'has_hardship', 'purpose_risk_category', 'has_derogatory', 'purpose_high_risk', 'recent_delinq_bin', 'fico_average', 'has_recent_delinq_tree', 'rapid_acc_acquisition', 'active_acc_ratio', 'emp_length_clean_tree', 'purpose_other', 'fico_risk_band', 'int_rate', 'recent_inquiry_intensity', 'purpose_nan', 'was_late_before_hardship', 'hardship_dpd_filled', 'has_delinq_tree', 'grade_encoded', 'loan_status_binary', 'purpose_risk_score', 'high_recent_inquiries', 'home_ownership_ordinal', 'inq_to_open_acc_ratio', 'term_tree', 'loan_to_installment_ratio', 'delinquency_score']\n",
      "Columns to drop ['mths_since_last_delinq', 'tax_liens', 'open_acc_6m', 'term', 'acc_open_past_24mths', 'mths_since_recent_bc_dlq', 'open_il_12m', 'home_ownership', 'fico_range_high', 'open_act_il', 'mths_since_recent_revol_delinq', 'emp_length_clean', 'tot_coll_amt', 'purpose', 'earliest_cr_line_final', 'hardship_dpd', 'earliest_cr_line', 'acc_now_delinq', 'inq_last_6mths', 'issue_d', 'hardship_loan_status', 'emp_length', 'purpose_cleaned', 'fico_range_low', 'sec_app_earliest_cr_line', 'inq_last_12m', 'grade', 'hardship_flag', 'funded_amnt', 'open_acc', 'sub_grade', 'delinq_2yrs']\n"
     ]
    }
   ],
   "source": [
    "cols_for_reg = list(set(cols_for_reg + [\"recent_acc_ratio\", \"active_acc_ratio\"]))\n",
    "\n",
    "cols_for_tree = list(set(cols_for_tree + [\"recent_acc_ratio\", \"rapid_acc_acquisition\", \"active_acc_ratio\"]))\n",
    "\n",
    "drop_cols = list(set(drop_cols + [\"open_acc\", \"acc_open_past_24mths\"]))\n",
    "\n",
    "print(f\"Columns for the regression-based models: {cols_for_reg}\")\n",
    "print(f\"Columns for the tree-based models: {cols_for_tree}\")\n",
    "print(f\"Columns to drop {drop_cols}\")"
   ],
   "metadata": {
    "collapsed": false,
    "ExecuteTime": {
     "end_time": "2025-04-02T16:35:27.173581Z",
     "start_time": "2025-04-02T16:35:27.108976Z"
    }
   }
  },
  {
   "cell_type": "markdown",
   "source": [
    "### Engineering revolving balance features with `create_joint_revol_bal_feature()` in `/feature_engineering/nodes.py`\n",
    "\n",
    "**Functionality:**\n",
    "Creates a unified revolving balance feature `revol_bal_final` that accounts for joint applications by selecting the appropriate value based on whether the loan is a joint application.\n",
    "\n",
    "**Inputs:**\n",
    "- `revol_bal` — revolving balance for the individual borrower\n",
    "- `revol_bal_joint` — revolving balance for joint applications\n",
    "- `is_joint_app` — binary indicator for whether the loan is joint\n",
    "\n",
    "**Outputs:**\n",
    "- `revol_bal_final` — final value of revolving balance, selecting joint where applicable\n",
    "\n",
    "**New field(s):**\n",
    "- `revol_bal_final` — **used in downstream feature calculations**, including `inst_to_revol_ratio`\n",
    "\n",
    "**Drop field(s):**\n",
    "- `revol_bal`, `revol_bal_joint` — can be dropped after `revol_bal_final` is created\n",
    "\n",
    "**Model usage:**\n",
    "- `revol_bal_final` — **used in both tree and regression models**\n",
    "  (as input to downstream features like debt composition ratio)\n"
   ],
   "metadata": {
    "collapsed": false
   }
  },
  {
   "cell_type": "code",
   "execution_count": 138,
   "outputs": [
    {
     "name": "stdout",
     "output_type": "stream",
     "text": [
      "Columns for the regression-based models: ['credit_age_months', 'term_rate_interaction_reg', 'delinq_2yrs_reg', 'pub_rec', 'term_normalized_reg', 'recent_acc_ratio', 'revol_bal_final', 'sub_grade_encoded', 'has_hardship', 'has_derogatory', 'fico_average', 'active_acc_ratio', 'int_rate', 'recent_inquiry_intensity', 'was_late_before_hardship', 'hardship_dpd_filled', 'emp_length_clean_reg', 'grade_encoded', 'loan_status_binary', 'delinq_severity_reg', 'purpose_risk_score', 'home_ownership_ordinal', 'inq_to_open_acc_ratio', 'loan_to_installment_ratio', 'delinq_weight']\n",
      "Columns for the tree-based models: ['credit_age_months', 'delinq_2yrs_tree', 'pub_rec', 'recent_acc_ratio', 'loan_amount_band', 'revol_bal_final', 'sub_grade_encoded', 'has_hardship', 'purpose_risk_category', 'has_derogatory', 'purpose_high_risk', 'recent_delinq_bin', 'fico_average', 'has_recent_delinq_tree', 'rapid_acc_acquisition', 'active_acc_ratio', 'emp_length_clean_tree', 'purpose_other', 'fico_risk_band', 'int_rate', 'recent_inquiry_intensity', 'purpose_nan', 'was_late_before_hardship', 'hardship_dpd_filled', 'has_delinq_tree', 'grade_encoded', 'loan_status_binary', 'purpose_risk_score', 'high_recent_inquiries', 'home_ownership_ordinal', 'inq_to_open_acc_ratio', 'term_tree', 'loan_to_installment_ratio', 'delinquency_score']\n",
      "Columns to drop ['mths_since_last_delinq', 'tax_liens', 'revol_bal', 'open_acc_6m', 'term', 'acc_open_past_24mths', 'mths_since_recent_bc_dlq', 'revol_bal_joint', 'open_il_12m', 'home_ownership', 'fico_range_high', 'open_act_il', 'mths_since_recent_revol_delinq', 'emp_length_clean', 'tot_coll_amt', 'purpose', 'earliest_cr_line_final', 'hardship_dpd', 'earliest_cr_line', 'inq_last_6mths', 'issue_d', 'hardship_loan_status', 'emp_length', 'purpose_cleaned', 'fico_range_low', 'sec_app_earliest_cr_line', 'inq_last_12m', 'grade', 'hardship_flag', 'sub_grade', 'funded_amnt', 'open_acc', 'acc_now_delinq', 'delinq_2yrs']\n"
     ]
    }
   ],
   "source": [
    "cols_for_reg = list(set(cols_for_reg + [\"revol_bal_final\"]))\n",
    "\n",
    "cols_for_tree = list(set(cols_for_tree + [\"revol_bal_final\"]))\n",
    "\n",
    "drop_cols = list(set(drop_cols + [\"revol_bal\", \"revol_bal_joint\"]))\n",
    "\n",
    "print(f\"Columns for the regression-based models: {cols_for_reg}\")\n",
    "print(f\"Columns for the tree-based models: {cols_for_tree}\")\n",
    "print(f\"Columns to drop {drop_cols}\")"
   ],
   "metadata": {
    "collapsed": false,
    "ExecuteTime": {
     "end_time": "2025-04-02T16:35:27.173668Z",
     "start_time": "2025-04-02T16:35:27.113226Z"
    }
   }
  },
  {
   "cell_type": "markdown",
   "source": [
    "### Engineering debt composition features with `create_debt_composition_features()` in `/feature_engineering/nodes.py`\n",
    "\n",
    "**Functionality:**\n",
    "Generates features that describe how a borrower’s debt is distributed between installment and revolving credit, and whether they have a mortgage.\n",
    "\n",
    "**Inputs:**\n",
    "- `total_bal_il` — total balance on installment loans\n",
    "- `revol_bal_final` — final revolving balance (already cleaned/merged)\n",
    "- `mort_acc` — number of mortgage accounts\n",
    "- `total_acc` — total number of credit accounts\n",
    "\n",
    "**Outputs:**\n",
    "- `inst_to_revol_ratio` — ratio of installment to revolving debt\n",
    "- `debt_composition_type` — categorical bucket of the borrower's debt profile\n",
    "- `mortgage_ratio` — share of mortgage accounts out of total accounts\n",
    "\n",
    "**New field(s):**\n",
    "- `inst_to_revol_ratio` — **used in tree and regression models**\n",
    "- `debt_composition_type` — **tree-specific categorical feature**\n",
    "- `mortgage_ratio` — **used in both model types**\n",
    "- `has_mortgage` — **binary feature for tree models**\n",
    "\n",
    "**Drop field(s):**\n",
    "- `total_bal_il`, `mort_acc`, `total_acc` — can be dropped later if not reused\n",
    "\n"
   ],
   "metadata": {
    "collapsed": false
   }
  },
  {
   "cell_type": "code",
   "execution_count": 139,
   "outputs": [
    {
     "name": "stdout",
     "output_type": "stream",
     "text": [
      "Columns for the regression-based models: ['credit_age_months', 'term_rate_interaction_reg', 'delinq_2yrs_reg', 'pub_rec', 'term_normalized_reg', 'recent_acc_ratio', 'revol_bal_final', 'sub_grade_encoded', 'has_hardship', 'has_derogatory', 'fico_average', 'mortgage_ratio', 'active_acc_ratio', 'inst_to_revol_ratio', 'int_rate', 'recent_inquiry_intensity', 'was_late_before_hardship', 'hardship_dpd_filled', 'emp_length_clean_reg', 'grade_encoded', 'loan_status_binary', 'delinq_severity_reg', 'purpose_risk_score', 'home_ownership_ordinal', 'inq_to_open_acc_ratio', 'loan_to_installment_ratio', 'delinq_weight']\n",
      "Columns for the tree-based models: ['credit_age_months', 'delinq_2yrs_tree', 'pub_rec', 'recent_acc_ratio', 'loan_amount_band', 'revol_bal_final', 'sub_grade_encoded', 'has_hardship', 'purpose_risk_category', 'has_derogatory', 'purpose_high_risk', 'recent_delinq_bin', 'debt_composition_type', 'fico_average', 'has_recent_delinq_tree', 'rapid_acc_acquisition', 'mortgage_ratio', 'active_acc_ratio', 'emp_length_clean_tree', 'purpose_other', 'fico_risk_band', 'inst_to_revol_ratio', 'int_rate', 'recent_inquiry_intensity', 'purpose_nan', 'was_late_before_hardship', 'hardship_dpd_filled', 'has_delinq_tree', 'grade_encoded', 'has_mortgage', 'loan_status_binary', 'purpose_risk_score', 'high_recent_inquiries', 'home_ownership_ordinal', 'inq_to_open_acc_ratio', 'term_tree', 'loan_to_installment_ratio', 'delinquency_score']\n",
      "Columns to drop ['mths_since_last_delinq', 'tax_liens', 'revol_bal', 'open_acc_6m', 'term', 'acc_open_past_24mths', 'mths_since_recent_bc_dlq', 'revol_bal_joint', 'open_il_12m', 'home_ownership', 'fico_range_high', 'open_act_il', 'mths_since_recent_revol_delinq', 'emp_length_clean', 'tot_coll_amt', 'total_bal_il', 'purpose', 'earliest_cr_line_final', 'hardship_dpd', 'earliest_cr_line', 'acc_now_delinq', 'inq_last_6mths', 'issue_d', 'hardship_loan_status', 'emp_length', 'purpose_cleaned', 'fico_range_low', 'sec_app_earliest_cr_line', 'inq_last_12m', 'grade', 'hardship_flag', 'total_acc', 'mort_acc', 'funded_amnt', 'open_acc', 'sub_grade', 'delinq_2yrs']\n"
     ]
    }
   ],
   "source": [
    "cols_for_reg = list(set(cols_for_reg + [\"inst_to_revol_ratio\", \"mortgage_ratio\"]))\n",
    "\n",
    "cols_for_tree = list(\n",
    "    set(cols_for_tree + [\"inst_to_revol_ratio\", \"debt_composition_type\", \"mortgage_ratio\", \"has_mortgage\"]))\n",
    "\n",
    "drop_cols = list(set(drop_cols + [\"total_acc\", \"total_bal_il\", \"mort_acc\"]))\n",
    "\n",
    "print(f\"Columns for the regression-based models: {cols_for_reg}\")\n",
    "print(f\"Columns for the tree-based models: {cols_for_tree}\")\n",
    "print(f\"Columns to drop {drop_cols}\")"
   ],
   "metadata": {
    "collapsed": false,
    "ExecuteTime": {
     "end_time": "2025-04-02T16:35:27.173765Z",
     "start_time": "2025-04-02T16:35:27.117981Z"
    }
   }
  },
  {
   "cell_type": "markdown",
   "source": [
    "### Engineering derogatory record recency with `create_mths_since_last_record_feature()` in `/feature_engineering/nodes.py`\n",
    "\n",
    "**Functionality:**\n",
    "Creates a normalized version of the `mths_since_last_record` field by filling missing values and capping extreme values.\n",
    "This feature helps model how recent a derogatory public record was reported, if any.\n",
    "\n",
    "**Inputs:**\n",
    "- `mths_since_last_record` — months since the last derogatory record; can be missing\n",
    "\n",
    "**Outputs:**\n",
    "- `mths_since_last_record_filled` — filled and capped version of `mths_since_last_record`\n",
    "\n",
    "**New field(s):**\n",
    "- `mths_since_last_record_filled` — used in both tree-based and regression models\n",
    "\n",
    "**Drop field(s):**\n",
    "- `mths_since_last_record` — can be dropped after the filled version is created\n",
    "\n",
    "**Model usage:**\n",
    "- `mths_since_last_record_filled` — ✔️ Used in **tree** and **regression** models\n",
    "  (as an indicator of financial recovery or risk history)\n"
   ],
   "metadata": {
    "collapsed": false
   }
  },
  {
   "cell_type": "code",
   "execution_count": 140,
   "outputs": [
    {
     "name": "stdout",
     "output_type": "stream",
     "text": [
      "Columns for the regression-based models: ['credit_age_months', 'term_rate_interaction_reg', 'delinq_2yrs_reg', 'pub_rec', 'term_normalized_reg', 'recent_acc_ratio', 'revol_bal_final', 'sub_grade_encoded', 'has_hardship', 'has_derogatory', 'fico_average', 'mths_since_last_record_filled', 'mortgage_ratio', 'active_acc_ratio', 'inst_to_revol_ratio', 'int_rate', 'recent_inquiry_intensity', 'was_late_before_hardship', 'hardship_dpd_filled', 'emp_length_clean_reg', 'grade_encoded', 'loan_status_binary', 'delinq_severity_reg', 'purpose_risk_score', 'home_ownership_ordinal', 'inq_to_open_acc_ratio', 'loan_to_installment_ratio', 'delinq_weight']\n",
      "Columns for the tree-based models: ['credit_age_months', 'delinq_2yrs_tree', 'pub_rec', 'recent_acc_ratio', 'loan_amount_band', 'revol_bal_final', 'sub_grade_encoded', 'has_hardship', 'purpose_risk_category', 'has_derogatory', 'purpose_high_risk', 'recent_delinq_bin', 'debt_composition_type', 'fico_average', 'has_recent_delinq_tree', 'mths_since_last_record_filled', 'mortgage_ratio', 'rapid_acc_acquisition', 'active_acc_ratio', 'emp_length_clean_tree', 'purpose_other', 'fico_risk_band', 'inst_to_revol_ratio', 'int_rate', 'recent_inquiry_intensity', 'purpose_nan', 'was_late_before_hardship', 'hardship_dpd_filled', 'has_delinq_tree', 'grade_encoded', 'has_mortgage', 'loan_status_binary', 'purpose_risk_score', 'high_recent_inquiries', 'home_ownership_ordinal', 'inq_to_open_acc_ratio', 'term_tree', 'loan_to_installment_ratio', 'delinquency_score']\n",
      "Columns to drop ['mths_since_last_delinq', 'tax_liens', 'revol_bal', 'open_acc_6m', 'term', 'acc_open_past_24mths', 'mths_since_recent_bc_dlq', 'revol_bal_joint', 'open_il_12m', 'home_ownership', 'fico_range_high', 'open_act_il', 'mths_since_recent_revol_delinq', 'mths_since_last_record', 'emp_length_clean', 'tot_coll_amt', 'total_bal_il', 'purpose', 'earliest_cr_line_final', 'hardship_dpd', 'earliest_cr_line', 'inq_last_6mths', 'issue_d', 'hardship_loan_status', 'emp_length', 'purpose_cleaned', 'fico_range_low', 'sec_app_earliest_cr_line', 'inq_last_12m', 'grade', 'hardship_flag', 'total_acc', 'sub_grade', 'mort_acc', 'funded_amnt', 'open_acc', 'acc_now_delinq', 'delinq_2yrs']\n"
     ]
    }
   ],
   "source": [
    "cols_for_reg = list(set(cols_for_reg + [\"mths_since_last_record_filled\"]))\n",
    "\n",
    "cols_for_tree = list(\n",
    "    set(cols_for_tree + [\"mths_since_last_record_filled\"]))\n",
    "\n",
    "drop_cols = list(set(drop_cols + [\"mths_since_last_record\"]))\n",
    "\n",
    "print(f\"Columns for the regression-based models: {cols_for_reg}\")\n",
    "print(f\"Columns for the tree-based models: {cols_for_tree}\")\n",
    "print(f\"Columns to drop {drop_cols}\")"
   ],
   "metadata": {
    "collapsed": false,
    "ExecuteTime": {
     "end_time": "2025-04-02T16:35:27.173856Z",
     "start_time": "2025-04-02T16:35:27.122896Z"
    }
   }
  },
  {
   "cell_type": "markdown",
   "source": [
    "# %% md\n",
    "### Engineering income features with `create_joint_income_feature()` in `/feature_engineering/nodes.py`\n",
    "\n",
    "**Functionality:**\n",
    "Creates a unified income field `annual_inc_final` by combining individual and joint income based on application type.\n",
    "\n",
    "**Inputs:**\n",
    "- `annual_inc` — income of the primary applicant\n",
    "- `annual_inc_joint` — combined income of both applicants (if joint application)\n",
    "- `is_joint_app` — binary flag indicating if application is joint\n",
    "\n",
    "**Outputs:**\n",
    "- `annual_inc_final` — unified income field reflecting total reported income\n",
    "\n",
    "**New field(s):**\n",
    "- `annual_inc_final` — ✔️ Used in both **tree-based** and **regression** models\n",
    "  (improves accuracy by properly handling joint applications)\n",
    "\n",
    "**Drop field(s):**\n",
    "- `annual_inc`, `annual_inc_joint` — ✅ Can be dropped after feature is created\n",
    "  (they're fully incorporated into the new `annual_inc_final` field)\n"
   ],
   "metadata": {
    "collapsed": false
   }
  },
  {
   "cell_type": "code",
   "execution_count": 141,
   "outputs": [
    {
     "name": "stdout",
     "output_type": "stream",
     "text": [
      "Columns for the regression-based models: ['credit_age_months', 'term_rate_interaction_reg', 'delinq_2yrs_reg', 'pub_rec', 'term_normalized_reg', 'recent_acc_ratio', 'revol_bal_final', 'annual_inc_final', 'sub_grade_encoded', 'has_hardship', 'has_derogatory', 'fico_average', 'mths_since_last_record_filled', 'mortgage_ratio', 'active_acc_ratio', 'inst_to_revol_ratio', 'int_rate', 'recent_inquiry_intensity', 'was_late_before_hardship', 'hardship_dpd_filled', 'emp_length_clean_reg', 'grade_encoded', 'loan_status_binary', 'delinq_severity_reg', 'purpose_risk_score', 'home_ownership_ordinal', 'inq_to_open_acc_ratio', 'loan_to_installment_ratio', 'delinq_weight']\n",
      "Columns for the tree-based models: ['credit_age_months', 'delinq_2yrs_tree', 'pub_rec', 'recent_acc_ratio', 'loan_amount_band', 'revol_bal_final', 'annual_inc_final', 'sub_grade_encoded', 'has_hardship', 'purpose_risk_category', 'has_derogatory', 'purpose_high_risk', 'recent_delinq_bin', 'debt_composition_type', 'fico_average', 'has_recent_delinq_tree', 'mths_since_last_record_filled', 'rapid_acc_acquisition', 'mortgage_ratio', 'active_acc_ratio', 'emp_length_clean_tree', 'purpose_other', 'fico_risk_band', 'inst_to_revol_ratio', 'int_rate', 'recent_inquiry_intensity', 'purpose_nan', 'was_late_before_hardship', 'hardship_dpd_filled', 'has_delinq_tree', 'grade_encoded', 'has_mortgage', 'loan_status_binary', 'purpose_risk_score', 'high_recent_inquiries', 'home_ownership_ordinal', 'inq_to_open_acc_ratio', 'term_tree', 'loan_to_installment_ratio', 'delinquency_score']\n",
      "Columns to drop ['annual_inc', 'mths_since_last_delinq', 'tax_liens', 'revol_bal', 'open_acc_6m', 'term', 'acc_open_past_24mths', 'mths_since_recent_bc_dlq', 'revol_bal_joint', 'open_il_12m', 'home_ownership', 'fico_range_high', 'open_act_il', 'mths_since_recent_revol_delinq', 'mths_since_last_record', 'emp_length_clean', 'tot_coll_amt', 'total_bal_il', 'purpose', 'earliest_cr_line_final', 'hardship_dpd', 'earliest_cr_line', 'acc_now_delinq', 'inq_last_6mths', 'issue_d', 'hardship_loan_status', 'emp_length', 'purpose_cleaned', 'fico_range_low', 'sec_app_earliest_cr_line', 'inq_last_12m', 'grade', 'hardship_flag', 'total_acc', 'annual_inc_joint', 'mort_acc', 'funded_amnt', 'open_acc', 'sub_grade', 'delinq_2yrs']\n"
     ]
    }
   ],
   "source": [
    "cols_for_reg = list(set(cols_for_reg + [\"annual_inc_final\"]))\n",
    "\n",
    "cols_for_tree = list(set(cols_for_tree + [\"annual_inc_final\"]))\n",
    "\n",
    "drop_cols = list(set(drop_cols + [\"annual_inc\", \"annual_inc_joint\"]))\n",
    "\n",
    "print(f\"Columns for the regression-based models: {cols_for_reg}\")\n",
    "print(f\"Columns for the tree-based models: {cols_for_tree}\")\n",
    "print(f\"Columns to drop {drop_cols}\")"
   ],
   "metadata": {
    "collapsed": false,
    "ExecuteTime": {
     "end_time": "2025-04-02T16:35:27.173943Z",
     "start_time": "2025-04-02T16:35:27.127732Z"
    }
   }
  },
  {
   "cell_type": "markdown",
   "source": [
    "# %% md\n",
    "### Engineering income-related model-specific features with `create_income_model_features()` in `/feature_engineering/nodes.py`\n",
    "\n",
    "**Functionality:**\n",
    "Creates tree-based and regression-based income features from `annual_inc_final`.\n",
    "\n",
    "**Inputs:**\n",
    "- `annual_inc_final` — unified income field (from joint or individual income)\n",
    "- `loan_amnt` — required for `income_to_loan_reg` calculation\n",
    "\n",
    "**Outputs (tree-based models):**\n",
    "- `income_band_tree` — income quantile bins (ordinal)\n",
    "- `is_high_income_tree` — binary flag for high-income borrowers\n",
    "\n",
    "**Outputs (regression models):**\n",
    "- `income_log_reg` — log-transformed income for normalization\n",
    "- `income_to_loan_reg` — income-to-loan ratio (clipped to handle outliers)\n",
    "\n",
    "**New field(s):**\n",
    "- `income_band_tree` — ✔️ Used in tree-based models\n",
    "- `is_high_income_tree` — ✔️ Used in tree-based models\n",
    "- `income_log_reg` — ✔️ Used in regression models\n",
    "- `income_to_loan_reg` — ✔️ Used in regression models\n",
    "\n",
    "**Drop field(s):**\n",
    "- None explicitly dropped here, but `annual_inc_final` should be retained for downstream use or modeling.\n"
   ],
   "metadata": {
    "collapsed": false
   }
  },
  {
   "cell_type": "code",
   "execution_count": 142,
   "outputs": [
    {
     "name": "stdout",
     "output_type": "stream",
     "text": [
      "Columns for the regression-based models: ['credit_age_months', 'term_rate_interaction_reg', 'income_log_reg', 'delinq_2yrs_reg', 'pub_rec', 'term_normalized_reg', 'recent_acc_ratio', 'revol_bal_final', 'annual_inc_final', 'sub_grade_encoded', 'has_hardship', 'has_derogatory', 'fico_average', 'mths_since_last_record_filled', 'mortgage_ratio', 'active_acc_ratio', 'inst_to_revol_ratio', 'int_rate', 'recent_inquiry_intensity', 'income_to_loan_reg', 'was_late_before_hardship', 'hardship_dpd_filled', 'emp_length_clean_reg', 'grade_encoded', 'loan_status_binary', 'delinq_severity_reg', 'purpose_risk_score', 'home_ownership_ordinal', 'inq_to_open_acc_ratio', 'loan_to_installment_ratio', 'delinq_weight']\n",
      "Columns for the tree-based models: ['credit_age_months', 'delinq_2yrs_tree', 'pub_rec', 'recent_acc_ratio', 'loan_amount_band', 'revol_bal_final', 'annual_inc_final', 'sub_grade_encoded', 'has_hardship', 'purpose_risk_category', 'has_derogatory', 'purpose_high_risk', 'recent_delinq_bin', 'is_high_income_tree', 'debt_composition_type', 'fico_average', 'has_recent_delinq_tree', 'mths_since_last_record_filled', 'mortgage_ratio', 'rapid_acc_acquisition', 'active_acc_ratio', 'emp_length_clean_tree', 'purpose_other', 'fico_risk_band', 'inst_to_revol_ratio', 'int_rate', 'recent_inquiry_intensity', 'purpose_nan', 'was_late_before_hardship', 'hardship_dpd_filled', 'has_delinq_tree', 'grade_encoded', 'has_mortgage', 'loan_status_binary', 'purpose_risk_score', 'high_recent_inquiries', 'home_ownership_ordinal', 'inq_to_open_acc_ratio', 'term_tree', 'loan_to_installment_ratio', 'income_band_tree', 'delinquency_score']\n",
      "Columns to drop ['annual_inc', 'mths_since_last_delinq', 'tax_liens', 'revol_bal', 'open_acc_6m', 'term', 'acc_open_past_24mths', 'mths_since_recent_bc_dlq', 'revol_bal_joint', 'open_il_12m', 'home_ownership', 'fico_range_high', 'open_act_il', 'mths_since_recent_revol_delinq', 'mths_since_last_record', 'emp_length_clean', 'tot_coll_amt', 'total_bal_il', 'purpose', 'earliest_cr_line_final', 'hardship_dpd', 'earliest_cr_line', 'acc_now_delinq', 'inq_last_6mths', 'issue_d', 'hardship_loan_status', 'emp_length', 'purpose_cleaned', 'fico_range_low', 'sec_app_earliest_cr_line', 'inq_last_12m', 'grade', 'hardship_flag', 'total_acc', 'annual_inc_joint', 'mort_acc', 'funded_amnt', 'open_acc', 'sub_grade', 'delinq_2yrs']\n"
     ]
    }
   ],
   "source": [
    "cols_for_reg = list(set(cols_for_reg + [\"income_log_reg\", \"income_to_loan_reg\"]))\n",
    "\n",
    "cols_for_tree = list(set(cols_for_tree + [\"income_band_tree\", \"is_high_income_tree\"]))\n",
    "\n",
    "# drop_cols = list(set(drop_cols + []))\n",
    "\n",
    "print(f\"Columns for the regression-based models: {cols_for_reg}\")\n",
    "print(f\"Columns for the tree-based models: {cols_for_tree}\")\n",
    "print(f\"Columns to drop {drop_cols}\")"
   ],
   "metadata": {
    "collapsed": false,
    "ExecuteTime": {
     "end_time": "2025-04-02T16:35:27.174103Z",
     "start_time": "2025-04-02T16:35:27.132451Z"
    }
   }
  },
  {
   "cell_type": "markdown",
   "source": [
    "### Engineering payment-related features with `create_payment_features()` in `/feature_engineering/nodes.py`\n",
    "\n",
    "**Functionality:**\n",
    "Generates affordability and interest burden indicators from income, loan amount, term, and installment values.\n",
    "\n",
    "**Inputs:**\n",
    "- `annual_inc_final` — borrower (or joint) income\n",
    "- `installment` — monthly loan payment\n",
    "- `loan_amnt` — total loan amount\n",
    "- `term` — loan duration in months\n",
    "\n",
    "**Outputs (tree-based + regression models):**\n",
    "- `payment_to_income` — percentage of annual income spent on loan payments\n",
    "- `high_payment_burden` — binary flag for high burden (>20%)\n",
    "- `total_payments` — total scheduled loan repayment (installment × term)\n",
    "- `interest_burden_pct` — interest paid as % of loan amount\n",
    "\n",
    "**New field(s):**\n",
    "- `payment_to_income` — ✔️ Used in regression and possibly tree-based models\n",
    "- `high_payment_burden` — ✔️ Useful as a binary feature for tree-based models\n",
    "- `total_payments` — intermediate feature, used for calculating interest burden\n",
    "- `interest_burden_pct` — ✔️ Potentially useful for either model type\n",
    "\n",
    "**Drop field(s):**\n",
    "- None explicitly dropped\n",
    "- `total_payments` may be dropped if only `interest_burden_pct` is retained\n",
    "\n",
    "**Notes:**\n",
    "- `payment_to_income` is capped at 100% to avoid skew from extreme values\n",
    "- Useful for identifying overextended borrowers and modeling affordability stress\n"
   ],
   "metadata": {
    "collapsed": false
   }
  },
  {
   "cell_type": "code",
   "execution_count": 143,
   "outputs": [
    {
     "name": "stdout",
     "output_type": "stream",
     "text": [
      "Columns for the regression-based models: ['credit_age_months', 'term_rate_interaction_reg', 'income_log_reg', 'delinq_2yrs_reg', 'pub_rec', 'term_normalized_reg', 'recent_acc_ratio', 'revol_bal_final', 'annual_inc_final', 'sub_grade_encoded', 'interest_burden_pct', 'payment_to_income', 'has_hardship', 'has_derogatory', 'fico_average', 'mths_since_last_record_filled', 'mortgage_ratio', 'active_acc_ratio', 'inst_to_revol_ratio', 'int_rate', 'recent_inquiry_intensity', 'income_to_loan_reg', 'was_late_before_hardship', 'hardship_dpd_filled', 'emp_length_clean_reg', 'grade_encoded', 'loan_status_binary', 'delinq_severity_reg', 'purpose_risk_score', 'home_ownership_ordinal', 'inq_to_open_acc_ratio', 'loan_to_installment_ratio', 'delinq_weight']\n",
      "Columns for the tree-based models: ['high_payment_burden', 'credit_age_months', 'delinq_2yrs_tree', 'pub_rec', 'recent_acc_ratio', 'loan_amount_band', 'revol_bal_final', 'annual_inc_final', 'sub_grade_encoded', 'interest_burden_pct', 'payment_to_income', 'has_hardship', 'purpose_risk_category', 'has_derogatory', 'purpose_high_risk', 'recent_delinq_bin', 'is_high_income_tree', 'debt_composition_type', 'fico_average', 'has_recent_delinq_tree', 'mths_since_last_record_filled', 'mortgage_ratio', 'rapid_acc_acquisition', 'active_acc_ratio', 'emp_length_clean_tree', 'purpose_other', 'fico_risk_band', 'inst_to_revol_ratio', 'int_rate', 'recent_inquiry_intensity', 'purpose_nan', 'was_late_before_hardship', 'hardship_dpd_filled', 'has_delinq_tree', 'grade_encoded', 'has_mortgage', 'loan_status_binary', 'purpose_risk_score', 'high_recent_inquiries', 'home_ownership_ordinal', 'inq_to_open_acc_ratio', 'term_tree', 'loan_to_installment_ratio', 'income_band_tree', 'delinquency_score']\n",
      "Columns to drop ['annual_inc', 'mths_since_last_delinq', 'tax_liens', 'revol_bal', 'open_acc_6m', 'term', 'acc_open_past_24mths', 'mths_since_recent_bc_dlq', 'revol_bal_joint', 'open_il_12m', 'home_ownership', 'fico_range_high', 'open_act_il', 'mths_since_recent_revol_delinq', 'mths_since_last_record', 'emp_length_clean', 'tot_coll_amt', 'total_bal_il', 'purpose', 'earliest_cr_line_final', 'hardship_dpd', 'earliest_cr_line', 'inq_last_6mths', 'issue_d', 'hardship_loan_status', 'emp_length', 'purpose_cleaned', 'fico_range_low', 'sec_app_earliest_cr_line', 'inq_last_12m', 'grade', 'hardship_flag', 'total_acc', 'sub_grade', 'annual_inc_joint', 'mort_acc', 'funded_amnt', 'open_acc', 'acc_now_delinq', 'delinq_2yrs', 'total_payments']\n"
     ]
    }
   ],
   "source": [
    "cols_for_reg = list(set(cols_for_reg + [\"payment_to_income\", \"interest_burden_pct\"]))\n",
    "\n",
    "cols_for_tree = list(set(cols_for_tree + [\"payment_to_income\", \"high_payment_burden\", \"interest_burden_pct\"]))\n",
    "\n",
    "drop_cols = list(set(drop_cols + [\"total_payments\"]))\n",
    "\n",
    "print(f\"Columns for the regression-based models: {cols_for_reg}\")\n",
    "print(f\"Columns for the tree-based models: {cols_for_tree}\")\n",
    "print(f\"Columns to drop {drop_cols}\")"
   ],
   "metadata": {
    "collapsed": false,
    "ExecuteTime": {
     "end_time": "2025-04-02T16:35:27.174203Z",
     "start_time": "2025-04-02T16:35:27.135317Z"
    }
   }
  },
  {
   "cell_type": "markdown",
   "source": [
    "### Engineering the `dti` fields with `create_joint_dti_feature()` in `/feature_engineering/nodes.py`\n",
    "\n",
    "**Functionality:**\n",
    "Creates a unified debt-to-income ratio (`dti_final`) that intelligently selects between `dti` and `dti_joint` based on whether the application is joint.\n",
    "\n",
    "**Inputs:**\n",
    "- `dti` — individual debt-to-income ratio\n",
    "- `dti_joint` — joint DTI (if application is joint)\n",
    "- `is_joint_app` — binary indicator (1 if joint application)\n",
    "\n",
    "**Outputs:**\n",
    "- `dti_final` — DTI used for modeling, derived from `dti_joint` when available for joint applications\n",
    "\n",
    "**New field(s):**\n",
    "- `dti_final` — ✔️ Used in both regression and tree-based models\n",
    "\n",
    "**Drop field(s):**\n",
    "- `dti`, `dti_joint` — ❌ can be dropped after `dti_final` is created\n",
    "\n",
    "**Notes:**\n",
    "- Ensures downstream models use a consistent and context-appropriate DTI value\n",
    "- Joint DTI is prioritized if available\n"
   ],
   "metadata": {
    "collapsed": false
   }
  },
  {
   "cell_type": "code",
   "execution_count": 144,
   "outputs": [
    {
     "name": "stdout",
     "output_type": "stream",
     "text": [
      "Columns for the regression-based models: ['credit_age_months', 'term_rate_interaction_reg', 'income_log_reg', 'delinq_2yrs_reg', 'pub_rec', 'term_normalized_reg', 'recent_acc_ratio', 'revol_bal_final', 'annual_inc_final', 'sub_grade_encoded', 'interest_burden_pct', 'payment_to_income', 'has_hardship', 'has_derogatory', 'fico_average', 'mths_since_last_record_filled', 'mortgage_ratio', 'active_acc_ratio', 'inst_to_revol_ratio', 'int_rate', 'recent_inquiry_intensity', 'income_to_loan_reg', 'was_late_before_hardship', 'hardship_dpd_filled', 'emp_length_clean_reg', 'grade_encoded', 'loan_status_binary', 'delinq_severity_reg', 'purpose_risk_score', 'home_ownership_ordinal', 'inq_to_open_acc_ratio', 'loan_to_installment_ratio', 'delinq_weight', 'dti_final']\n",
      "Columns for the tree-based models: ['high_payment_burden', 'credit_age_months', 'delinq_2yrs_tree', 'pub_rec', 'recent_acc_ratio', 'loan_amount_band', 'revol_bal_final', 'annual_inc_final', 'sub_grade_encoded', 'interest_burden_pct', 'payment_to_income', 'has_hardship', 'purpose_risk_category', 'has_derogatory', 'purpose_high_risk', 'recent_delinq_bin', 'is_high_income_tree', 'debt_composition_type', 'fico_average', 'has_recent_delinq_tree', 'mths_since_last_record_filled', 'mortgage_ratio', 'rapid_acc_acquisition', 'active_acc_ratio', 'emp_length_clean_tree', 'purpose_other', 'fico_risk_band', 'inst_to_revol_ratio', 'int_rate', 'recent_inquiry_intensity', 'purpose_nan', 'was_late_before_hardship', 'hardship_dpd_filled', 'has_delinq_tree', 'grade_encoded', 'has_mortgage', 'loan_status_binary', 'purpose_risk_score', 'high_recent_inquiries', 'home_ownership_ordinal', 'inq_to_open_acc_ratio', 'term_tree', 'loan_to_installment_ratio', 'income_band_tree', 'delinquency_score', 'dti_final']\n",
      "Columns to drop ['annual_inc', 'mths_since_last_delinq', 'tax_liens', 'revol_bal', 'open_acc_6m', 'term', 'acc_open_past_24mths', 'mths_since_recent_bc_dlq', 'revol_bal_joint', 'dti', 'open_il_12m', 'home_ownership', 'fico_range_high', 'open_act_il', 'mths_since_recent_revol_delinq', 'mths_since_last_record', 'emp_length_clean', 'tot_coll_amt', 'dti_joint', 'total_bal_il', 'purpose', 'earliest_cr_line_final', 'hardship_dpd', 'earliest_cr_line', 'acc_now_delinq', 'inq_last_6mths', 'issue_d', 'hardship_loan_status', 'emp_length', 'purpose_cleaned', 'fico_range_low', 'sec_app_earliest_cr_line', 'inq_last_12m', 'grade', 'hardship_flag', 'total_acc', 'annual_inc_joint', 'mort_acc', 'funded_amnt', 'open_acc', 'sub_grade', 'delinq_2yrs', 'total_payments']\n"
     ]
    }
   ],
   "source": [
    "cols_for_reg = list(set(cols_for_reg + [\"dti_final\"]))\n",
    "\n",
    "cols_for_tree = list(set(cols_for_tree + [\"dti_final\"]))\n",
    "\n",
    "drop_cols = list(set(drop_cols + [\"dti\", \"dti_joint\"]))\n",
    "\n",
    "print(f\"Columns for the regression-based models: {cols_for_reg}\")\n",
    "print(f\"Columns for the tree-based models: {cols_for_tree}\")\n",
    "print(f\"Columns to drop {drop_cols}\")"
   ],
   "metadata": {
    "collapsed": false,
    "ExecuteTime": {
     "end_time": "2025-04-02T16:35:27.174314Z",
     "start_time": "2025-04-02T16:35:27.140965Z"
    }
   }
  },
  {
   "cell_type": "markdown",
   "source": [
    "### Engineering the `dti_final` field with `create_dti_model_features()` in `/feature_engineering/nodes.py`\n",
    "\n",
    "**Functionality:**\n",
    "Creates multiple model-specific features based on the unified debt-to-income ratio (`dti_final`).\n",
    "\n",
    "**Inputs:**\n",
    "- `dti_final` — unified debt-to-income ratio (individual or joint, depending on application type)\n",
    "\n",
    "**Outputs:**\n",
    "- `dti_band_tree` — decile-based binning for tree-based models\n",
    "- `is_high_dti_tree` — binary flag for high DTI (above median) — tree model only\n",
    "- `dti_normalized_reg` — normalized DTI for regression (0–1 scale)\n",
    "- `dti_log_reg` — log-transformed DTI for regression models\n",
    "\n",
    "**New field(s):**\n",
    "- `dti_band_tree`, `is_high_dti_tree` — ✔️ Tree-based models only\n",
    "- `dti_normalized_reg`, `dti_log_reg` — ✔️ Regression models only\n",
    "\n",
    "**Drop field(s):**\n",
    "- `dti_final` — ❌ should be retained, as it may still be useful for diagnostics or interpretation\n",
    "\n",
    "**Notes:**\n",
    "- Decile binning ensures good feature behavior for decision trees\n",
    "- Normalization and log transform are standard practices for linear/regression models\n"
   ],
   "metadata": {
    "collapsed": false
   }
  },
  {
   "cell_type": "code",
   "execution_count": 145,
   "outputs": [
    {
     "name": "stdout",
     "output_type": "stream",
     "text": [
      "Columns for the regression-based models: ['credit_age_months', 'term_rate_interaction_reg', 'income_log_reg', 'delinq_2yrs_reg', 'pub_rec', 'term_normalized_reg', 'recent_acc_ratio', 'revol_bal_final', 'annual_inc_final', 'sub_grade_encoded', 'interest_burden_pct', 'payment_to_income', 'has_hardship', 'has_derogatory', 'fico_average', 'mths_since_last_record_filled', 'mortgage_ratio', 'active_acc_ratio', 'dti_log_reg', 'inst_to_revol_ratio', 'int_rate', 'recent_inquiry_intensity', 'income_to_loan_reg', 'dti_normalized_reg', 'was_late_before_hardship', 'hardship_dpd_filled', 'emp_length_clean_reg', 'grade_encoded', 'loan_status_binary', 'delinq_severity_reg', 'purpose_risk_score', 'home_ownership_ordinal', 'inq_to_open_acc_ratio', 'loan_to_installment_ratio', 'delinq_weight', 'dti_final']\n",
      "Columns for the tree-based models: ['high_payment_burden', 'credit_age_months', 'delinq_2yrs_tree', 'pub_rec', 'recent_acc_ratio', 'loan_amount_band', 'revol_bal_final', 'annual_inc_final', 'sub_grade_encoded', 'interest_burden_pct', 'payment_to_income', 'has_hardship', 'purpose_risk_category', 'has_derogatory', 'purpose_high_risk', 'recent_delinq_bin', 'is_high_income_tree', 'debt_composition_type', 'fico_average', 'has_recent_delinq_tree', 'mths_since_last_record_filled', 'mortgage_ratio', 'rapid_acc_acquisition', 'active_acc_ratio', 'emp_length_clean_tree', 'purpose_other', 'fico_risk_band', 'inst_to_revol_ratio', 'is_high_dti_tree', 'int_rate', 'recent_inquiry_intensity', 'purpose_nan', 'was_late_before_hardship', 'hardship_dpd_filled', 'has_delinq_tree', 'grade_encoded', 'has_mortgage', 'loan_status_binary', 'purpose_risk_score', 'high_recent_inquiries', 'home_ownership_ordinal', 'dti_band_tree', 'inq_to_open_acc_ratio', 'term_tree', 'loan_to_installment_ratio', 'income_band_tree', 'delinquency_score', 'dti_final']\n",
      "Columns to drop ['annual_inc', 'mths_since_last_delinq', 'tax_liens', 'revol_bal', 'open_acc_6m', 'term', 'acc_open_past_24mths', 'mths_since_recent_bc_dlq', 'revol_bal_joint', 'dti', 'open_il_12m', 'home_ownership', 'fico_range_high', 'open_act_il', 'mths_since_recent_revol_delinq', 'mths_since_last_record', 'emp_length_clean', 'tot_coll_amt', 'dti_joint', 'total_bal_il', 'purpose', 'earliest_cr_line_final', 'hardship_dpd', 'earliest_cr_line', 'acc_now_delinq', 'inq_last_6mths', 'issue_d', 'hardship_loan_status', 'emp_length', 'purpose_cleaned', 'fico_range_low', 'sec_app_earliest_cr_line', 'inq_last_12m', 'grade', 'hardship_flag', 'total_acc', 'annual_inc_joint', 'mort_acc', 'funded_amnt', 'open_acc', 'sub_grade', 'delinq_2yrs', 'total_payments']\n"
     ]
    }
   ],
   "source": [
    "cols_for_reg = list(set(cols_for_reg + [\"dti_normalized_reg\", \"dti_log_reg\"]))\n",
    "\n",
    "cols_for_tree = list(set(cols_for_tree + [\"dti_band_tree\", \"is_high_dti_tree\"]))\n",
    "\n",
    "# drop_cols = list(set(drop_cols + [\"dti\", \"dti_joint\"]))\n",
    "\n",
    "print(f\"Columns for the regression-based models: {cols_for_reg}\")\n",
    "print(f\"Columns for the tree-based models: {cols_for_tree}\")\n",
    "print(f\"Columns to drop {drop_cols}\")"
   ],
   "metadata": {
    "collapsed": false,
    "ExecuteTime": {
     "end_time": "2025-04-02T16:35:27.174422Z",
     "start_time": "2025-04-02T16:35:27.152751Z"
    }
   }
  },
  {
   "cell_type": "markdown",
   "source": [
    "### Engineering the `revol_util` field with `create_revol_util_features()` in `/feature_engineering/nodes.py`\n",
    "\n",
    "**Functionality:**\n",
    "Generates model-specific features from `revol_util` (revolving credit utilization) by applying tailored missing value strategies.\n",
    "\n",
    "**Inputs:**\n",
    "- `revol_util` — percentage of revolving credit lines currently in use (may contain missing values)\n",
    "\n",
    "**Outputs:**\n",
    "- `revol_util_tree` — for tree-based models, with missing values filled with `-1`\n",
    "- `revol_util_reg` — for regression models, with missing values filled using the median\n",
    "\n",
    "**New field(s):**\n",
    "- `revol_util_tree` — ✔️ Tree-based models only\n",
    "- `revol_util_reg` — ✔️ Regression models only\n",
    "\n",
    "**Drop field(s):**\n",
    "- `revol_util` — ✅ Can be dropped after feature generation (used solely to derive model-specific fields)\n",
    "\n",
    "**Notes:**\n",
    "- Tree-based models can interpret out-of-range values like `-1` as a meaningful split\n",
    "- Median imputation helps maintain distribution continuity for regression models\n"
   ],
   "metadata": {
    "collapsed": false
   }
  },
  {
   "cell_type": "code",
   "execution_count": 146,
   "outputs": [
    {
     "name": "stdout",
     "output_type": "stream",
     "text": [
      "Columns for the regression-based models: ['credit_age_months', 'term_rate_interaction_reg', 'income_log_reg', 'delinq_2yrs_reg', 'pub_rec', 'term_normalized_reg', 'revol_util_reg', 'recent_acc_ratio', 'revol_bal_final', 'annual_inc_final', 'sub_grade_encoded', 'interest_burden_pct', 'payment_to_income', 'has_hardship', 'has_derogatory', 'fico_average', 'mths_since_last_record_filled', 'mortgage_ratio', 'active_acc_ratio', 'dti_log_reg', 'inst_to_revol_ratio', 'int_rate', 'recent_inquiry_intensity', 'income_to_loan_reg', 'dti_normalized_reg', 'was_late_before_hardship', 'hardship_dpd_filled', 'emp_length_clean_reg', 'grade_encoded', 'loan_status_binary', 'delinq_severity_reg', 'purpose_risk_score', 'home_ownership_ordinal', 'inq_to_open_acc_ratio', 'loan_to_installment_ratio', 'delinq_weight', 'dti_final']\n",
      "Columns for the tree-based models: ['high_payment_burden', 'credit_age_months', 'delinq_2yrs_tree', 'pub_rec', 'recent_acc_ratio', 'loan_amount_band', 'revol_bal_final', 'annual_inc_final', 'sub_grade_encoded', 'interest_burden_pct', 'payment_to_income', 'has_hardship', 'purpose_risk_category', 'has_derogatory', 'purpose_high_risk', 'recent_delinq_bin', 'is_high_income_tree', 'debt_composition_type', 'fico_average', 'has_recent_delinq_tree', 'mths_since_last_record_filled', 'mortgage_ratio', 'rapid_acc_acquisition', 'active_acc_ratio', 'emp_length_clean_tree', 'purpose_other', 'fico_risk_band', 'inst_to_revol_ratio', 'is_high_dti_tree', 'int_rate', 'recent_inquiry_intensity', 'purpose_nan', 'revol_util_tree', 'was_late_before_hardship', 'hardship_dpd_filled', 'has_delinq_tree', 'grade_encoded', 'has_mortgage', 'loan_status_binary', 'purpose_risk_score', 'high_recent_inquiries', 'home_ownership_ordinal', 'dti_band_tree', 'inq_to_open_acc_ratio', 'term_tree', 'loan_to_installment_ratio', 'income_band_tree', 'delinquency_score', 'dti_final']\n",
      "Columns to drop ['annual_inc', 'mths_since_last_delinq', 'tax_liens', 'revol_bal', 'open_acc_6m', 'term', 'acc_open_past_24mths', 'mths_since_recent_bc_dlq', 'revol_bal_joint', 'dti', 'open_il_12m', 'home_ownership', 'fico_range_high', 'open_act_il', 'mths_since_recent_revol_delinq', 'mths_since_last_record', 'emp_length_clean', 'tot_coll_amt', 'dti_joint', 'total_bal_il', 'purpose', 'earliest_cr_line_final', 'hardship_dpd', 'earliest_cr_line', 'acc_now_delinq', 'inq_last_6mths', 'issue_d', 'hardship_loan_status', 'emp_length', 'purpose_cleaned', 'fico_range_low', 'sec_app_earliest_cr_line', 'inq_last_12m', 'grade', 'hardship_flag', 'total_acc', 'annual_inc_joint', 'mort_acc', 'funded_amnt', 'open_acc', 'sub_grade', 'delinq_2yrs', 'total_payments']\n"
     ]
    }
   ],
   "source": [
    "cols_for_reg = list(set(cols_for_reg + [\"revol_util_reg\"]))\n",
    "\n",
    "cols_for_tree = list(set(cols_for_tree + [\"revol_util_tree\"]))\n",
    "\n",
    "# drop_cols = list(set(drop_cols + [\"revol_util\"]))\n",
    "\n",
    "print(f\"Columns for the regression-based models: {cols_for_reg}\")\n",
    "print(f\"Columns for the tree-based models: {cols_for_tree}\")\n",
    "print(f\"Columns to drop {drop_cols}\")"
   ],
   "metadata": {
    "collapsed": false,
    "ExecuteTime": {
     "end_time": "2025-04-02T16:35:27.174499Z",
     "start_time": "2025-04-02T16:35:27.153077Z"
    }
   }
  },
  {
   "cell_type": "markdown",
   "source": [
    "### Engineering the `revol_util` field with `create_utilization_model_features()` in `/feature_engineering/nodes.py`\n",
    "\n",
    "**Functionality:**\n",
    "Creates model-specific credit utilization features using binning and normalization techniques.\n",
    "\n",
    "**Inputs:**\n",
    "- `revol_util` — percentage of revolving credit used (e.g., 45.2)\n",
    "\n",
    "**Outputs:**\n",
    "- `util_band_tree` — quantile-binned utilization for **tree-based models**\n",
    "- `is_high_util_tree` — binary flag for high utilization (above median) — **tree only**\n",
    "- `util_normalized_reg` — scaled utilization from 0–1 — **regression only**\n",
    "- `util_buckets_reg` — binned utilization buckets for regression modeling — **regression only**\n",
    "\n",
    "**New field(s):**\n",
    "- `util_band_tree` — ✔️ Tree models\n",
    "- `is_high_util_tree` — ✔️ Tree models\n",
    "- `util_normalized_reg` — ✔️ Regression models\n",
    "- `util_buckets_reg` — ✔️ Regression models\n",
    "\n",
    "**Drop field(s):**\n",
    "- `revol_util` — ✅ Can be dropped after feature creation (used to derive all outputs)\n",
    "\n",
    "**Notes:**\n",
    "- `qcut()` is used to create quantile-based bins for `util_band_tree`, ensuring balanced splits\n",
    "- `pd.cut()` creates fixed utilization brackets (e.g., 0–20%, 20–40%, …) for regression modeling\n",
    "- This function complements `create_revol_util_features()`, which handled missing value imputation\n"
   ],
   "metadata": {
    "collapsed": false
   }
  },
  {
   "cell_type": "code",
   "execution_count": 147,
   "outputs": [
    {
     "name": "stdout",
     "output_type": "stream",
     "text": [
      "Columns for the regression-based models: ['util_normalized_reg', 'credit_age_months', 'term_rate_interaction_reg', 'income_log_reg', 'util_buckets_reg', 'delinq_2yrs_reg', 'pub_rec', 'term_normalized_reg', 'revol_util_reg', 'recent_acc_ratio', 'revol_bal_final', 'annual_inc_final', 'sub_grade_encoded', 'interest_burden_pct', 'payment_to_income', 'has_hardship', 'has_derogatory', 'fico_average', 'mths_since_last_record_filled', 'mortgage_ratio', 'active_acc_ratio', 'dti_log_reg', 'inst_to_revol_ratio', 'int_rate', 'recent_inquiry_intensity', 'income_to_loan_reg', 'dti_normalized_reg', 'was_late_before_hardship', 'hardship_dpd_filled', 'emp_length_clean_reg', 'grade_encoded', 'loan_status_binary', 'delinq_severity_reg', 'purpose_risk_score', 'home_ownership_ordinal', 'inq_to_open_acc_ratio', 'loan_to_installment_ratio', 'delinq_weight', 'dti_final']\n",
      "Columns for the tree-based models: ['high_payment_burden', 'credit_age_months', 'delinq_2yrs_tree', 'is_high_util_tree', 'util_band_tree', 'pub_rec', 'recent_acc_ratio', 'loan_amount_band', 'revol_bal_final', 'annual_inc_final', 'sub_grade_encoded', 'interest_burden_pct', 'payment_to_income', 'has_hardship', 'purpose_risk_category', 'has_derogatory', 'purpose_high_risk', 'recent_delinq_bin', 'is_high_income_tree', 'debt_composition_type', 'fico_average', 'has_recent_delinq_tree', 'mths_since_last_record_filled', 'mortgage_ratio', 'rapid_acc_acquisition', 'active_acc_ratio', 'emp_length_clean_tree', 'purpose_other', 'fico_risk_band', 'inst_to_revol_ratio', 'is_high_dti_tree', 'int_rate', 'recent_inquiry_intensity', 'purpose_nan', 'revol_util_tree', 'was_late_before_hardship', 'hardship_dpd_filled', 'has_delinq_tree', 'grade_encoded', 'has_mortgage', 'loan_status_binary', 'purpose_risk_score', 'high_recent_inquiries', 'home_ownership_ordinal', 'dti_band_tree', 'inq_to_open_acc_ratio', 'term_tree', 'loan_to_installment_ratio', 'income_band_tree', 'delinquency_score', 'dti_final']\n",
      "Columns to drop ['annual_inc', 'mths_since_last_delinq', 'tax_liens', 'revol_bal', 'open_acc_6m', 'term', 'acc_open_past_24mths', 'mths_since_recent_bc_dlq', 'revol_bal_joint', 'dti', 'open_il_12m', 'home_ownership', 'revol_util', 'fico_range_high', 'open_act_il', 'mths_since_recent_revol_delinq', 'mths_since_last_record', 'emp_length_clean', 'tot_coll_amt', 'dti_joint', 'total_bal_il', 'purpose', 'earliest_cr_line_final', 'hardship_dpd', 'earliest_cr_line', 'inq_last_6mths', 'issue_d', 'hardship_loan_status', 'emp_length', 'purpose_cleaned', 'fico_range_low', 'sec_app_earliest_cr_line', 'inq_last_12m', 'grade', 'hardship_flag', 'total_acc', 'sub_grade', 'annual_inc_joint', 'mort_acc', 'funded_amnt', 'open_acc', 'acc_now_delinq', 'delinq_2yrs', 'total_payments']\n"
     ]
    }
   ],
   "source": [
    "cols_for_reg = list(set(cols_for_reg + [\"util_normalized_reg\", \"util_buckets_reg\"]))\n",
    "\n",
    "cols_for_tree = list(set(cols_for_tree + [\"util_band_tree\", \"is_high_util_tree\"]))\n",
    "\n",
    "drop_cols = list(set(drop_cols + [\"revol_util\"]))\n",
    "\n",
    "print(f\"Columns for the regression-based models: {cols_for_reg}\")\n",
    "print(f\"Columns for the tree-based models: {cols_for_tree}\")\n",
    "print(f\"Columns to drop {drop_cols}\")"
   ],
   "metadata": {
    "collapsed": false,
    "ExecuteTime": {
     "end_time": "2025-04-02T16:35:27.174580Z",
     "start_time": "2025-04-02T16:35:27.153155Z"
    }
   }
  },
  {
   "cell_type": "markdown",
   "source": [
    "### Engineering the `initial_list_status` field with `create_initial_list_status_flag()` in `/feature_engineering/nodes.py`\n",
    "\n",
    "**Functionality:**\n",
    "Encodes the `initial_list_status` field into a binary flag to represent whether a loan was initially listed as \"whole\" (`'w'`).\n",
    "\n",
    "**Input:**\n",
    "- `initial_list_status` — categorical field with values like `'w'` (whole) or `'f'` (fractional)\n",
    "\n",
    "**Output:**\n",
    "- `initial_list_status_flag` — binary flag: 1 if `'w'`, 0 otherwise\n",
    "\n",
    "**New field(s):**\n",
    "- `initial_list_status_flag` — ✔️ Used in **both tree-based and regression** models\n",
    "\n",
    "**Drop field(s):**\n",
    "- `initial_list_status` — ✅ Can be dropped after feature creation\n",
    "\n",
    "**Notes:**\n",
    "- This feature helps capture listing strategy which may correlate with risk\n",
    "- Default behavior does not drop the original column, but it’s safe to do so in downstream cleanup\n"
   ],
   "metadata": {
    "collapsed": false
   }
  },
  {
   "cell_type": "code",
   "execution_count": 148,
   "outputs": [
    {
     "name": "stdout",
     "output_type": "stream",
     "text": [
      "Columns for the regression-based models: ['util_normalized_reg', 'credit_age_months', 'term_rate_interaction_reg', 'income_log_reg', 'util_buckets_reg', 'delinq_2yrs_reg', 'pub_rec', 'term_normalized_reg', 'revol_util_reg', 'recent_acc_ratio', 'revol_bal_final', 'annual_inc_final', 'sub_grade_encoded', 'interest_burden_pct', 'payment_to_income', 'has_hardship', 'has_derogatory', 'fico_average', 'mths_since_last_record_filled', 'mortgage_ratio', 'active_acc_ratio', 'dti_log_reg', 'inst_to_revol_ratio', 'int_rate', 'recent_inquiry_intensity', 'income_to_loan_reg', 'dti_normalized_reg', 'was_late_before_hardship', 'hardship_dpd_filled', 'emp_length_clean_reg', 'grade_encoded', 'loan_status_binary', 'delinq_severity_reg', 'purpose_risk_score', 'home_ownership_ordinal', 'initial_list_status_flag', 'inq_to_open_acc_ratio', 'loan_to_installment_ratio', 'delinq_weight', 'dti_final']\n",
      "Columns for the tree-based models: ['high_payment_burden', 'credit_age_months', 'delinq_2yrs_tree', 'is_high_util_tree', 'util_band_tree', 'pub_rec', 'recent_acc_ratio', 'loan_amount_band', 'revol_bal_final', 'annual_inc_final', 'sub_grade_encoded', 'interest_burden_pct', 'payment_to_income', 'has_hardship', 'purpose_risk_category', 'has_derogatory', 'purpose_high_risk', 'recent_delinq_bin', 'is_high_income_tree', 'debt_composition_type', 'fico_average', 'has_recent_delinq_tree', 'mths_since_last_record_filled', 'mortgage_ratio', 'rapid_acc_acquisition', 'active_acc_ratio', 'emp_length_clean_tree', 'purpose_other', 'fico_risk_band', 'inst_to_revol_ratio', 'is_high_dti_tree', 'int_rate', 'recent_inquiry_intensity', 'purpose_nan', 'revol_util_tree', 'was_late_before_hardship', 'hardship_dpd_filled', 'has_delinq_tree', 'grade_encoded', 'has_mortgage', 'loan_status_binary', 'purpose_risk_score', 'high_recent_inquiries', 'home_ownership_ordinal', 'dti_band_tree', 'initial_list_status_flag', 'inq_to_open_acc_ratio', 'term_tree', 'loan_to_installment_ratio', 'income_band_tree', 'delinquency_score', 'dti_final']\n",
      "Columns to drop ['annual_inc', 'mths_since_last_delinq', 'tax_liens', 'revol_bal', 'open_acc_6m', 'term', 'acc_open_past_24mths', 'mths_since_recent_bc_dlq', 'revol_bal_joint', 'initial_list_status', 'dti', 'open_il_12m', 'revol_util', 'home_ownership', 'fico_range_high', 'open_act_il', 'mths_since_recent_revol_delinq', 'mths_since_last_record', 'emp_length_clean', 'tot_coll_amt', 'dti_joint', 'total_bal_il', 'is_joint_app', 'purpose', 'earliest_cr_line_final', 'hardship_dpd', 'earliest_cr_line', 'acc_now_delinq', 'inq_last_6mths', 'issue_d', 'hardship_loan_status', 'emp_length', 'purpose_cleaned', 'fico_range_low', 'sec_app_earliest_cr_line', 'inq_last_12m', 'grade', 'hardship_flag', 'total_acc', 'annual_inc_joint', 'mort_acc', 'funded_amnt', 'open_acc', 'sub_grade', 'delinq_2yrs', 'total_payments']\n"
     ]
    }
   ],
   "source": [
    "cols_for_reg = list(set(cols_for_reg + [\"initial_list_status_flag\"]))\n",
    "\n",
    "cols_for_tree = list(set(cols_for_tree + [\"initial_list_status_flag\"]))\n",
    "\n",
    "drop_cols = list(set(drop_cols + [\"initial_list_status\", \"is_joint_app\"]))\n",
    "\n",
    "print(f\"Columns for the regression-based models: {cols_for_reg}\")\n",
    "print(f\"Columns for the tree-based models: {cols_for_tree}\")\n",
    "print(f\"Columns to drop {drop_cols}\")"
   ],
   "metadata": {
    "collapsed": false,
    "ExecuteTime": {
     "end_time": "2025-04-02T16:35:27.175456Z",
     "start_time": "2025-04-02T16:35:27.157098Z"
    }
   }
  },
  {
   "cell_type": "markdown",
   "source": [
    "### Engineering the `mths_since_last_major_derog` field with `create_major_derog_features()` in `/feature_engineering/nodes.py`\n",
    "\n",
    "**Functionality:**\n",
    "Creates model-specific features from the \"months since last major derogatory\" field.\n",
    "This feature captures recent severe negative credit events and transforms it into a numerical risk signal.\n",
    "\n",
    "**Inputs:**\n",
    "- `mths_since_last_major_derog` — numeric or NaN if no record of major derogatory events.\n",
    "\n",
    "**Outputs:**\n",
    "- `mths_since_last_major_derog_filled` — missing values filled with 999 (interpreted as \"no derog\")\n",
    "- `recent_major_derog_flag` — binary flag for events within last 24 months — ✔️ Tree models\n",
    "- `major_derog_score` — inverse score where recent events carry more weight — ✔️ Regression models\n",
    "\n",
    "**New field(s):**\n",
    "- `mths_since_last_major_derog_filled` — Intermediate field (used in both model types)\n",
    "- `recent_major_derog_flag` — ✔️ Tree models\n",
    "- `major_derog_score` — ✔️ Regression models\n",
    "\n",
    "**Drop field(s):**\n",
    "- `mths_since_last_major_derog` — ✅ Can be dropped after transformation\n",
    "\n",
    "**Notes:**\n",
    "- `major_derog_score` becomes large when the event is recent (e.g., 1/2 = 0.5 for 2 months ago)\n",
    "- Fills `NaN` with `999` to avoid distorting the score — interpreted as no derogatory history\n",
    "- Useful in both tree-based and regression models with different downstream transformations\n"
   ],
   "metadata": {
    "collapsed": false
   }
  },
  {
   "cell_type": "code",
   "execution_count": 149,
   "outputs": [
    {
     "name": "stdout",
     "output_type": "stream",
     "text": [
      "Columns for the regression-based models: ['util_normalized_reg', 'major_derog_score', 'credit_age_months', 'term_rate_interaction_reg', 'income_log_reg', 'util_buckets_reg', 'delinq_2yrs_reg', 'pub_rec', 'term_normalized_reg', 'revol_util_reg', 'recent_acc_ratio', 'revol_bal_final', 'annual_inc_final', 'sub_grade_encoded', 'interest_burden_pct', 'payment_to_income', 'has_hardship', 'has_derogatory', 'fico_average', 'mths_since_last_record_filled', 'mortgage_ratio', 'active_acc_ratio', 'dti_log_reg', 'inst_to_revol_ratio', 'int_rate', 'recent_inquiry_intensity', 'mths_since_last_major_derog_filled', 'income_to_loan_reg', 'dti_normalized_reg', 'was_late_before_hardship', 'hardship_dpd_filled', 'emp_length_clean_reg', 'grade_encoded', 'loan_status_binary', 'delinq_severity_reg', 'purpose_risk_score', 'home_ownership_ordinal', 'initial_list_status_flag', 'inq_to_open_acc_ratio', 'loan_to_installment_ratio', 'delinq_weight', 'dti_final']\n",
      "Columns for the tree-based models: ['high_payment_burden', 'credit_age_months', 'delinq_2yrs_tree', 'is_high_util_tree', 'util_band_tree', 'pub_rec', 'recent_acc_ratio', 'loan_amount_band', 'revol_bal_final', 'annual_inc_final', 'sub_grade_encoded', 'interest_burden_pct', 'payment_to_income', 'has_hardship', 'purpose_risk_category', 'has_derogatory', 'purpose_high_risk', 'recent_delinq_bin', 'is_high_income_tree', 'debt_composition_type', 'fico_average', 'has_recent_delinq_tree', 'mths_since_last_record_filled', 'mortgage_ratio', 'rapid_acc_acquisition', 'active_acc_ratio', 'emp_length_clean_tree', 'purpose_other', 'fico_risk_band', 'recent_major_derog_flag', 'inst_to_revol_ratio', 'is_high_dti_tree', 'int_rate', 'recent_inquiry_intensity', 'purpose_nan', 'revol_util_tree', 'mths_since_last_major_derog_filled', 'was_late_before_hardship', 'hardship_dpd_filled', 'has_delinq_tree', 'grade_encoded', 'has_mortgage', 'loan_status_binary', 'purpose_risk_score', 'high_recent_inquiries', 'home_ownership_ordinal', 'dti_band_tree', 'initial_list_status_flag', 'inq_to_open_acc_ratio', 'term_tree', 'loan_to_installment_ratio', 'income_band_tree', 'delinquency_score', 'dti_final']\n",
      "Columns to drop ['annual_inc', 'mths_since_last_delinq', 'tax_liens', 'revol_bal', 'open_acc_6m', 'term', 'acc_open_past_24mths', 'mths_since_recent_bc_dlq', 'revol_bal_joint', 'initial_list_status', 'dti', 'home_ownership', 'open_il_12m', 'revol_util', 'fico_range_high', 'open_act_il', 'mths_since_recent_revol_delinq', 'mths_since_last_record', 'emp_length_clean', 'tot_coll_amt', 'dti_joint', 'total_bal_il', 'is_joint_app', 'purpose', 'earliest_cr_line_final', 'hardship_dpd', 'earliest_cr_line', 'inq_last_6mths', 'issue_d', 'hardship_loan_status', 'emp_length', 'purpose_cleaned', 'fico_range_low', 'sec_app_earliest_cr_line', 'inq_last_12m', 'grade', 'hardship_flag', 'total_acc', 'sub_grade', 'annual_inc_joint', 'mort_acc', 'funded_amnt', 'open_acc', 'acc_now_delinq', 'delinq_2yrs', 'total_payments', 'mths_since_last_major_derog']\n"
     ]
    }
   ],
   "source": [
    "cols_for_reg = list(set(cols_for_reg + [\"major_derog_score\", \"mths_since_last_major_derog_filled\"]))\n",
    "\n",
    "cols_for_tree = list(set(cols_for_tree + [\"recent_major_derog_flag\", \"mths_since_last_major_derog_filled\"]))\n",
    "\n",
    "drop_cols = list(set(drop_cols + [\"mths_since_last_major_derog\"]))\n",
    "\n",
    "print(f\"Columns for the regression-based models: {cols_for_reg}\")\n",
    "print(f\"Columns for the tree-based models: {cols_for_tree}\")\n",
    "print(f\"Columns to drop {drop_cols}\")"
   ],
   "metadata": {
    "collapsed": false,
    "ExecuteTime": {
     "end_time": "2025-04-02T16:35:27.660585Z",
     "start_time": "2025-04-02T16:35:27.161463Z"
    }
   }
  },
  {
   "cell_type": "markdown",
   "source": [
    "# %% md\n",
    "### Engineering the `verification_status` fields with `create_joint_verification_feature()` in `/feature_engineering/nodes.py`\n",
    "\n",
    "**Functionality:**\n",
    "Creates a unified verification status column `verification_status_final` that accounts for both individual and joint loan applications.\n",
    "\n",
    "**Inputs:**\n",
    "- `verification_status` — categorical field for individual application (e.g., \"verified\", \"not verified\")\n",
    "- `verification_status_joint` — corresponding field for joint applicants\n",
    "- `is_joint_app` — binary flag indicating whether application is joint (1) or individual (0)\n",
    "\n",
    "**Outputs:**\n",
    "- `verification_status_final` — merged status, using the joint status if the application is joint\n",
    "\n",
    "**New field(s):**\n",
    "- `verification_status_final` — used in both **tree-based** and **regression** models (if encoded later)\n",
    "\n",
    "**Drop field(s):**\n",
    "- `verification_status`, `verification_status_joint` — ✅ Can be dropped after generating `verification_status_final`\n",
    "\n",
    "**Notes:**\n",
    "- Ensures consistent handling of both joint and individual applications\n",
    "- Original fields are preserved for now but marked as removable\n"
   ],
   "metadata": {
    "collapsed": false
   }
  },
  {
   "cell_type": "code",
   "execution_count": 150,
   "outputs": [
    {
     "name": "stdout",
     "output_type": "stream",
     "text": [
      "Columns for the regression-based models: ['util_normalized_reg', 'major_derog_score', 'credit_age_months', 'term_rate_interaction_reg', 'income_log_reg', 'util_buckets_reg', 'delinq_2yrs_reg', 'pub_rec', 'term_normalized_reg', 'revol_util_reg', 'recent_acc_ratio', 'revol_bal_final', 'annual_inc_final', 'sub_grade_encoded', 'interest_burden_pct', 'payment_to_income', 'has_hardship', 'has_derogatory', 'fico_average', 'mths_since_last_record_filled', 'mortgage_ratio', 'active_acc_ratio', 'dti_log_reg', 'inst_to_revol_ratio', 'int_rate', 'recent_inquiry_intensity', 'mths_since_last_major_derog_filled', 'income_to_loan_reg', 'dti_normalized_reg', 'was_late_before_hardship', 'hardship_dpd_filled', 'emp_length_clean_reg', 'grade_encoded', 'loan_status_binary', 'delinq_severity_reg', 'purpose_risk_score', 'home_ownership_ordinal', 'initial_list_status_flag', 'verification_status_final', 'inq_to_open_acc_ratio', 'loan_to_installment_ratio', 'delinq_weight', 'dti_final']\n",
      "Columns for the tree-based models: ['high_payment_burden', 'credit_age_months', 'delinq_2yrs_tree', 'is_high_util_tree', 'util_band_tree', 'pub_rec', 'recent_acc_ratio', 'loan_amount_band', 'revol_bal_final', 'annual_inc_final', 'sub_grade_encoded', 'interest_burden_pct', 'payment_to_income', 'has_hardship', 'purpose_risk_category', 'has_derogatory', 'purpose_high_risk', 'recent_delinq_bin', 'is_high_income_tree', 'debt_composition_type', 'fico_average', 'has_recent_delinq_tree', 'mths_since_last_record_filled', 'mortgage_ratio', 'rapid_acc_acquisition', 'active_acc_ratio', 'emp_length_clean_tree', 'purpose_other', 'fico_risk_band', 'recent_major_derog_flag', 'inst_to_revol_ratio', 'is_high_dti_tree', 'int_rate', 'recent_inquiry_intensity', 'purpose_nan', 'revol_util_tree', 'mths_since_last_major_derog_filled', 'was_late_before_hardship', 'hardship_dpd_filled', 'has_delinq_tree', 'grade_encoded', 'has_mortgage', 'loan_status_binary', 'purpose_risk_score', 'high_recent_inquiries', 'home_ownership_ordinal', 'dti_band_tree', 'initial_list_status_flag', 'verification_status_final', 'inq_to_open_acc_ratio', 'term_tree', 'loan_to_installment_ratio', 'income_band_tree', 'delinquency_score', 'dti_final']\n",
      "Columns to drop ['annual_inc', 'mths_since_last_delinq', 'tax_liens', 'revol_bal', 'open_acc_6m', 'term', 'acc_open_past_24mths', 'mths_since_recent_bc_dlq', 'revol_bal_joint', 'initial_list_status', 'dti', 'open_il_12m', 'home_ownership', 'revol_util', 'fico_range_high', 'open_act_il', 'mths_since_recent_revol_delinq', 'mths_since_last_record', 'emp_length_clean', 'tot_coll_amt', 'dti_joint', 'total_bal_il', 'is_joint_app', 'purpose', 'earliest_cr_line_final', 'hardship_dpd', 'earliest_cr_line', 'acc_now_delinq', 'inq_last_6mths', 'issue_d', 'hardship_loan_status', 'emp_length', 'purpose_cleaned', 'fico_range_low', 'sec_app_earliest_cr_line', 'inq_last_12m', 'verification_status', 'grade', 'hardship_flag', 'total_acc', 'annual_inc_joint', 'mort_acc', 'funded_amnt', 'open_acc', 'sub_grade', 'delinq_2yrs', 'total_payments', 'verification_status_joint', 'mths_since_last_major_derog']\n"
     ]
    }
   ],
   "source": [
    "cols_for_reg = list(set(cols_for_reg + [\"verification_status_final\"]))\n",
    "\n",
    "cols_for_tree = list(set(cols_for_tree + [\"verification_status_final\"]))\n",
    "\n",
    "drop_cols = list(set(drop_cols + [\"verification_status\", \"verification_status_joint\"]))\n",
    "\n",
    "print(f\"Columns for the regression-based models: {cols_for_reg}\")\n",
    "print(f\"Columns for the tree-based models: {cols_for_tree}\")\n",
    "print(f\"Columns to drop {drop_cols}\")"
   ],
   "metadata": {
    "collapsed": false,
    "ExecuteTime": {
     "end_time": "2025-04-02T16:35:27.675558Z",
     "start_time": "2025-04-02T16:35:27.166126Z"
    }
   }
  },
  {
   "cell_type": "markdown",
   "source": [
    "### Engineering total current balance features with `process_tot_cur_bal_features()` in `/feature_engineering/nodes.py`\n",
    "\n",
    "**Functionality:**\n",
    "Generates normalized and interpretable features from the `tot_cur_bal` (total current balance) field for both regression and tree-based models.\n",
    "\n",
    "**Inputs:**\n",
    "- `tot_cur_bal` — total current balance across all accounts\n",
    "- `annual_inc` — annual income\n",
    "- `loan_amnt` — loan amount\n",
    "\n",
    "**Outputs:**\n",
    "- `log_tot_cur_bal` — log-transformed total current balance (used in regression)\n",
    "- `cur_bal_to_income` — ratio of current balance to annual income (regression + tree)\n",
    "- `cur_bal_to_loan` — ratio of current balance to loan amount (regression + tree)\n",
    "- `tot_cur_bal_missing` — binary indicator for missing `tot_cur_bal` values (tree only)\n",
    "\n",
    "**New field(s):**\n",
    "- `log_tot_cur_bal` — **regression models**\n",
    "- `cur_bal_to_income` — **regression and tree models**\n",
    "- `cur_bal_to_loan` — **regression and tree models**\n",
    "- `tot_cur_bal_missing` — **tree models only**\n",
    "\n",
    "**Drop field(s):**\n",
    "- `tot_cur_bal` — ✅ Can be dropped after these derived features are created, if not reused elsewhere\n",
    "\n",
    "**Notes:**\n",
    "- All division operations are safely handled with `clip` and `fillna`\n",
    "- Log transformation helps normalize highly skewed distributions (for regression models)\n",
    "- Tree models benefit from the missingness indicator to capture structural nulls\n"
   ],
   "metadata": {
    "collapsed": false
   }
  },
  {
   "cell_type": "code",
   "execution_count": 151,
   "outputs": [
    {
     "name": "stdout",
     "output_type": "stream",
     "text": [
      "Columns for the regression-based models: ['util_normalized_reg', 'major_derog_score', 'credit_age_months', 'term_rate_interaction_reg', 'income_log_reg', 'util_buckets_reg', 'delinq_2yrs_reg', 'pub_rec', 'term_normalized_reg', 'revol_util_reg', 'recent_acc_ratio', 'revol_bal_final', 'annual_inc_final', 'sub_grade_encoded', 'cur_bal_to_income', 'interest_burden_pct', 'payment_to_income', 'has_hardship', 'has_derogatory', 'fico_average', 'mths_since_last_record_filled', 'mortgage_ratio', 'active_acc_ratio', 'dti_log_reg', 'inst_to_revol_ratio', 'int_rate', 'recent_inquiry_intensity', 'mths_since_last_major_derog_filled', 'income_to_loan_reg', 'dti_normalized_reg', 'was_late_before_hardship', 'hardship_dpd_filled', 'emp_length_clean_reg', 'grade_encoded', 'loan_status_binary', 'delinq_severity_reg', 'purpose_risk_score', 'home_ownership_ordinal', 'initial_list_status_flag', 'verification_status_final', 'inq_to_open_acc_ratio', 'loan_to_installment_ratio', 'delinq_weight', 'log_tot_cur_bal', 'cur_bal_to_loan', 'dti_final']\n",
      "Columns for the tree-based models: ['high_payment_burden', 'credit_age_months', 'delinq_2yrs_tree', 'is_high_util_tree', 'util_band_tree', 'pub_rec', 'recent_acc_ratio', 'loan_amount_band', 'revol_bal_final', 'annual_inc_final', 'sub_grade_encoded', 'cur_bal_to_income', 'interest_burden_pct', 'payment_to_income', 'has_hardship', 'purpose_risk_category', 'has_derogatory', 'purpose_high_risk', 'recent_delinq_bin', 'is_high_income_tree', 'debt_composition_type', 'fico_average', 'has_recent_delinq_tree', 'mths_since_last_record_filled', 'mortgage_ratio', 'rapid_acc_acquisition', 'active_acc_ratio', 'emp_length_clean_tree', 'purpose_other', 'fico_risk_band', 'recent_major_derog_flag', 'inst_to_revol_ratio', 'is_high_dti_tree', 'tot_cur_bal_missing', 'int_rate', 'recent_inquiry_intensity', 'purpose_nan', 'revol_util_tree', 'mths_since_last_major_derog_filled', 'was_late_before_hardship', 'hardship_dpd_filled', 'has_delinq_tree', 'grade_encoded', 'has_mortgage', 'loan_status_binary', 'purpose_risk_score', 'high_recent_inquiries', 'home_ownership_ordinal', 'dti_band_tree', 'initial_list_status_flag', 'verification_status_final', 'inq_to_open_acc_ratio', 'term_tree', 'loan_to_installment_ratio', 'income_band_tree', 'delinquency_score', 'cur_bal_to_loan', 'dti_final']\n",
      "Columns to drop ['annual_inc', 'mths_since_last_delinq', 'tax_liens', 'revol_bal', 'open_acc_6m', 'installment', 'term', 'acc_open_past_24mths', 'mths_since_recent_bc_dlq', 'revol_bal_joint', 'initial_list_status', 'dti', 'open_il_12m', 'revol_util', 'home_ownership', 'fico_range_high', 'open_act_il', 'mths_since_recent_revol_delinq', 'mths_since_last_record', 'emp_length_clean', 'tot_coll_amt', 'dti_joint', 'total_bal_il', 'is_joint_app', 'purpose', 'earliest_cr_line_final', 'hardship_dpd', 'earliest_cr_line', 'inq_last_6mths', 'issue_d', 'hardship_loan_status', 'emp_length', 'purpose_cleaned', 'fico_range_low', 'sec_app_earliest_cr_line', 'inq_last_12m', 'verification_status', 'grade', 'hardship_flag', 'loan_amnt', 'total_acc', 'sub_grade', 'annual_inc_joint', 'mort_acc', 'funded_amnt', 'open_acc', 'acc_now_delinq', 'delinq_2yrs', 'total_payments', 'verification_status_joint', 'mths_since_last_major_derog']\n"
     ]
    }
   ],
   "source": [
    "cols_for_reg = list(set(cols_for_reg + [\"log_tot_cur_bal\", \"cur_bal_to_income\", \"cur_bal_to_loan\"]))\n",
    "\n",
    "cols_for_tree = list(set(cols_for_tree + [\"cur_bal_to_income\", \"cur_bal_to_loan\", \"tot_cur_bal_missing\"]))\n",
    "\n",
    "drop_cols = list(set(drop_cols + [\"loan_amnt\", \"installment\"]))\n",
    "\n",
    "print(f\"Columns for the regression-based models: {cols_for_reg}\")\n",
    "print(f\"Columns for the tree-based models: {cols_for_tree}\")\n",
    "print(f\"Columns to drop {drop_cols}\")"
   ],
   "metadata": {
    "collapsed": false,
    "ExecuteTime": {
     "end_time": "2025-04-02T16:35:27.675807Z",
     "start_time": "2025-04-02T16:35:27.169090Z"
    }
   }
  },
  {
   "cell_type": "markdown",
   "source": [
    "\n",
    "### Engineering revolving balance features with `process_avg_cur_bal()` in `/feature_engineering/nodes.py`\n",
    "\n",
    "**Functionality:**\n",
    "Processes and transforms the `avg_cur_bal` (average current balance) column to support tree-based and regression models.\n",
    "\n",
    "**Inputs:**\n",
    "- `avg_cur_bal` — average current balance across all accounts\n",
    "- `open_acc` — number of open accounts (optional, for ratio)\n",
    "\n",
    "**Outputs:**\n",
    "- `avg_cur_bal_log` — log-transformed balance (regression)\n",
    "- `avg_cur_bal_missing` — binary indicator for missingness (tree)\n",
    "- `avg_bal_per_acc` — ratio of average balance per open account (tree + regression)\n",
    "\n",
    "**New field(s):**\n",
    "- `avg_cur_bal_log` — ✔️ **regression models**\n",
    "- `avg_cur_bal_missing` — ✔️ **tree-based models**\n",
    "- `avg_bal_per_acc` — ✔️ **used in both model types** if `open_acc` is available\n",
    "\n",
    "**Drop field(s):**\n",
    "- `avg_cur_bal` — ✅ **Safe to drop** after transformation\n",
    "- `open_acc` — ❌ Only if unused elsewhere\n",
    "\n",
    "**Notes:**\n",
    "- Uses `log1p()` for numeric stability and skew reduction\n",
    "- Missing values handled by creating explicit indicator (`avg_cur_bal_missing`)\n",
    "- Ratio `avg_bal_per_acc` can signal account-level exposure or ris"
   ],
   "metadata": {
    "collapsed": false
   }
  },
  {
   "cell_type": "code",
   "execution_count": 152,
   "outputs": [
    {
     "name": "stdout",
     "output_type": "stream",
     "text": [
      "Columns for the regression-based models: ['util_normalized_reg', 'major_derog_score', 'credit_age_months', 'avg_bal_per_acc', 'term_rate_interaction_reg', 'income_log_reg', 'util_buckets_reg', 'delinq_2yrs_reg', 'pub_rec', 'term_normalized_reg', 'revol_util_reg', 'recent_acc_ratio', 'revol_bal_final', 'annual_inc_final', 'sub_grade_encoded', 'cur_bal_to_income', 'interest_burden_pct', 'payment_to_income', 'has_hardship', 'has_derogatory', 'fico_average', 'mths_since_last_record_filled', 'mortgage_ratio', 'active_acc_ratio', 'avg_cur_bal_log', 'dti_log_reg', 'inst_to_revol_ratio', 'int_rate', 'recent_inquiry_intensity', 'mths_since_last_major_derog_filled', 'income_to_loan_reg', 'dti_normalized_reg', 'was_late_before_hardship', 'hardship_dpd_filled', 'emp_length_clean_reg', 'grade_encoded', 'loan_status_binary', 'delinq_severity_reg', 'purpose_risk_score', 'home_ownership_ordinal', 'initial_list_status_flag', 'verification_status_final', 'inq_to_open_acc_ratio', 'loan_to_installment_ratio', 'delinq_weight', 'log_tot_cur_bal', 'cur_bal_to_loan', 'dti_final']\n",
      "Columns for the tree-based models: ['high_payment_burden', 'credit_age_months', 'delinq_2yrs_tree', 'avg_bal_per_acc', 'is_high_util_tree', 'util_band_tree', 'pub_rec', 'recent_acc_ratio', 'loan_amount_band', 'revol_bal_final', 'annual_inc_final', 'sub_grade_encoded', 'cur_bal_to_income', 'interest_burden_pct', 'payment_to_income', 'has_hardship', 'purpose_risk_category', 'has_derogatory', 'purpose_high_risk', 'recent_delinq_bin', 'is_high_income_tree', 'debt_composition_type', 'fico_average', 'has_recent_delinq_tree', 'mths_since_last_record_filled', 'mortgage_ratio', 'rapid_acc_acquisition', 'active_acc_ratio', 'emp_length_clean_tree', 'purpose_other', 'fico_risk_band', 'recent_major_derog_flag', 'inst_to_revol_ratio', 'is_high_dti_tree', 'tot_cur_bal_missing', 'int_rate', 'recent_inquiry_intensity', 'purpose_nan', 'revol_util_tree', 'mths_since_last_major_derog_filled', 'was_late_before_hardship', 'hardship_dpd_filled', 'has_delinq_tree', 'grade_encoded', 'has_mortgage', 'loan_status_binary', 'purpose_risk_score', 'high_recent_inquiries', 'home_ownership_ordinal', 'dti_band_tree', 'initial_list_status_flag', 'verification_status_final', 'inq_to_open_acc_ratio', 'term_tree', 'loan_to_installment_ratio', 'income_band_tree', 'delinquency_score', 'avg_cur_bal_missing', 'cur_bal_to_loan', 'dti_final']\n",
      "Columns to drop ['annual_inc', 'mths_since_last_delinq', 'tax_liens', 'revol_bal', 'open_acc_6m', 'term', 'acc_open_past_24mths', 'mths_since_recent_bc_dlq', 'revol_bal_joint', 'initial_list_status', 'dti', 'home_ownership', 'open_il_12m', 'revol_util', 'fico_range_high', 'open_act_il', 'mths_since_recent_revol_delinq', 'mths_since_last_record', 'emp_length_clean', 'tot_coll_amt', 'dti_joint', 'total_bal_il', 'is_joint_app', 'purpose', 'delinq_2yrs', 'earliest_cr_line_final', 'hardship_dpd', 'earliest_cr_line', 'acc_now_delinq', 'inq_last_6mths', 'issue_d', 'hardship_loan_status', 'emp_length', 'purpose_cleaned', 'fico_range_low', 'sec_app_earliest_cr_line', 'inq_last_12m', 'verification_status', 'grade', 'hardship_flag', 'loan_amnt', 'avg_cur_bal', 'total_acc', 'annual_inc_joint', 'mort_acc', 'funded_amnt', 'open_acc', 'sub_grade', 'installment', 'total_payments', 'verification_status_joint', 'mths_since_last_major_derog']\n"
     ]
    }
   ],
   "source": [
    "cols_for_reg = list(set(cols_for_reg + [\"avg_cur_bal_log\", \"avg_bal_per_acc\"]))\n",
    "\n",
    "cols_for_tree = list(set(cols_for_tree + [\"avg_cur_bal_missing\", \"avg_bal_per_acc\"]))\n",
    "\n",
    "drop_cols = list(set(drop_cols + [\"loan_amnt\", \"installment\", \"avg_cur_bal\"]))\n",
    "\n",
    "print(f\"Columns for the regression-based models: {cols_for_reg}\")\n",
    "print(f\"Columns for the tree-based models: {cols_for_tree}\")\n",
    "print(f\"Columns to drop {drop_cols}\")"
   ],
   "metadata": {
    "collapsed": false,
    "ExecuteTime": {
     "end_time": "2025-04-02T16:35:27.676016Z",
     "start_time": "2025-04-02T16:35:27.175212Z"
    }
   }
  },
  {
   "cell_type": "markdown",
   "source": [
    "# %% md\n",
    "### Engineering recent inquiry features with `process_mths_since_recent_inq()` in `/feature_engineering/nodes.py`\n",
    "\n",
    "**Functionality:**\n",
    "Transforms the `mths_since_recent_inq` column into model-friendly features for both regression and tree-based models by capping, creating missingness flags, and binary indicators.\n",
    "\n",
    "**Inputs:**\n",
    "- `mths_since_recent_inq` — number of months since the most recent credit inquiry\n",
    "\n",
    "**Outputs:**\n",
    "- `mths_since_recent_inq_missing` — binary flag for missing values (tree)\n",
    "- `mths_since_recent_inq_capped` — capped numeric feature (regression)\n",
    "- `had_recent_inquiry` — binary indicator if inquiry was within last 6 months (tree)\n",
    "\n",
    "**New field(s):**\n",
    "- `mths_since_recent_inq_missing` — ✔️ **tree-based models**\n",
    "- `mths_since_recent_inq_capped` — ✔️ **regression models**\n",
    "- `had_recent_inquiry` — ✔️ **tree-based models**\n",
    "\n",
    "**Drop field(s):**\n",
    "- `mths_since_recent_inq` — ✅ **Can be dropped** after transformation\n",
    "\n",
    "**Notes:**\n",
    "- Capping at 60 months limits outlier influence for regression\n",
    "- Converts nulls to interpretable form for tree splits\n",
    "- Binary indicator provides clear signal of recent credit activity\n"
   ],
   "metadata": {
    "collapsed": false
   }
  },
  {
   "cell_type": "code",
   "execution_count": 153,
   "outputs": [
    {
     "name": "stdout",
     "output_type": "stream",
     "text": [
      "Columns for the regression-based models: ['util_normalized_reg', 'major_derog_score', 'credit_age_months', 'avg_bal_per_acc', 'term_rate_interaction_reg', 'income_log_reg', 'util_buckets_reg', 'delinq_2yrs_reg', 'pub_rec', 'term_normalized_reg', 'revol_util_reg', 'recent_acc_ratio', 'revol_bal_final', 'annual_inc_final', 'sub_grade_encoded', 'cur_bal_to_income', 'interest_burden_pct', 'payment_to_income', 'has_hardship', 'has_derogatory', 'fico_average', 'mths_since_last_record_filled', 'mortgage_ratio', 'mths_since_recent_inq_capped', 'active_acc_ratio', 'avg_cur_bal_log', 'dti_log_reg', 'inst_to_revol_ratio', 'int_rate', 'recent_inquiry_intensity', 'mths_since_last_major_derog_filled', 'income_to_loan_reg', 'dti_normalized_reg', 'was_late_before_hardship', 'hardship_dpd_filled', 'emp_length_clean_reg', 'grade_encoded', 'loan_status_binary', 'delinq_severity_reg', 'purpose_risk_score', 'home_ownership_ordinal', 'initial_list_status_flag', 'verification_status_final', 'inq_to_open_acc_ratio', 'loan_to_installment_ratio', 'delinq_weight', 'log_tot_cur_bal', 'cur_bal_to_loan', 'dti_final']\n",
      "Columns for the tree-based models: ['high_payment_burden', 'credit_age_months', 'delinq_2yrs_tree', 'avg_bal_per_acc', 'is_high_util_tree', 'util_band_tree', 'pub_rec', 'recent_acc_ratio', 'loan_amount_band', 'revol_bal_final', 'annual_inc_final', 'sub_grade_encoded', 'cur_bal_to_income', 'interest_burden_pct', 'payment_to_income', 'has_hardship', 'purpose_risk_category', 'has_derogatory', 'purpose_high_risk', 'recent_delinq_bin', 'is_high_income_tree', 'debt_composition_type', 'fico_average', 'has_recent_delinq_tree', 'mths_since_last_record_filled', 'mortgage_ratio', 'rapid_acc_acquisition', 'active_acc_ratio', 'emp_length_clean_tree', 'purpose_other', 'fico_risk_band', 'recent_major_derog_flag', 'inst_to_revol_ratio', 'is_high_dti_tree', 'tot_cur_bal_missing', 'int_rate', 'recent_inquiry_intensity', 'purpose_nan', 'revol_util_tree', 'mths_since_last_major_derog_filled', 'mths_since_recent_inq_missing', 'was_late_before_hardship', 'hardship_dpd_filled', 'has_delinq_tree', 'grade_encoded', 'has_mortgage', 'loan_status_binary', 'had_recent_inquiry', 'purpose_risk_score', 'high_recent_inquiries', 'home_ownership_ordinal', 'dti_band_tree', 'initial_list_status_flag', 'verification_status_final', 'inq_to_open_acc_ratio', 'term_tree', 'loan_to_installment_ratio', 'income_band_tree', 'delinquency_score', 'avg_cur_bal_missing', 'cur_bal_to_loan', 'dti_final']\n",
      "Columns to drop ['annual_inc', 'mths_since_last_delinq', 'tax_liens', 'revol_bal', 'open_acc_6m', 'installment', 'term', 'acc_open_past_24mths', 'mths_since_recent_bc_dlq', 'revol_bal_joint', 'initial_list_status', 'dti', 'open_il_12m', 'home_ownership', 'revol_util', 'fico_range_high', 'open_act_il', 'mths_since_recent_revol_delinq', 'mths_since_last_record', 'emp_length_clean', 'tot_coll_amt', 'dti_joint', 'total_bal_il', 'is_joint_app', 'purpose', 'earliest_cr_line_final', 'hardship_dpd', 'earliest_cr_line', 'inq_last_6mths', 'issue_d', 'hardship_loan_status', 'emp_length', 'purpose_cleaned', 'mths_since_recent_inq', 'fico_range_low', 'sec_app_earliest_cr_line', 'inq_last_12m', 'verification_status', 'grade', 'hardship_flag', 'loan_amnt', 'avg_cur_bal', 'total_acc', 'sub_grade', 'annual_inc_joint', 'mort_acc', 'funded_amnt', 'open_acc', 'acc_now_delinq', 'delinq_2yrs', 'total_payments', 'verification_status_joint', 'mths_since_last_major_derog']\n"
     ]
    }
   ],
   "source": [
    "cols_for_reg = list(set(cols_for_reg + [\"mths_since_recent_inq_capped\"]))\n",
    "\n",
    "cols_for_tree = list(set(cols_for_tree + [\"mths_since_recent_inq_missing\", \"had_recent_inquiry\"]))\n",
    "\n",
    "drop_cols = list(set(drop_cols + [\"mths_since_recent_inq\"]))\n",
    "\n",
    "print(f\"Columns for the regression-based models: {cols_for_reg}\")\n",
    "print(f\"Columns for the tree-based models: {cols_for_tree}\")\n",
    "print(f\"Columns to drop {drop_cols}\")"
   ],
   "metadata": {
    "collapsed": false,
    "ExecuteTime": {
     "end_time": "2025-04-02T16:35:27.676475Z",
     "start_time": "2025-04-02T16:35:27.180185Z"
    }
   }
  },
  {
   "cell_type": "markdown",
   "source": [
    "### Engineering recent trade line features with `process_num_tl_op_past_12m()` in `/feature_engineering/nodes.py`\n",
    "\n",
    "**Functionality:**\n",
    "Processes the `num_tl_op_past_12m` field (number of trade lines opened in past 12 months) for use in regression and tree-based models by handling invalid values, adding missing flags, and capping.\n",
    "\n",
    "**Inputs:**\n",
    "- `num_tl_op_past_12m` — number of new credit trade lines opened in the past 12 months\n",
    "\n",
    "**Outputs:**\n",
    "- `num_tl_op_past_12m_missing` — binary flag for missing values (tree)\n",
    "- `num_tl_op_past_12m_capped` — numeric version capped at 10 (regression)\n",
    "\n",
    "**New field(s):**\n",
    "- `num_tl_op_past_12m_missing` — ✔️ **tree-based models**\n",
    "- `num_tl_op_past_12m_capped` — ✔️ **regression models**\n",
    "\n",
    "**Drop field(s):**\n",
    "- `num_tl_op_past_12m` — ✅ **Can be dropped** after transformation\n",
    "\n",
    "**Notes:**\n",
    "- Negative values are treated as missing\n",
    "- Cap of 10 aligns with practical business logic and prevents skew\n",
    "- Useful for capturing borrower credit-seeking behavior in recent year"
   ],
   "metadata": {
    "collapsed": false
   }
  },
  {
   "cell_type": "code",
   "execution_count": 154,
   "outputs": [
    {
     "name": "stdout",
     "output_type": "stream",
     "text": [
      "Columns for the regression-based models: ['util_normalized_reg', 'major_derog_score', 'credit_age_months', 'avg_bal_per_acc', 'term_rate_interaction_reg', 'income_log_reg', 'util_buckets_reg', 'delinq_2yrs_reg', 'pub_rec', 'term_normalized_reg', 'revol_util_reg', 'recent_acc_ratio', 'revol_bal_final', 'annual_inc_final', 'sub_grade_encoded', 'cur_bal_to_income', 'interest_burden_pct', 'payment_to_income', 'has_hardship', 'has_derogatory', 'fico_average', 'mths_since_last_record_filled', 'mortgage_ratio', 'mths_since_recent_inq_capped', 'active_acc_ratio', 'num_tl_op_past_12m_capped', 'avg_cur_bal_log', 'dti_log_reg', 'inst_to_revol_ratio', 'int_rate', 'recent_inquiry_intensity', 'mths_since_last_major_derog_filled', 'income_to_loan_reg', 'dti_normalized_reg', 'was_late_before_hardship', 'hardship_dpd_filled', 'emp_length_clean_reg', 'grade_encoded', 'loan_status_binary', 'delinq_severity_reg', 'purpose_risk_score', 'home_ownership_ordinal', 'initial_list_status_flag', 'verification_status_final', 'inq_to_open_acc_ratio', 'loan_to_installment_ratio', 'delinq_weight', 'log_tot_cur_bal', 'cur_bal_to_loan', 'dti_final']\n",
      "Columns for the tree-based models: ['high_payment_burden', 'credit_age_months', 'delinq_2yrs_tree', 'avg_bal_per_acc', 'is_high_util_tree', 'util_band_tree', 'pub_rec', 'recent_acc_ratio', 'loan_amount_band', 'revol_bal_final', 'annual_inc_final', 'sub_grade_encoded', 'cur_bal_to_income', 'interest_burden_pct', 'payment_to_income', 'has_hardship', 'purpose_risk_category', 'has_derogatory', 'purpose_high_risk', 'recent_delinq_bin', 'is_high_income_tree', 'debt_composition_type', 'fico_average', 'has_recent_delinq_tree', 'mths_since_last_record_filled', 'mortgage_ratio', 'rapid_acc_acquisition', 'active_acc_ratio', 'emp_length_clean_tree', 'purpose_other', 'num_tl_op_past_12m_missing', 'fico_risk_band', 'recent_major_derog_flag', 'inst_to_revol_ratio', 'is_high_dti_tree', 'tot_cur_bal_missing', 'int_rate', 'recent_inquiry_intensity', 'purpose_nan', 'revol_util_tree', 'mths_since_last_major_derog_filled', 'mths_since_recent_inq_missing', 'was_late_before_hardship', 'hardship_dpd_filled', 'has_delinq_tree', 'grade_encoded', 'has_mortgage', 'loan_status_binary', 'had_recent_inquiry', 'purpose_risk_score', 'high_recent_inquiries', 'home_ownership_ordinal', 'dti_band_tree', 'initial_list_status_flag', 'verification_status_final', 'inq_to_open_acc_ratio', 'term_tree', 'loan_to_installment_ratio', 'income_band_tree', 'delinquency_score', 'avg_cur_bal_missing', 'cur_bal_to_loan', 'dti_final']\n",
      "Columns to drop ['annual_inc', 'mths_since_last_delinq', 'tax_liens', 'revol_bal', 'open_acc_6m', 'term', 'acc_open_past_24mths', 'mths_since_recent_bc_dlq', 'revol_bal_joint', 'initial_list_status', 'dti', 'open_il_12m', 'revol_util', 'home_ownership', 'fico_range_high', 'open_act_il', 'mths_since_recent_revol_delinq', 'mths_since_last_record', 'emp_length_clean', 'tot_coll_amt', 'dti_joint', 'num_tl_op_past_12m', 'total_bal_il', 'is_joint_app', 'purpose', 'delinq_2yrs', 'earliest_cr_line_final', 'hardship_dpd', 'earliest_cr_line', 'acc_now_delinq', 'inq_last_6mths', 'issue_d', 'hardship_loan_status', 'emp_length', 'purpose_cleaned', 'mths_since_recent_inq', 'fico_range_low', 'sec_app_earliest_cr_line', 'inq_last_12m', 'verification_status', 'grade', 'hardship_flag', 'loan_amnt', 'avg_cur_bal', 'total_acc', 'annual_inc_joint', 'mort_acc', 'funded_amnt', 'open_acc', 'sub_grade', 'installment', 'total_payments', 'verification_status_joint', 'mths_since_last_major_derog']\n"
     ]
    }
   ],
   "source": [
    "cols_for_reg = list(set(cols_for_reg + [\"num_tl_op_past_12m_capped\"]))\n",
    "\n",
    "cols_for_tree = list(set(cols_for_tree + [\"num_tl_op_past_12m_missing\"]))\n",
    "\n",
    "drop_cols = list(set(drop_cols + [\"num_tl_op_past_12m\"]))\n",
    "\n",
    "print(f\"Columns for the regression-based models: {cols_for_reg}\")\n",
    "print(f\"Columns for the tree-based models: {cols_for_tree}\")\n",
    "print(f\"Columns to drop {drop_cols}\")"
   ],
   "metadata": {
    "collapsed": false,
    "ExecuteTime": {
     "end_time": "2025-04-02T16:35:27.676580Z",
     "start_time": "2025-04-02T16:35:27.185533Z"
    }
   }
  },
  {
   "cell_type": "markdown",
   "source": [
    "### Engineering bankruptcy features with `process_pub_rec_bankruptcies()` in `/feature_engineering/nodes.py`\n",
    "\n",
    "**Functionality:**\n",
    "Processes the `pub_rec_bankruptcies` field to support both regression and tree-based models through cleaning, missing value handling, and derived risk indicators.\n",
    "\n",
    "**Inputs:**\n",
    "- `pub_rec_bankruptcies` — number of public records of bankruptcy (may contain nulls or negatives)\n",
    "\n",
    "**Outputs:**\n",
    "- `pub_rec_bankruptcies_missing` — binary flag for missing values (tree)\n",
    "- `pub_rec_bankruptcies_capped` — version clipped at 3 for outlier handling (regression)\n",
    "- `has_bankruptcy` — binary feature for whether applicant has ever declared bankruptcy (used in both models)\n",
    "\n",
    "**New field(s):**\n",
    "- `pub_rec_bankruptcies_missing` — ✔️ **tree-based models**\n",
    "- `pub_rec_bankruptcies_capped` — ✔️ **regression models**\n",
    "- `has_bankruptcy` — ✔️ **tree and regression models**\n",
    "\n",
    "**Drop field(s):**\n",
    "- `pub_rec_bankruptcies` — ✅ **Can be dropped** after transformation\n",
    "\n",
    "**Notes:**\n",
    "- Negative values are coerced to `NaN`\n",
    "- Capping at 3 prevents distortion from rare extreme values\n",
    "- `has_bankruptcy` is a strong signal for credit risk in many scoring models"
   ],
   "metadata": {
    "collapsed": false
   }
  },
  {
   "cell_type": "code",
   "execution_count": 155,
   "outputs": [
    {
     "name": "stdout",
     "output_type": "stream",
     "text": [
      "Columns for the regression-based models: ['util_normalized_reg', 'major_derog_score', 'credit_age_months', 'avg_bal_per_acc', 'term_rate_interaction_reg', 'income_log_reg', 'util_buckets_reg', 'delinq_2yrs_reg', 'pub_rec', 'term_normalized_reg', 'revol_util_reg', 'recent_acc_ratio', 'revol_bal_final', 'annual_inc_final', 'sub_grade_encoded', 'cur_bal_to_income', 'interest_burden_pct', 'payment_to_income', 'has_hardship', 'has_derogatory', 'pub_rec_bankruptcies_capped', 'fico_average', 'mths_since_last_record_filled', 'mortgage_ratio', 'mths_since_recent_inq_capped', 'active_acc_ratio', 'num_tl_op_past_12m_capped', 'avg_cur_bal_log', 'dti_log_reg', 'inst_to_revol_ratio', 'int_rate', 'recent_inquiry_intensity', 'mths_since_last_major_derog_filled', 'income_to_loan_reg', 'dti_normalized_reg', 'was_late_before_hardship', 'hardship_dpd_filled', 'emp_length_clean_reg', 'grade_encoded', 'loan_status_binary', 'delinq_severity_reg', 'purpose_risk_score', 'home_ownership_ordinal', 'initial_list_status_flag', 'verification_status_final', 'inq_to_open_acc_ratio', 'loan_to_installment_ratio', 'delinq_weight', 'log_tot_cur_bal', 'cur_bal_to_loan', 'dti_final']\n",
      "Columns for the tree-based models: ['pub_rec_bankruptcies_missing', 'high_payment_burden', 'credit_age_months', 'delinq_2yrs_tree', 'avg_bal_per_acc', 'is_high_util_tree', 'util_band_tree', 'pub_rec', 'recent_acc_ratio', 'loan_amount_band', 'revol_bal_final', 'annual_inc_final', 'sub_grade_encoded', 'cur_bal_to_income', 'interest_burden_pct', 'payment_to_income', 'has_hardship', 'purpose_risk_category', 'has_derogatory', 'purpose_high_risk', 'recent_delinq_bin', 'is_high_income_tree', 'debt_composition_type', 'fico_average', 'has_recent_delinq_tree', 'mths_since_last_record_filled', 'mortgage_ratio', 'rapid_acc_acquisition', 'active_acc_ratio', 'emp_length_clean_tree', 'purpose_other', 'num_tl_op_past_12m_missing', 'fico_risk_band', 'recent_major_derog_flag', 'inst_to_revol_ratio', 'is_high_dti_tree', 'tot_cur_bal_missing', 'int_rate', 'recent_inquiry_intensity', 'purpose_nan', 'revol_util_tree', 'mths_since_last_major_derog_filled', 'mths_since_recent_inq_missing', 'was_late_before_hardship', 'hardship_dpd_filled', 'has_delinq_tree', 'grade_encoded', 'has_mortgage', 'loan_status_binary', 'had_recent_inquiry', 'purpose_risk_score', 'high_recent_inquiries', 'home_ownership_ordinal', 'dti_band_tree', 'initial_list_status_flag', 'verification_status_final', 'inq_to_open_acc_ratio', 'term_tree', 'loan_to_installment_ratio', 'income_band_tree', 'delinquency_score', 'avg_cur_bal_missing', 'cur_bal_to_loan', 'dti_final']\n",
      "Columns to drop ['annual_inc', 'mths_since_last_delinq', 'tax_liens', 'revol_bal', 'open_acc_6m', 'installment', 'term', 'acc_open_past_24mths', 'mths_since_recent_bc_dlq', 'revol_bal_joint', 'initial_list_status', 'dti', 'home_ownership', 'open_il_12m', 'revol_util', 'pub_rec_bankruptcies', 'fico_range_high', 'open_act_il', 'mths_since_recent_revol_delinq', 'mths_since_last_record', 'emp_length_clean', 'tot_coll_amt', 'dti_joint', 'num_tl_op_past_12m', 'total_bal_il', 'is_joint_app', 'purpose', 'earliest_cr_line_final', 'hardship_dpd', 'earliest_cr_line', 'inq_last_6mths', 'issue_d', 'hardship_loan_status', 'emp_length', 'purpose_cleaned', 'mths_since_recent_inq', 'fico_range_low', 'sec_app_earliest_cr_line', 'inq_last_12m', 'verification_status', 'grade', 'hardship_flag', 'loan_amnt', 'avg_cur_bal', 'total_acc', 'sub_grade', 'annual_inc_joint', 'mort_acc', 'funded_amnt', 'open_acc', 'acc_now_delinq', 'delinq_2yrs', 'total_payments', 'verification_status_joint', 'mths_since_last_major_derog']\n"
     ]
    }
   ],
   "source": [
    "cols_for_reg = list(set(cols_for_reg + [\"pub_rec_bankruptcies_capped\"]))\n",
    "\n",
    "cols_for_tree = list(set(cols_for_tree + [\"pub_rec_bankruptcies_missing\"]))\n",
    "\n",
    "drop_cols = list(set(drop_cols + [\"pub_rec_bankruptcies\"]))\n",
    "\n",
    "print(f\"Columns for the regression-based models: {cols_for_reg}\")\n",
    "print(f\"Columns for the tree-based models: {cols_for_tree}\")\n",
    "print(f\"Columns to drop {drop_cols}\")"
   ],
   "metadata": {
    "collapsed": false,
    "ExecuteTime": {
     "end_time": "2025-04-02T16:35:27.676697Z",
     "start_time": "2025-04-02T16:35:27.189281Z"
    }
   }
  },
  {
   "cell_type": "markdown",
   "source": [],
   "metadata": {
    "collapsed": false
   }
  }
 ],
 "metadata": {
  "kernelspec": {
   "display_name": "Python 3",
   "language": "python",
   "name": "python3"
  },
  "language_info": {
   "codemirror_mode": {
    "name": "ipython",
    "version": 2
   },
   "file_extension": ".py",
   "mimetype": "text/x-python",
   "name": "python",
   "nbconvert_exporter": "python",
   "pygments_lexer": "ipython2",
   "version": "2.7.6"
  }
 },
 "nbformat": 4,
 "nbformat_minor": 0
}
