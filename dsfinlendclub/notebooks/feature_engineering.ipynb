{
 "cells": [
  {
   "cell_type": "markdown",
   "source": [
    "### Stage 2. Feature engineering for the redit scoring model.\n",
    "| Field                                             | Keep/Remove | Rationale                                                    |\n",
    "|---------------------------------------------------|------------|---------------------------------------------------------------|\n",
    "| loan_amnt, funded_amnt, installment               | Keep | Core loan characteristics that directly impact risk assessment      |\n",
    "| annual_inc, annual_inc_joint                      | Keep one | Individual income for non-joint applications, joint income for joint applications |\n",
    "| dti, dti_joint                                    | Keep one | Same logic as income - keep relevant DTI based on application type  |\n",
    "| fico_range_low, fico_range_high                   | Keep | Critical credit quality indicators                                  |\n",
    "| term, int_rate, grade, sub_grade                  | Keep | Core loan terms and risk assessment                                 |\n",
    "| emp_length, earliest_cr_line                      | Keep | Important stability indicators                                      |\n",
    "| delinq_2yrs, mths_since_last_delinq               | Keep | Key delinquency metrics                                             |\n",
    "| revol_util, revol_bal, revol_bal_joint            | Keep one | Keep individual revolving data for non-joint apps               |\n",
    "| open_acc, total_acc, open_acc_6m                  | Keep | Account management indicators                                       |\n",
    "| purpose, home_ownership                           | Keep | Important contextual factors                                        |\n",
    "| hardship_flag, hardship_loan_status, hardship_dpd | Combine | Consider combining into single hardship indicator                |\n",
    "| initial_list_status                               | Remove | Less relevant for risk assessment                                 |\n",
    "| is_joint_app                                      | Keep | Important application characteristic                                |\n",
    "| inq_last_6mths                                    | Keep | Recent credit seeking behavior                                      |\n",
    "| pub_rec, mths_since_last_record                   | Keep | Public record items important for risk                              |\n",
    "| sec_app_earliest_cr_line                          | Remove if non-joint | Only relevant for joint applications                 |\n",
    "| mths_since_last_major_derog                       | Keep | Important derogatory indicator                                      |"
   ],
   "metadata": {
    "collapsed": false
   }
  }
 ],
 "metadata": {
  "kernelspec": {
   "display_name": "Python 3",
   "language": "python",
   "name": "python3"
  },
  "language_info": {
   "codemirror_mode": {
    "name": "ipython",
    "version": 2
   },
   "file_extension": ".py",
   "mimetype": "text/x-python",
   "name": "python",
   "nbconvert_exporter": "python",
   "pygments_lexer": "ipython2",
   "version": "2.7.6"
  }
 },
 "nbformat": 4,
 "nbformat_minor": 0
}
